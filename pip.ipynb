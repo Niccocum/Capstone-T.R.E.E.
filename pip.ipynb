{
 "cells": [
  {
   "cell_type": "code",
   "execution_count": 1,
   "metadata": {},
   "outputs": [],
   "source": [
    "# standard import of pandas\n",
    "import pandas as pd\n",
    "# additional import of the geopandas package\n",
    "import geopandas as gpd\n",
    "# import numpy\n",
    "import numpy as np\n",
    "# package for unzipping zip files\n",
    "import zipfile \n",
    "# driver for geopandas \n",
    "import fiona; #help(fiona.open) \n",
    "# import matplotlib\n",
    "import matplotlib.pyplot as plt\n",
    "# hides warning messages\n",
    "#import warnings\n",
    "#warnings.filterwarnings(\"ignore\")\n",
    "from shapely.geometry import Point, Polygon"
   ]
  },
  {
   "cell_type": "code",
   "execution_count": null,
   "metadata": {},
   "outputs": [],
   "source": [
    "#trees\n",
    "trees_data = gpd.read_file(\"data/cleaned/trees.geojson\")"
   ]
  },
  {
   "cell_type": "code",
   "execution_count": 12,
   "metadata": {},
   "outputs": [],
   "source": [
    "#trees update 07.09.2022\n",
    "trees_data = gpd.read_file(\"data/cleaned/trees_cl_new.geojson\")"
   ]
  },
  {
   "cell_type": "code",
   "execution_count": 13,
   "metadata": {},
   "outputs": [
    {
     "name": "stdout",
     "output_type": "stream",
     "text": [
      "<class 'geopandas.geodataframe.GeoDataFrame'>\n",
      "RangeIndex: 801202 entries, 0 to 801201\n",
      "Data columns (total 13 columns):\n",
      " #   Column      Non-Null Count   Dtype   \n",
      "---  ------      --------------   -----   \n",
      " 0   baum_id     801202 non-null  object  \n",
      " 1   art_dtsch   798790 non-null  object  \n",
      " 2   art_bot     801202 non-null  object  \n",
      " 3   gattung     798792 non-null  object  \n",
      " 4   pflanzjahr  801202 non-null  int64   \n",
      " 5   standalter  801202 non-null  int64   \n",
      " 6   kronedurch  451596 non-null  float64 \n",
      " 7   stammumfg   795511 non-null  float64 \n",
      " 8   baumhoehe   633094 non-null  float64 \n",
      " 9   namenr      801178 non-null  object  \n",
      " 10  bezirk      801202 non-null  object  \n",
      " 11  typ         801202 non-null  int64   \n",
      " 12  geometry    801202 non-null  geometry\n",
      "dtypes: float64(3), geometry(1), int64(3), object(6)\n",
      "memory usage: 79.5+ MB\n"
     ]
    }
   ],
   "source": [
    "# creating new Dataframe so we don't have to reimport it if something goes wrong\n",
    "trees = trees_data\n",
    "trees.info()"
   ]
  },
  {
   "cell_type": "code",
   "execution_count": null,
   "metadata": {},
   "outputs": [],
   "source": [
    "### versiegelung \n",
    "vers_data = gpd.read_file(\"data/cleaned/versiegelung_cl.geojson\")"
   ]
  },
  {
   "cell_type": "code",
   "execution_count": null,
   "metadata": {},
   "outputs": [],
   "source": [
    "#bodendaten \n",
    "boden_data = gpd.read_file(\"data/cleaned/boden_cl.geojson\")"
   ]
  },
  {
   "cell_type": "code",
   "execution_count": null,
   "metadata": {},
   "outputs": [],
   "source": [
    "boden_test = boden_data"
   ]
  },
  {
   "cell_type": "code",
   "execution_count": null,
   "metadata": {},
   "outputs": [],
   "source": [
    "boden_test = boden_test.convert_dtypes()"
   ]
  },
  {
   "cell_type": "code",
   "execution_count": null,
   "metadata": {},
   "outputs": [],
   "source": [
    "boden_test.info()"
   ]
  },
  {
   "cell_type": "code",
   "execution_count": null,
   "metadata": {},
   "outputs": [],
   "source": [
    "boden_test.boundary.plot(linewidth=1, edgecolor=\"magenta\",figsize=(100,100))"
   ]
  },
  {
   "cell_type": "code",
   "execution_count": null,
   "metadata": {},
   "outputs": [],
   "source": [
    "boden_test = boden_test.to_crs(trees.crs)"
   ]
  },
  {
   "cell_type": "code",
   "execution_count": null,
   "metadata": {},
   "outputs": [],
   "source": [
    "trees_str = gpd.tools.sjoin_nearest(trees, boden_test, distance_col=\"distances\")"
   ]
  },
  {
   "cell_type": "code",
   "execution_count": null,
   "metadata": {},
   "outputs": [],
   "source": [
    "trees_str.duplicated('baum_id').value_counts()"
   ]
  },
  {
   "cell_type": "code",
   "execution_count": null,
   "metadata": {},
   "outputs": [],
   "source": [
    "trees_str.drop_duplicates(subset='baum_id', inplace=True)"
   ]
  },
  {
   "cell_type": "code",
   "execution_count": null,
   "metadata": {},
   "outputs": [],
   "source": [
    "trees_str.info()"
   ]
  },
  {
   "cell_type": "code",
   "execution_count": null,
   "metadata": {},
   "outputs": [],
   "source": [
    "trees_str['boden_id'].count()"
   ]
  },
  {
   "cell_type": "code",
   "execution_count": null,
   "metadata": {},
   "outputs": [],
   "source": [
    "trees_str.info()"
   ]
  },
  {
   "cell_type": "code",
   "execution_count": null,
   "metadata": {},
   "outputs": [],
   "source": [
    "#df.astype({'col1': 'int32'}).dtypes\n",
    "boden_int = boden_test.astype({'boden_id': int})"
   ]
  },
  {
   "cell_type": "code",
   "execution_count": null,
   "metadata": {},
   "outputs": [],
   "source": [
    "trees_str.to_csv('data/cleaned/boden_near.csv')"
   ]
  },
  {
   "cell_type": "code",
   "execution_count": null,
   "metadata": {},
   "outputs": [],
   "source": [
    "trees_str = trees_str[['baum_id', 'boden_id']]"
   ]
  },
  {
   "cell_type": "code",
   "execution_count": null,
   "metadata": {},
   "outputs": [],
   "source": [
    "trees_str.info()"
   ]
  },
  {
   "cell_type": "code",
   "execution_count": null,
   "metadata": {},
   "outputs": [],
   "source": [
    "boden_int.head()"
   ]
  },
  {
   "cell_type": "code",
   "execution_count": null,
   "metadata": {},
   "outputs": [],
   "source": [
    "#Neuköllnische Allee\n",
    "#Fritzi-Massary-Straße\n",
    "#Sonnenallee"
   ]
  },
  {
   "cell_type": "code",
   "execution_count": null,
   "metadata": {},
   "outputs": [],
   "source": [
    "# Example use: get points in Los Angeles, CA.\n",
    "#pointInLor = gpd.tools.sjoin(both, lor, predicate=\"within\", how='left')\n",
    "#pnt_LA = points[pointInPolys.NAME=='Los Angeles']\n",
    "#pnt_ber = both[pointInLor.PLR_NAME=='Parchimer Allee Süd']"
   ]
  },
  {
   "cell_type": "code",
   "execution_count": null,
   "metadata": {},
   "outputs": [],
   "source": [
    "neu = trees_str[trees_str.namenr=='Neuköllnische Allee']\n"
   ]
  },
  {
   "cell_type": "code",
   "execution_count": null,
   "metadata": {},
   "outputs": [],
   "source": [
    "fritz = trees_str[trees_str.namenr=='Fritzi-Massary-Straße']\n",
    "sonne = trees_str[trees_str.namenr=='Sonnenallee']"
   ]
  },
  {
   "cell_type": "code",
   "execution_count": null,
   "metadata": {},
   "outputs": [],
   "source": [
    "nur_id = trees_str[trees_str.boden_id=='1400776341000100']"
   ]
  },
  {
   "cell_type": "code",
   "execution_count": null,
   "metadata": {},
   "outputs": [],
   "source": [
    "neu = neu.to_crs(trees_str.crs)"
   ]
  },
  {
   "cell_type": "code",
   "execution_count": null,
   "metadata": {},
   "outputs": [],
   "source": [
    "sonne = sonne.to_crs(trees_str.crs)"
   ]
  },
  {
   "cell_type": "code",
   "execution_count": null,
   "metadata": {},
   "outputs": [],
   "source": [
    "fritz = fritz.to_crs(trees_str.crs)"
   ]
  },
  {
   "cell_type": "code",
   "execution_count": null,
   "metadata": {},
   "outputs": [],
   "source": [
    "fritz.info()"
   ]
  },
  {
   "cell_type": "code",
   "execution_count": null,
   "metadata": {},
   "outputs": [],
   "source": [
    "neu = neu.to_crs(boden_test.crs)"
   ]
  },
  {
   "cell_type": "code",
   "execution_count": null,
   "metadata": {},
   "outputs": [],
   "source": [
    "sonne = sonne.to_crs(boden_test.crs)"
   ]
  },
  {
   "cell_type": "code",
   "execution_count": null,
   "metadata": {},
   "outputs": [],
   "source": [
    "fritz = fritz.to_crs(boden_test.crs)"
   ]
  },
  {
   "cell_type": "code",
   "execution_count": null,
   "metadata": {},
   "outputs": [],
   "source": [
    "trees_str = trees_str.to_crs(boden_test.crs)"
   ]
  },
  {
   "cell_type": "code",
   "execution_count": null,
   "metadata": {},
   "outputs": [],
   "source": [
    "nur_id = nur_id.to_crs(boden_test.crs)"
   ]
  },
  {
   "cell_type": "code",
   "execution_count": null,
   "metadata": {},
   "outputs": [],
   "source": [
    "nur_id['baum_id']"
   ]
  },
  {
   "cell_type": "code",
   "execution_count": null,
   "metadata": {},
   "outputs": [],
   "source": [
    "fritz['boden_id']"
   ]
  },
  {
   "cell_type": "code",
   "execution_count": null,
   "metadata": {},
   "outputs": [],
   "source": [
    "sonne['boden_id']"
   ]
  },
  {
   "cell_type": "code",
   "execution_count": null,
   "metadata": {},
   "outputs": [],
   "source": [
    "neu['boden_id']"
   ]
  },
  {
   "cell_type": "code",
   "execution_count": null,
   "metadata": {},
   "outputs": [],
   "source": [
    "import matplotlib.pyplot as plt\n",
    "\n",
    "fig, ax = plt.subplots(figsize=(150,150))\n",
    "ax.set_aspect('equal')\n",
    "\n",
    "boden_test.boundary.plot(ax=ax, edgecolor='magenta')\n",
    "trees_str.plot(ax=ax, color='teal')\n",
    "nur_id.plot(ax=ax, marker='o', color='gold', markersize=50)\n",
    "\n",
    "\n",
    "plt.show();"
   ]
  },
  {
   "cell_type": "code",
   "execution_count": null,
   "metadata": {},
   "outputs": [],
   "source": [
    "fig, ax = plt.subplots(figsize=(50,50))\n",
    "ax.set_aspect('equal')\n",
    "lor.boundary.plot(ax=ax, color='black', edgecolor='black')\n",
    "strassenbaeume.plot(ax=ax, linewidth=1,marker = 'o', color=\"seagreen\", markersize=5)\n",
    "pnt_rol_par.plot(ax=ax, marker='o', color='gold', markersize=5)\n",
    "lor.apply(lambda x: ax.annotate(text=x['PLR_NAME'], xy=x.geometry.centroid.coords[0], ha='center'), axis=1)\n",
    "\n",
    "plt.show();"
   ]
  },
  {
   "cell_type": "code",
   "execution_count": null,
   "metadata": {},
   "outputs": [],
   "source": [
    "boden_int = boden_int.to_crs(trees.crs)"
   ]
  },
  {
   "cell_type": "code",
   "execution_count": null,
   "metadata": {},
   "outputs": [],
   "source": [
    "#spatial join trees to updated boden data \n",
    "trees_int = gpd.tools.sjoin(trees, boden_int, predicate=\"within\", how='left')"
   ]
  },
  {
   "cell_type": "code",
   "execution_count": null,
   "metadata": {},
   "outputs": [],
   "source": [
    "trees_int.head()"
   ]
  },
  {
   "cell_type": "code",
   "execution_count": null,
   "metadata": {},
   "outputs": [],
   "source": [
    "boden_update = trees_str[['baum_id', 'boden_id']]"
   ]
  },
  {
   "cell_type": "code",
   "execution_count": null,
   "metadata": {},
   "outputs": [],
   "source": [
    "boden_update['boden_id'].nunique()"
   ]
  },
  {
   "cell_type": "code",
   "execution_count": null,
   "metadata": {},
   "outputs": [],
   "source": [
    "boden_update"
   ]
  },
  {
   "cell_type": "code",
   "execution_count": null,
   "metadata": {},
   "outputs": [],
   "source": [
    "boden_update.to_csv('data/cleaned/boden_referenz.csv')"
   ]
  },
  {
   "cell_type": "code",
   "execution_count": null,
   "metadata": {},
   "outputs": [],
   "source": [
    "boden_update['boden_id'].isnull().count()"
   ]
  },
  {
   "cell_type": "code",
   "execution_count": null,
   "metadata": {},
   "outputs": [],
   "source": [
    "# LOR geodata\n",
    "lor_cl = gpd.read_file('data/cleaned/lor_cl.geojson')"
   ]
  },
  {
   "cell_type": "code",
   "execution_count": null,
   "metadata": {},
   "outputs": [],
   "source": [
    "# converting for not having to load the dataset every time\n",
    "#trees = tree_data\n",
    "#vers = vers_data\n",
    "boden = boden_update\n",
    "#gw_messstellen geodata subser\n",
    "#gw_data = gpd.read_file('data/cleaned/gw_subset.geojson')\n",
    "#gw = gw_data"
   ]
  },
  {
   "cell_type": "code",
   "execution_count": 14,
   "metadata": {},
   "outputs": [],
   "source": [
    "#reccalculation data with a reduced cleaned dataset on Sep 7th \n",
    "gw_data = gpd.read_file('data/cleaned/gw_subset_cl_changed_05_09_22_.geojson')"
   ]
  },
  {
   "cell_type": "code",
   "execution_count": null,
   "metadata": {},
   "outputs": [],
   "source": [
    "#check dataset\n",
    "trees.head(2)"
   ]
  },
  {
   "cell_type": "code",
   "execution_count": null,
   "metadata": {},
   "outputs": [],
   "source": [
    "boden.head()"
   ]
  },
  {
   "cell_type": "code",
   "execution_count": null,
   "metadata": {},
   "outputs": [],
   "source": [
    "#check lor crs as reference\n",
    "#lor_cl.crs"
   ]
  },
  {
   "cell_type": "code",
   "execution_count": null,
   "metadata": {},
   "outputs": [],
   "source": [
    "# check boden crs \n",
    "#boden.crs"
   ]
  },
  {
   "cell_type": "code",
   "execution_count": null,
   "metadata": {},
   "outputs": [],
   "source": [
    "#check versieglung crs\n",
    "#vers.crs"
   ]
  },
  {
   "cell_type": "code",
   "execution_count": null,
   "metadata": {},
   "outputs": [],
   "source": [
    "#testplot to check crs\n",
    "#boden.plot(figsize=(20,20))"
   ]
  },
  {
   "cell_type": "code",
   "execution_count": null,
   "metadata": {},
   "outputs": [],
   "source": [
    "#matching CRS for vers extraction\n",
    "#vers = vers.to_crs(trees.crs)\n"
   ]
  },
  {
   "cell_type": "code",
   "execution_count": null,
   "metadata": {},
   "outputs": [],
   "source": [
    "#matching CRS for boden extraction\n",
    "#boden = boden.to_crs(trees.crs)"
   ]
  },
  {
   "cell_type": "code",
   "execution_count": null,
   "metadata": {},
   "outputs": [],
   "source": [
    "#testplot\n",
    "#vers.plot(figsize=(25,25));"
   ]
  },
  {
   "cell_type": "code",
   "execution_count": null,
   "metadata": {},
   "outputs": [],
   "source": [
    "# spacial joining trees on vers - multipolygons as trees_vers_sj \n",
    "trees_vers_sj = gpd.tools.sjoin(trees, vers, predicate=\"within\", how='left')"
   ]
  },
  {
   "cell_type": "code",
   "execution_count": null,
   "metadata": {},
   "outputs": [],
   "source": [
    "trees_vers_sj"
   ]
  },
  {
   "cell_type": "code",
   "execution_count": null,
   "metadata": {},
   "outputs": [],
   "source": [
    "#reducing the output\n",
    "trees_vers_id = trees_vers_sj[['baum_id', 'boden_id', 'geometry']]"
   ]
  },
  {
   "cell_type": "code",
   "execution_count": null,
   "metadata": {},
   "outputs": [],
   "source": [
    "#exporting to csv\n",
    "trees_vers_id.to_csv('data/cleaned/baum_id_boden_id_geometry.csv')"
   ]
  },
  {
   "cell_type": "code",
   "execution_count": null,
   "metadata": {},
   "outputs": [],
   "source": [
    "#### now matching trees to groundwater stations \n",
    "\n"
   ]
  },
  {
   "cell_type": "code",
   "execution_count": null,
   "metadata": {},
   "outputs": [],
   "source": [
    "#tesplot trees\n",
    "trees.plot(figsize=(25,25));"
   ]
  },
  {
   "cell_type": "code",
   "execution_count": null,
   "metadata": {},
   "outputs": [],
   "source": [
    "#testplot gw data\n",
    "gw_data.plot(figsize=(25,25));"
   ]
  },
  {
   "cell_type": "code",
   "execution_count": null,
   "metadata": {},
   "outputs": [],
   "source": [
    "# renaiming dataframe to keep the source and not having to import it again "
   ]
  },
  {
   "cell_type": "code",
   "execution_count": 15,
   "metadata": {},
   "outputs": [],
   "source": [
    "gw = gw_data"
   ]
  },
  {
   "cell_type": "code",
   "execution_count": 6,
   "metadata": {},
   "outputs": [],
   "source": [
    "#matching tree crs to gw station crs \n",
    "trees = trees.to_crs(gw.crs)"
   ]
  },
  {
   "cell_type": "code",
   "execution_count": 16,
   "metadata": {},
   "outputs": [],
   "source": [
    "#geopandas.sjoin_nearest trees sjoin nearest on gw stations\n",
    "\n",
    "trees_dist_gw = gpd.tools.sjoin_nearest(trees, gw, distance_col=\"distances\")"
   ]
  },
  {
   "cell_type": "code",
   "execution_count": 17,
   "metadata": {},
   "outputs": [
    {
     "data": {
      "text/html": [
       "<div>\n",
       "<style scoped>\n",
       "    .dataframe tbody tr th:only-of-type {\n",
       "        vertical-align: middle;\n",
       "    }\n",
       "\n",
       "    .dataframe tbody tr th {\n",
       "        vertical-align: top;\n",
       "    }\n",
       "\n",
       "    .dataframe thead th {\n",
       "        text-align: right;\n",
       "    }\n",
       "</style>\n",
       "<table border=\"1\" class=\"dataframe\">\n",
       "  <thead>\n",
       "    <tr style=\"text-align: right;\">\n",
       "      <th></th>\n",
       "      <th>baum_id</th>\n",
       "      <th>art_dtsch</th>\n",
       "      <th>art_bot</th>\n",
       "      <th>gattung</th>\n",
       "      <th>pflanzjahr</th>\n",
       "      <th>standalter</th>\n",
       "      <th>kronedurch</th>\n",
       "      <th>stammumfg</th>\n",
       "      <th>baumhoehe</th>\n",
       "      <th>namenr</th>\n",
       "      <th>bezirk</th>\n",
       "      <th>typ</th>\n",
       "      <th>geometry</th>\n",
       "      <th>index_right</th>\n",
       "      <th>gw_id</th>\n",
       "      <th>ground_level</th>\n",
       "      <th>xcoord</th>\n",
       "      <th>ycoord</th>\n",
       "      <th>distances</th>\n",
       "    </tr>\n",
       "  </thead>\n",
       "  <tbody>\n",
       "    <tr>\n",
       "      <th>0</th>\n",
       "      <td>00008100:000bbafb</td>\n",
       "      <td>Pyramiden-Hainbuche</td>\n",
       "      <td>carpinus betulus</td>\n",
       "      <td>CARPINUS</td>\n",
       "      <td>1975</td>\n",
       "      <td>47</td>\n",
       "      <td>NaN</td>\n",
       "      <td>109.0</td>\n",
       "      <td>15.0</td>\n",
       "      <td>Fritz-Reuter-Allee</td>\n",
       "      <td>Neukölln</td>\n",
       "      <td>1</td>\n",
       "      <td>POINT (394532.256 5811460.991)</td>\n",
       "      <td>159</td>\n",
       "      <td>496</td>\n",
       "      <td>36.88</td>\n",
       "      <td>394993.3</td>\n",
       "      <td>5811660.53</td>\n",
       "      <td>502.371901</td>\n",
       "    </tr>\n",
       "    <tr>\n",
       "      <th>1</th>\n",
       "      <td>00008100:000bbafd</td>\n",
       "      <td>Berg-Ahorn, Weiss-Ahorn</td>\n",
       "      <td>acer pseudoplatanus</td>\n",
       "      <td>ACER</td>\n",
       "      <td>1975</td>\n",
       "      <td>47</td>\n",
       "      <td>NaN</td>\n",
       "      <td>382.0</td>\n",
       "      <td>NaN</td>\n",
       "      <td>Fritz-Reuter-Allee</td>\n",
       "      <td>Neukölln</td>\n",
       "      <td>1</td>\n",
       "      <td>POINT (394541.924 5811473.217)</td>\n",
       "      <td>159</td>\n",
       "      <td>496</td>\n",
       "      <td>36.88</td>\n",
       "      <td>394993.3</td>\n",
       "      <td>5811660.53</td>\n",
       "      <td>488.698381</td>\n",
       "    </tr>\n",
       "    <tr>\n",
       "      <th>2</th>\n",
       "      <td>00008100:000bbafe</td>\n",
       "      <td>Berg-Ahorn, Weiss-Ahorn</td>\n",
       "      <td>acer pseudoplatanus</td>\n",
       "      <td>ACER</td>\n",
       "      <td>1980</td>\n",
       "      <td>42</td>\n",
       "      <td>NaN</td>\n",
       "      <td>98.0</td>\n",
       "      <td>14.0</td>\n",
       "      <td>Fritz-Reuter-Allee</td>\n",
       "      <td>Neukölln</td>\n",
       "      <td>1</td>\n",
       "      <td>POINT (394548.061 5811479.355)</td>\n",
       "      <td>159</td>\n",
       "      <td>496</td>\n",
       "      <td>36.88</td>\n",
       "      <td>394993.3</td>\n",
       "      <td>5811660.53</td>\n",
       "      <td>480.688779</td>\n",
       "    </tr>\n",
       "    <tr>\n",
       "      <th>3</th>\n",
       "      <td>00008100:000bbaff</td>\n",
       "      <td>Berg-Ahorn, Weiss-Ahorn</td>\n",
       "      <td>acer pseudoplatanus</td>\n",
       "      <td>ACER</td>\n",
       "      <td>1935</td>\n",
       "      <td>87</td>\n",
       "      <td>NaN</td>\n",
       "      <td>189.0</td>\n",
       "      <td>15.0</td>\n",
       "      <td>Fritz-Reuter-Allee</td>\n",
       "      <td>Neukölln</td>\n",
       "      <td>1</td>\n",
       "      <td>POINT (394556.659 5811495.510)</td>\n",
       "      <td>159</td>\n",
       "      <td>496</td>\n",
       "      <td>36.88</td>\n",
       "      <td>394993.3</td>\n",
       "      <td>5811660.53</td>\n",
       "      <td>466.783846</td>\n",
       "    </tr>\n",
       "    <tr>\n",
       "      <th>4</th>\n",
       "      <td>00008100:000bbb00</td>\n",
       "      <td>Berg-Ahorn, Weiss-Ahorn</td>\n",
       "      <td>acer pseudoplatanus</td>\n",
       "      <td>ACER</td>\n",
       "      <td>1975</td>\n",
       "      <td>47</td>\n",
       "      <td>NaN</td>\n",
       "      <td>145.0</td>\n",
       "      <td>15.0</td>\n",
       "      <td>Fritz-Reuter-Allee</td>\n",
       "      <td>Neukölln</td>\n",
       "      <td>1</td>\n",
       "      <td>POINT (394570.160 5811515.745)</td>\n",
       "      <td>159</td>\n",
       "      <td>496</td>\n",
       "      <td>36.88</td>\n",
       "      <td>394993.3</td>\n",
       "      <td>5811660.53</td>\n",
       "      <td>447.224952</td>\n",
       "    </tr>\n",
       "    <tr>\n",
       "      <th>...</th>\n",
       "      <td>...</td>\n",
       "      <td>...</td>\n",
       "      <td>...</td>\n",
       "      <td>...</td>\n",
       "      <td>...</td>\n",
       "      <td>...</td>\n",
       "      <td>...</td>\n",
       "      <td>...</td>\n",
       "      <td>...</td>\n",
       "      <td>...</td>\n",
       "      <td>...</td>\n",
       "      <td>...</td>\n",
       "      <td>...</td>\n",
       "      <td>...</td>\n",
       "      <td>...</td>\n",
       "      <td>...</td>\n",
       "      <td>...</td>\n",
       "      <td>...</td>\n",
       "      <td>...</td>\n",
       "    </tr>\n",
       "    <tr>\n",
       "      <th>712499</th>\n",
       "      <td>00008100:00238739</td>\n",
       "      <td>Sand-Birke</td>\n",
       "      <td>betula pendula</td>\n",
       "      <td>BETULA</td>\n",
       "      <td>0</td>\n",
       "      <td>0</td>\n",
       "      <td>NaN</td>\n",
       "      <td>116.0</td>\n",
       "      <td>16.0</td>\n",
       "      <td>Eiskeller-Silbergraswiese</td>\n",
       "      <td>Spandau</td>\n",
       "      <td>2</td>\n",
       "      <td>POINT (373567.384 5827789.602)</td>\n",
       "      <td>49</td>\n",
       "      <td>15178</td>\n",
       "      <td>31.46</td>\n",
       "      <td>373922.2</td>\n",
       "      <td>5828011.40</td>\n",
       "      <td>418.436168</td>\n",
       "    </tr>\n",
       "    <tr>\n",
       "      <th>745432</th>\n",
       "      <td>00008100:002842a2</td>\n",
       "      <td>Weide</td>\n",
       "      <td>salix spec.</td>\n",
       "      <td>SALIX</td>\n",
       "      <td>0</td>\n",
       "      <td>0</td>\n",
       "      <td>NaN</td>\n",
       "      <td>548.0</td>\n",
       "      <td>18.0</td>\n",
       "      <td>Eiskeller- Biotop</td>\n",
       "      <td>Spandau</td>\n",
       "      <td>2</td>\n",
       "      <td>POINT (373955.337 5828181.014)</td>\n",
       "      <td>47</td>\n",
       "      <td>15176</td>\n",
       "      <td>31.38</td>\n",
       "      <td>373922.0</td>\n",
       "      <td>5828013.50</td>\n",
       "      <td>170.799228</td>\n",
       "    </tr>\n",
       "    <tr>\n",
       "      <th>745433</th>\n",
       "      <td>00008100:002842a3</td>\n",
       "      <td>Silber-Pappel</td>\n",
       "      <td>populus alba</td>\n",
       "      <td>POPULUS</td>\n",
       "      <td>0</td>\n",
       "      <td>0</td>\n",
       "      <td>NaN</td>\n",
       "      <td>157.0</td>\n",
       "      <td>21.0</td>\n",
       "      <td>Eiskeller- Biotop</td>\n",
       "      <td>Spandau</td>\n",
       "      <td>2</td>\n",
       "      <td>POINT (373986.674 5828182.492)</td>\n",
       "      <td>47</td>\n",
       "      <td>15176</td>\n",
       "      <td>31.38</td>\n",
       "      <td>373922.0</td>\n",
       "      <td>5828013.50</td>\n",
       "      <td>180.945307</td>\n",
       "    </tr>\n",
       "    <tr>\n",
       "      <th>745434</th>\n",
       "      <td>00008100:002842a4</td>\n",
       "      <td>Silber-Pappel</td>\n",
       "      <td>populus alba</td>\n",
       "      <td>POPULUS</td>\n",
       "      <td>0</td>\n",
       "      <td>0</td>\n",
       "      <td>NaN</td>\n",
       "      <td>141.0</td>\n",
       "      <td>20.0</td>\n",
       "      <td>Eiskeller- Biotop</td>\n",
       "      <td>Spandau</td>\n",
       "      <td>2</td>\n",
       "      <td>POINT (373951.050 5828174.954)</td>\n",
       "      <td>47</td>\n",
       "      <td>15176</td>\n",
       "      <td>31.38</td>\n",
       "      <td>373922.0</td>\n",
       "      <td>5828013.50</td>\n",
       "      <td>164.046433</td>\n",
       "    </tr>\n",
       "    <tr>\n",
       "      <th>745435</th>\n",
       "      <td>00008100:002842a5</td>\n",
       "      <td>Silber-Pappel</td>\n",
       "      <td>populus alba</td>\n",
       "      <td>POPULUS</td>\n",
       "      <td>0</td>\n",
       "      <td>0</td>\n",
       "      <td>NaN</td>\n",
       "      <td>126.0</td>\n",
       "      <td>21.0</td>\n",
       "      <td>Eiskeller- Biotop</td>\n",
       "      <td>Spandau</td>\n",
       "      <td>2</td>\n",
       "      <td>POINT (373984.605 5828182.049)</td>\n",
       "      <td>47</td>\n",
       "      <td>15176</td>\n",
       "      <td>31.38</td>\n",
       "      <td>373922.0</td>\n",
       "      <td>5828013.50</td>\n",
       "      <td>179.800299</td>\n",
       "    </tr>\n",
       "  </tbody>\n",
       "</table>\n",
       "<p>814671 rows × 19 columns</p>\n",
       "</div>"
      ],
      "text/plain": [
       "                  baum_id                art_dtsch              art_bot  \\\n",
       "0       00008100:000bbafb      Pyramiden-Hainbuche     carpinus betulus   \n",
       "1       00008100:000bbafd  Berg-Ahorn, Weiss-Ahorn  acer pseudoplatanus   \n",
       "2       00008100:000bbafe  Berg-Ahorn, Weiss-Ahorn  acer pseudoplatanus   \n",
       "3       00008100:000bbaff  Berg-Ahorn, Weiss-Ahorn  acer pseudoplatanus   \n",
       "4       00008100:000bbb00  Berg-Ahorn, Weiss-Ahorn  acer pseudoplatanus   \n",
       "...                   ...                      ...                  ...   \n",
       "712499  00008100:00238739               Sand-Birke       betula pendula   \n",
       "745432  00008100:002842a2                    Weide          salix spec.   \n",
       "745433  00008100:002842a3            Silber-Pappel         populus alba   \n",
       "745434  00008100:002842a4            Silber-Pappel         populus alba   \n",
       "745435  00008100:002842a5            Silber-Pappel         populus alba   \n",
       "\n",
       "         gattung  pflanzjahr  standalter  kronedurch  stammumfg  baumhoehe  \\\n",
       "0       CARPINUS        1975          47         NaN      109.0       15.0   \n",
       "1           ACER        1975          47         NaN      382.0        NaN   \n",
       "2           ACER        1980          42         NaN       98.0       14.0   \n",
       "3           ACER        1935          87         NaN      189.0       15.0   \n",
       "4           ACER        1975          47         NaN      145.0       15.0   \n",
       "...          ...         ...         ...         ...        ...        ...   \n",
       "712499    BETULA           0           0         NaN      116.0       16.0   \n",
       "745432     SALIX           0           0         NaN      548.0       18.0   \n",
       "745433   POPULUS           0           0         NaN      157.0       21.0   \n",
       "745434   POPULUS           0           0         NaN      141.0       20.0   \n",
       "745435   POPULUS           0           0         NaN      126.0       21.0   \n",
       "\n",
       "                            namenr    bezirk  typ  \\\n",
       "0               Fritz-Reuter-Allee  Neukölln    1   \n",
       "1               Fritz-Reuter-Allee  Neukölln    1   \n",
       "2               Fritz-Reuter-Allee  Neukölln    1   \n",
       "3               Fritz-Reuter-Allee  Neukölln    1   \n",
       "4               Fritz-Reuter-Allee  Neukölln    1   \n",
       "...                            ...       ...  ...   \n",
       "712499  Eiskeller-Silbergraswiese    Spandau    2   \n",
       "745432           Eiskeller- Biotop   Spandau    2   \n",
       "745433           Eiskeller- Biotop   Spandau    2   \n",
       "745434           Eiskeller- Biotop   Spandau    2   \n",
       "745435           Eiskeller- Biotop   Spandau    2   \n",
       "\n",
       "                              geometry  index_right  gw_id  ground_level  \\\n",
       "0       POINT (394532.256 5811460.991)          159    496         36.88   \n",
       "1       POINT (394541.924 5811473.217)          159    496         36.88   \n",
       "2       POINT (394548.061 5811479.355)          159    496         36.88   \n",
       "3       POINT (394556.659 5811495.510)          159    496         36.88   \n",
       "4       POINT (394570.160 5811515.745)          159    496         36.88   \n",
       "...                                ...          ...    ...           ...   \n",
       "712499  POINT (373567.384 5827789.602)           49  15178         31.46   \n",
       "745432  POINT (373955.337 5828181.014)           47  15176         31.38   \n",
       "745433  POINT (373986.674 5828182.492)           47  15176         31.38   \n",
       "745434  POINT (373951.050 5828174.954)           47  15176         31.38   \n",
       "745435  POINT (373984.605 5828182.049)           47  15176         31.38   \n",
       "\n",
       "          xcoord      ycoord   distances  \n",
       "0       394993.3  5811660.53  502.371901  \n",
       "1       394993.3  5811660.53  488.698381  \n",
       "2       394993.3  5811660.53  480.688779  \n",
       "3       394993.3  5811660.53  466.783846  \n",
       "4       394993.3  5811660.53  447.224952  \n",
       "...          ...         ...         ...  \n",
       "712499  373922.2  5828011.40  418.436168  \n",
       "745432  373922.0  5828013.50  170.799228  \n",
       "745433  373922.0  5828013.50  180.945307  \n",
       "745434  373922.0  5828013.50  164.046433  \n",
       "745435  373922.0  5828013.50  179.800299  \n",
       "\n",
       "[814671 rows x 19 columns]"
      ]
     },
     "execution_count": 17,
     "metadata": {},
     "output_type": "execute_result"
    }
   ],
   "source": [
    "#check result\n",
    "trees_dist_gw"
   ]
  },
  {
   "cell_type": "code",
   "execution_count": 18,
   "metadata": {},
   "outputs": [],
   "source": [
    "#trees_dist_gw[trees_dist_gw.duplicated('baum_id')].tail(25)\n",
    "#trees_dist_gw.sort_values('baum_id').head(25)\n",
    "#.sort_values()\n",
    "#trees_dist_gw.duplicated('baum_id').value_counts()\n",
    "trees_gw_cl = trees_dist_gw.drop_duplicates('baum_id')"
   ]
  },
  {
   "cell_type": "code",
   "execution_count": 19,
   "metadata": {},
   "outputs": [
    {
     "data": {
      "text/html": [
       "<div>\n",
       "<style scoped>\n",
       "    .dataframe tbody tr th:only-of-type {\n",
       "        vertical-align: middle;\n",
       "    }\n",
       "\n",
       "    .dataframe tbody tr th {\n",
       "        vertical-align: top;\n",
       "    }\n",
       "\n",
       "    .dataframe thead th {\n",
       "        text-align: right;\n",
       "    }\n",
       "</style>\n",
       "<table border=\"1\" class=\"dataframe\">\n",
       "  <thead>\n",
       "    <tr style=\"text-align: right;\">\n",
       "      <th></th>\n",
       "      <th>baum_id</th>\n",
       "      <th>art_dtsch</th>\n",
       "      <th>art_bot</th>\n",
       "      <th>gattung</th>\n",
       "      <th>pflanzjahr</th>\n",
       "      <th>standalter</th>\n",
       "      <th>kronedurch</th>\n",
       "      <th>stammumfg</th>\n",
       "      <th>baumhoehe</th>\n",
       "      <th>namenr</th>\n",
       "      <th>bezirk</th>\n",
       "      <th>typ</th>\n",
       "      <th>geometry</th>\n",
       "      <th>index_right</th>\n",
       "      <th>gw_id</th>\n",
       "      <th>ground_level</th>\n",
       "      <th>xcoord</th>\n",
       "      <th>ycoord</th>\n",
       "      <th>distances</th>\n",
       "    </tr>\n",
       "  </thead>\n",
       "  <tbody>\n",
       "    <tr>\n",
       "      <th>0</th>\n",
       "      <td>00008100:000bbafb</td>\n",
       "      <td>Pyramiden-Hainbuche</td>\n",
       "      <td>carpinus betulus</td>\n",
       "      <td>CARPINUS</td>\n",
       "      <td>1975</td>\n",
       "      <td>47</td>\n",
       "      <td>NaN</td>\n",
       "      <td>109.0</td>\n",
       "      <td>15.0</td>\n",
       "      <td>Fritz-Reuter-Allee</td>\n",
       "      <td>Neukölln</td>\n",
       "      <td>1</td>\n",
       "      <td>POINT (394532.256 5811460.991)</td>\n",
       "      <td>159</td>\n",
       "      <td>496</td>\n",
       "      <td>36.88</td>\n",
       "      <td>394993.3</td>\n",
       "      <td>5811660.53</td>\n",
       "      <td>502.371901</td>\n",
       "    </tr>\n",
       "    <tr>\n",
       "      <th>1</th>\n",
       "      <td>00008100:000bbafd</td>\n",
       "      <td>Berg-Ahorn, Weiss-Ahorn</td>\n",
       "      <td>acer pseudoplatanus</td>\n",
       "      <td>ACER</td>\n",
       "      <td>1975</td>\n",
       "      <td>47</td>\n",
       "      <td>NaN</td>\n",
       "      <td>382.0</td>\n",
       "      <td>NaN</td>\n",
       "      <td>Fritz-Reuter-Allee</td>\n",
       "      <td>Neukölln</td>\n",
       "      <td>1</td>\n",
       "      <td>POINT (394541.924 5811473.217)</td>\n",
       "      <td>159</td>\n",
       "      <td>496</td>\n",
       "      <td>36.88</td>\n",
       "      <td>394993.3</td>\n",
       "      <td>5811660.53</td>\n",
       "      <td>488.698381</td>\n",
       "    </tr>\n",
       "    <tr>\n",
       "      <th>2</th>\n",
       "      <td>00008100:000bbafe</td>\n",
       "      <td>Berg-Ahorn, Weiss-Ahorn</td>\n",
       "      <td>acer pseudoplatanus</td>\n",
       "      <td>ACER</td>\n",
       "      <td>1980</td>\n",
       "      <td>42</td>\n",
       "      <td>NaN</td>\n",
       "      <td>98.0</td>\n",
       "      <td>14.0</td>\n",
       "      <td>Fritz-Reuter-Allee</td>\n",
       "      <td>Neukölln</td>\n",
       "      <td>1</td>\n",
       "      <td>POINT (394548.061 5811479.355)</td>\n",
       "      <td>159</td>\n",
       "      <td>496</td>\n",
       "      <td>36.88</td>\n",
       "      <td>394993.3</td>\n",
       "      <td>5811660.53</td>\n",
       "      <td>480.688779</td>\n",
       "    </tr>\n",
       "    <tr>\n",
       "      <th>3</th>\n",
       "      <td>00008100:000bbaff</td>\n",
       "      <td>Berg-Ahorn, Weiss-Ahorn</td>\n",
       "      <td>acer pseudoplatanus</td>\n",
       "      <td>ACER</td>\n",
       "      <td>1935</td>\n",
       "      <td>87</td>\n",
       "      <td>NaN</td>\n",
       "      <td>189.0</td>\n",
       "      <td>15.0</td>\n",
       "      <td>Fritz-Reuter-Allee</td>\n",
       "      <td>Neukölln</td>\n",
       "      <td>1</td>\n",
       "      <td>POINT (394556.659 5811495.510)</td>\n",
       "      <td>159</td>\n",
       "      <td>496</td>\n",
       "      <td>36.88</td>\n",
       "      <td>394993.3</td>\n",
       "      <td>5811660.53</td>\n",
       "      <td>466.783846</td>\n",
       "    </tr>\n",
       "    <tr>\n",
       "      <th>4</th>\n",
       "      <td>00008100:000bbb00</td>\n",
       "      <td>Berg-Ahorn, Weiss-Ahorn</td>\n",
       "      <td>acer pseudoplatanus</td>\n",
       "      <td>ACER</td>\n",
       "      <td>1975</td>\n",
       "      <td>47</td>\n",
       "      <td>NaN</td>\n",
       "      <td>145.0</td>\n",
       "      <td>15.0</td>\n",
       "      <td>Fritz-Reuter-Allee</td>\n",
       "      <td>Neukölln</td>\n",
       "      <td>1</td>\n",
       "      <td>POINT (394570.160 5811515.745)</td>\n",
       "      <td>159</td>\n",
       "      <td>496</td>\n",
       "      <td>36.88</td>\n",
       "      <td>394993.3</td>\n",
       "      <td>5811660.53</td>\n",
       "      <td>447.224952</td>\n",
       "    </tr>\n",
       "    <tr>\n",
       "      <th>...</th>\n",
       "      <td>...</td>\n",
       "      <td>...</td>\n",
       "      <td>...</td>\n",
       "      <td>...</td>\n",
       "      <td>...</td>\n",
       "      <td>...</td>\n",
       "      <td>...</td>\n",
       "      <td>...</td>\n",
       "      <td>...</td>\n",
       "      <td>...</td>\n",
       "      <td>...</td>\n",
       "      <td>...</td>\n",
       "      <td>...</td>\n",
       "      <td>...</td>\n",
       "      <td>...</td>\n",
       "      <td>...</td>\n",
       "      <td>...</td>\n",
       "      <td>...</td>\n",
       "      <td>...</td>\n",
       "    </tr>\n",
       "    <tr>\n",
       "      <th>712499</th>\n",
       "      <td>00008100:00238739</td>\n",
       "      <td>Sand-Birke</td>\n",
       "      <td>betula pendula</td>\n",
       "      <td>BETULA</td>\n",
       "      <td>0</td>\n",
       "      <td>0</td>\n",
       "      <td>NaN</td>\n",
       "      <td>116.0</td>\n",
       "      <td>16.0</td>\n",
       "      <td>Eiskeller-Silbergraswiese</td>\n",
       "      <td>Spandau</td>\n",
       "      <td>2</td>\n",
       "      <td>POINT (373567.384 5827789.602)</td>\n",
       "      <td>49</td>\n",
       "      <td>15178</td>\n",
       "      <td>31.46</td>\n",
       "      <td>373922.2</td>\n",
       "      <td>5828011.40</td>\n",
       "      <td>418.436168</td>\n",
       "    </tr>\n",
       "    <tr>\n",
       "      <th>745432</th>\n",
       "      <td>00008100:002842a2</td>\n",
       "      <td>Weide</td>\n",
       "      <td>salix spec.</td>\n",
       "      <td>SALIX</td>\n",
       "      <td>0</td>\n",
       "      <td>0</td>\n",
       "      <td>NaN</td>\n",
       "      <td>548.0</td>\n",
       "      <td>18.0</td>\n",
       "      <td>Eiskeller- Biotop</td>\n",
       "      <td>Spandau</td>\n",
       "      <td>2</td>\n",
       "      <td>POINT (373955.337 5828181.014)</td>\n",
       "      <td>47</td>\n",
       "      <td>15176</td>\n",
       "      <td>31.38</td>\n",
       "      <td>373922.0</td>\n",
       "      <td>5828013.50</td>\n",
       "      <td>170.799228</td>\n",
       "    </tr>\n",
       "    <tr>\n",
       "      <th>745433</th>\n",
       "      <td>00008100:002842a3</td>\n",
       "      <td>Silber-Pappel</td>\n",
       "      <td>populus alba</td>\n",
       "      <td>POPULUS</td>\n",
       "      <td>0</td>\n",
       "      <td>0</td>\n",
       "      <td>NaN</td>\n",
       "      <td>157.0</td>\n",
       "      <td>21.0</td>\n",
       "      <td>Eiskeller- Biotop</td>\n",
       "      <td>Spandau</td>\n",
       "      <td>2</td>\n",
       "      <td>POINT (373986.674 5828182.492)</td>\n",
       "      <td>47</td>\n",
       "      <td>15176</td>\n",
       "      <td>31.38</td>\n",
       "      <td>373922.0</td>\n",
       "      <td>5828013.50</td>\n",
       "      <td>180.945307</td>\n",
       "    </tr>\n",
       "    <tr>\n",
       "      <th>745434</th>\n",
       "      <td>00008100:002842a4</td>\n",
       "      <td>Silber-Pappel</td>\n",
       "      <td>populus alba</td>\n",
       "      <td>POPULUS</td>\n",
       "      <td>0</td>\n",
       "      <td>0</td>\n",
       "      <td>NaN</td>\n",
       "      <td>141.0</td>\n",
       "      <td>20.0</td>\n",
       "      <td>Eiskeller- Biotop</td>\n",
       "      <td>Spandau</td>\n",
       "      <td>2</td>\n",
       "      <td>POINT (373951.050 5828174.954)</td>\n",
       "      <td>47</td>\n",
       "      <td>15176</td>\n",
       "      <td>31.38</td>\n",
       "      <td>373922.0</td>\n",
       "      <td>5828013.50</td>\n",
       "      <td>164.046433</td>\n",
       "    </tr>\n",
       "    <tr>\n",
       "      <th>745435</th>\n",
       "      <td>00008100:002842a5</td>\n",
       "      <td>Silber-Pappel</td>\n",
       "      <td>populus alba</td>\n",
       "      <td>POPULUS</td>\n",
       "      <td>0</td>\n",
       "      <td>0</td>\n",
       "      <td>NaN</td>\n",
       "      <td>126.0</td>\n",
       "      <td>21.0</td>\n",
       "      <td>Eiskeller- Biotop</td>\n",
       "      <td>Spandau</td>\n",
       "      <td>2</td>\n",
       "      <td>POINT (373984.605 5828182.049)</td>\n",
       "      <td>47</td>\n",
       "      <td>15176</td>\n",
       "      <td>31.38</td>\n",
       "      <td>373922.0</td>\n",
       "      <td>5828013.50</td>\n",
       "      <td>179.800299</td>\n",
       "    </tr>\n",
       "  </tbody>\n",
       "</table>\n",
       "<p>801193 rows × 19 columns</p>\n",
       "</div>"
      ],
      "text/plain": [
       "                  baum_id                art_dtsch              art_bot  \\\n",
       "0       00008100:000bbafb      Pyramiden-Hainbuche     carpinus betulus   \n",
       "1       00008100:000bbafd  Berg-Ahorn, Weiss-Ahorn  acer pseudoplatanus   \n",
       "2       00008100:000bbafe  Berg-Ahorn, Weiss-Ahorn  acer pseudoplatanus   \n",
       "3       00008100:000bbaff  Berg-Ahorn, Weiss-Ahorn  acer pseudoplatanus   \n",
       "4       00008100:000bbb00  Berg-Ahorn, Weiss-Ahorn  acer pseudoplatanus   \n",
       "...                   ...                      ...                  ...   \n",
       "712499  00008100:00238739               Sand-Birke       betula pendula   \n",
       "745432  00008100:002842a2                    Weide          salix spec.   \n",
       "745433  00008100:002842a3            Silber-Pappel         populus alba   \n",
       "745434  00008100:002842a4            Silber-Pappel         populus alba   \n",
       "745435  00008100:002842a5            Silber-Pappel         populus alba   \n",
       "\n",
       "         gattung  pflanzjahr  standalter  kronedurch  stammumfg  baumhoehe  \\\n",
       "0       CARPINUS        1975          47         NaN      109.0       15.0   \n",
       "1           ACER        1975          47         NaN      382.0        NaN   \n",
       "2           ACER        1980          42         NaN       98.0       14.0   \n",
       "3           ACER        1935          87         NaN      189.0       15.0   \n",
       "4           ACER        1975          47         NaN      145.0       15.0   \n",
       "...          ...         ...         ...         ...        ...        ...   \n",
       "712499    BETULA           0           0         NaN      116.0       16.0   \n",
       "745432     SALIX           0           0         NaN      548.0       18.0   \n",
       "745433   POPULUS           0           0         NaN      157.0       21.0   \n",
       "745434   POPULUS           0           0         NaN      141.0       20.0   \n",
       "745435   POPULUS           0           0         NaN      126.0       21.0   \n",
       "\n",
       "                            namenr    bezirk  typ  \\\n",
       "0               Fritz-Reuter-Allee  Neukölln    1   \n",
       "1               Fritz-Reuter-Allee  Neukölln    1   \n",
       "2               Fritz-Reuter-Allee  Neukölln    1   \n",
       "3               Fritz-Reuter-Allee  Neukölln    1   \n",
       "4               Fritz-Reuter-Allee  Neukölln    1   \n",
       "...                            ...       ...  ...   \n",
       "712499  Eiskeller-Silbergraswiese    Spandau    2   \n",
       "745432           Eiskeller- Biotop   Spandau    2   \n",
       "745433           Eiskeller- Biotop   Spandau    2   \n",
       "745434           Eiskeller- Biotop   Spandau    2   \n",
       "745435           Eiskeller- Biotop   Spandau    2   \n",
       "\n",
       "                              geometry  index_right  gw_id  ground_level  \\\n",
       "0       POINT (394532.256 5811460.991)          159    496         36.88   \n",
       "1       POINT (394541.924 5811473.217)          159    496         36.88   \n",
       "2       POINT (394548.061 5811479.355)          159    496         36.88   \n",
       "3       POINT (394556.659 5811495.510)          159    496         36.88   \n",
       "4       POINT (394570.160 5811515.745)          159    496         36.88   \n",
       "...                                ...          ...    ...           ...   \n",
       "712499  POINT (373567.384 5827789.602)           49  15178         31.46   \n",
       "745432  POINT (373955.337 5828181.014)           47  15176         31.38   \n",
       "745433  POINT (373986.674 5828182.492)           47  15176         31.38   \n",
       "745434  POINT (373951.050 5828174.954)           47  15176         31.38   \n",
       "745435  POINT (373984.605 5828182.049)           47  15176         31.38   \n",
       "\n",
       "          xcoord      ycoord   distances  \n",
       "0       394993.3  5811660.53  502.371901  \n",
       "1       394993.3  5811660.53  488.698381  \n",
       "2       394993.3  5811660.53  480.688779  \n",
       "3       394993.3  5811660.53  466.783846  \n",
       "4       394993.3  5811660.53  447.224952  \n",
       "...          ...         ...         ...  \n",
       "712499  373922.2  5828011.40  418.436168  \n",
       "745432  373922.0  5828013.50  170.799228  \n",
       "745433  373922.0  5828013.50  180.945307  \n",
       "745434  373922.0  5828013.50  164.046433  \n",
       "745435  373922.0  5828013.50  179.800299  \n",
       "\n",
       "[801193 rows x 19 columns]"
      ]
     },
     "execution_count": 19,
     "metadata": {},
     "output_type": "execute_result"
    }
   ],
   "source": [
    "trees_gw_cl"
   ]
  },
  {
   "cell_type": "code",
   "execution_count": 20,
   "metadata": {},
   "outputs": [],
   "source": [
    "#reducing dataframe to only contain ids & distance\n",
    "tree_id_gw_id = trees_gw_cl[['baum_id', 'gw_id']]"
   ]
  },
  {
   "cell_type": "code",
   "execution_count": 21,
   "metadata": {},
   "outputs": [
    {
     "data": {
      "text/html": [
       "<div>\n",
       "<style scoped>\n",
       "    .dataframe tbody tr th:only-of-type {\n",
       "        vertical-align: middle;\n",
       "    }\n",
       "\n",
       "    .dataframe tbody tr th {\n",
       "        vertical-align: top;\n",
       "    }\n",
       "\n",
       "    .dataframe thead th {\n",
       "        text-align: right;\n",
       "    }\n",
       "</style>\n",
       "<table border=\"1\" class=\"dataframe\">\n",
       "  <thead>\n",
       "    <tr style=\"text-align: right;\">\n",
       "      <th></th>\n",
       "      <th>baum_id</th>\n",
       "      <th>gw_id</th>\n",
       "    </tr>\n",
       "  </thead>\n",
       "  <tbody>\n",
       "    <tr>\n",
       "      <th>0</th>\n",
       "      <td>00008100:000bbafb</td>\n",
       "      <td>496</td>\n",
       "    </tr>\n",
       "    <tr>\n",
       "      <th>1</th>\n",
       "      <td>00008100:000bbafd</td>\n",
       "      <td>496</td>\n",
       "    </tr>\n",
       "    <tr>\n",
       "      <th>2</th>\n",
       "      <td>00008100:000bbafe</td>\n",
       "      <td>496</td>\n",
       "    </tr>\n",
       "    <tr>\n",
       "      <th>3</th>\n",
       "      <td>00008100:000bbaff</td>\n",
       "      <td>496</td>\n",
       "    </tr>\n",
       "    <tr>\n",
       "      <th>4</th>\n",
       "      <td>00008100:000bbb00</td>\n",
       "      <td>496</td>\n",
       "    </tr>\n",
       "    <tr>\n",
       "      <th>...</th>\n",
       "      <td>...</td>\n",
       "      <td>...</td>\n",
       "    </tr>\n",
       "    <tr>\n",
       "      <th>712499</th>\n",
       "      <td>00008100:00238739</td>\n",
       "      <td>15178</td>\n",
       "    </tr>\n",
       "    <tr>\n",
       "      <th>745432</th>\n",
       "      <td>00008100:002842a2</td>\n",
       "      <td>15176</td>\n",
       "    </tr>\n",
       "    <tr>\n",
       "      <th>745433</th>\n",
       "      <td>00008100:002842a3</td>\n",
       "      <td>15176</td>\n",
       "    </tr>\n",
       "    <tr>\n",
       "      <th>745434</th>\n",
       "      <td>00008100:002842a4</td>\n",
       "      <td>15176</td>\n",
       "    </tr>\n",
       "    <tr>\n",
       "      <th>745435</th>\n",
       "      <td>00008100:002842a5</td>\n",
       "      <td>15176</td>\n",
       "    </tr>\n",
       "  </tbody>\n",
       "</table>\n",
       "<p>801193 rows × 2 columns</p>\n",
       "</div>"
      ],
      "text/plain": [
       "                  baum_id  gw_id\n",
       "0       00008100:000bbafb    496\n",
       "1       00008100:000bbafd    496\n",
       "2       00008100:000bbafe    496\n",
       "3       00008100:000bbaff    496\n",
       "4       00008100:000bbb00    496\n",
       "...                   ...    ...\n",
       "712499  00008100:00238739  15178\n",
       "745432  00008100:002842a2  15176\n",
       "745433  00008100:002842a3  15176\n",
       "745434  00008100:002842a4  15176\n",
       "745435  00008100:002842a5  15176\n",
       "\n",
       "[801193 rows x 2 columns]"
      ]
     },
     "execution_count": 21,
     "metadata": {},
     "output_type": "execute_result"
    }
   ],
   "source": [
    "tree_id_gw_id"
   ]
  },
  {
   "cell_type": "code",
   "execution_count": 22,
   "metadata": {},
   "outputs": [],
   "source": [
    "#exporting csv\n",
    "tree_id_gw_id.to_csv('data/cleaned/baum_id_gw_id_07_09_2022.csv')"
   ]
  },
  {
   "cell_type": "code",
   "execution_count": null,
   "metadata": {},
   "outputs": [],
   "source": [
    "wetter_manuell = gpd.read_file('data/cleaned/wetter_id_manuell.geojson')"
   ]
  },
  {
   "cell_type": "code",
   "execution_count": null,
   "metadata": {},
   "outputs": [],
   "source": [
    "wetter_manuell.plot(figsize=(25,25))"
   ]
  },
  {
   "cell_type": "code",
   "execution_count": null,
   "metadata": {},
   "outputs": [],
   "source": [
    "#converting dataframe so we dont have to reimport\n",
    "wetter_station = wetter_manuell"
   ]
  },
  {
   "cell_type": "code",
   "execution_count": null,
   "metadata": {},
   "outputs": [],
   "source": [
    "#matching tree crs to weather station crs \n",
    "trees = trees.to_crs(wetter_station.crs)"
   ]
  },
  {
   "cell_type": "code",
   "execution_count": null,
   "metadata": {},
   "outputs": [],
   "source": [
    "#geopandas.sjoin_nearest trees sjoin nearest on wetter stations\n",
    "\n",
    "trees_dist_wetter = gpd.tools.sjoin_nearest(trees, wetter_station, distance_col=\"distances\")"
   ]
  },
  {
   "cell_type": "code",
   "execution_count": null,
   "metadata": {},
   "outputs": [],
   "source": [
    "trees_dist_wetter.value_counts('wetter_id')"
   ]
  },
  {
   "cell_type": "code",
   "execution_count": null,
   "metadata": {},
   "outputs": [],
   "source": [
    "trees_dist_wetter.info()"
   ]
  },
  {
   "cell_type": "code",
   "execution_count": null,
   "metadata": {},
   "outputs": [],
   "source": [
    "#reducing the output\n",
    "trees_wetter_id = trees_dist_wetter[['baum_id', 'wetter_id']]"
   ]
  },
  {
   "cell_type": "code",
   "execution_count": null,
   "metadata": {},
   "outputs": [],
   "source": [
    "trees_wetter_id"
   ]
  },
  {
   "cell_type": "code",
   "execution_count": null,
   "metadata": {},
   "outputs": [],
   "source": [
    "trees_wetter_id.to_csv('data/cleaned/trees_wetter_id.csv')"
   ]
  },
  {
   "cell_type": "code",
   "execution_count": null,
   "metadata": {},
   "outputs": [],
   "source": [
    "#mergin id files \n",
    "#lor_id = pd.read_csv('data/cleaned/trees_ids.csv')\n",
    "#gw_id = pd.read_csv('data/cleaned/baum_id_gw_id.csv')\n",
    "boden_id = trees_str\n",
    "#wetter_id = trees_wetter_id\n",
    "\n"
   ]
  },
  {
   "cell_type": "code",
   "execution_count": null,
   "metadata": {},
   "outputs": [],
   "source": [
    "lor_id = lor_id.drop('Unnamed: 0', axis=1)"
   ]
  },
  {
   "cell_type": "code",
   "execution_count": null,
   "metadata": {},
   "outputs": [],
   "source": [
    "lor_id.to_csv('data/cleaned/lor_id_cl.csv')"
   ]
  },
  {
   "cell_type": "code",
   "execution_count": null,
   "metadata": {},
   "outputs": [],
   "source": [
    "lor_id"
   ]
  },
  {
   "cell_type": "code",
   "execution_count": null,
   "metadata": {},
   "outputs": [],
   "source": [
    "boden_id['boden_id'].info()"
   ]
  },
  {
   "cell_type": "code",
   "execution_count": null,
   "metadata": {},
   "outputs": [],
   "source": [
    "boden_cl = boden_id.drop('Unnamed: 0', axis=1)"
   ]
  },
  {
   "cell_type": "code",
   "execution_count": null,
   "metadata": {},
   "outputs": [],
   "source": [
    "boden_cl"
   ]
  },
  {
   "cell_type": "code",
   "execution_count": null,
   "metadata": {},
   "outputs": [],
   "source": [
    "boden_cl = boden_cl.drop('geometry', axis=1)"
   ]
  },
  {
   "cell_type": "code",
   "execution_count": null,
   "metadata": {},
   "outputs": [],
   "source": [
    "boden_cl"
   ]
  },
  {
   "cell_type": "code",
   "execution_count": null,
   "metadata": {},
   "outputs": [],
   "source": [
    "trees_wetter_id"
   ]
  },
  {
   "cell_type": "code",
   "execution_count": null,
   "metadata": {},
   "outputs": [],
   "source": [
    "lor_id"
   ]
  },
  {
   "cell_type": "code",
   "execution_count": null,
   "metadata": {},
   "outputs": [],
   "source": [
    "gw_id"
   ]
  },
  {
   "cell_type": "code",
   "execution_count": null,
   "metadata": {},
   "outputs": [],
   "source": [
    "gw_id_cl = gw_id.drop('Unnamed: 0', axis=1)"
   ]
  },
  {
   "cell_type": "code",
   "execution_count": null,
   "metadata": {},
   "outputs": [],
   "source": [
    "gw_id_cl"
   ]
  },
  {
   "cell_type": "code",
   "execution_count": null,
   "metadata": {},
   "outputs": [],
   "source": [
    "#merge_1 = pd.merge(lor_id, gw_id, , on='baum_id', how='left')\n",
    "merge_1 = lor_id.merge(gw_id_cl, how='left', on='baum_id')"
   ]
  },
  {
   "cell_type": "code",
   "execution_count": null,
   "metadata": {},
   "outputs": [],
   "source": [
    "merge_1"
   ]
  },
  {
   "cell_type": "code",
   "execution_count": null,
   "metadata": {},
   "outputs": [],
   "source": [
    "merge_2 = merge_1.merge(boden_id, how='left', on='baum_id')"
   ]
  },
  {
   "cell_type": "code",
   "execution_count": null,
   "metadata": {},
   "outputs": [],
   "source": [
    "merge_2"
   ]
  },
  {
   "cell_type": "code",
   "execution_count": null,
   "metadata": {},
   "outputs": [],
   "source": [
    "merge_3 = merge_2.merge(wetter_id, how='left', on='baum_id')"
   ]
  },
  {
   "cell_type": "code",
   "execution_count": null,
   "metadata": {},
   "outputs": [],
   "source": [
    "merge_3"
   ]
  },
  {
   "cell_type": "code",
   "execution_count": null,
   "metadata": {},
   "outputs": [],
   "source": [
    "fact = merge_3"
   ]
  },
  {
   "cell_type": "code",
   "execution_count": null,
   "metadata": {},
   "outputs": [],
   "source": [
    "fact.info()"
   ]
  },
  {
   "cell_type": "code",
   "execution_count": null,
   "metadata": {},
   "outputs": [],
   "source": [
    "fact.to_csv('data/cleaned/fact.csv')"
   ]
  },
  {
   "cell_type": "code",
   "execution_count": null,
   "metadata": {},
   "outputs": [],
   "source": [
    "fact"
   ]
  }
 ],
 "metadata": {
  "kernelspec": {
   "display_name": "Python 3.9.13 ('nf_geo')",
   "language": "python",
   "name": "python3"
  },
  "language_info": {
   "codemirror_mode": {
    "name": "ipython",
    "version": 3
   },
   "file_extension": ".py",
   "mimetype": "text/x-python",
   "name": "python",
   "nbconvert_exporter": "python",
   "pygments_lexer": "ipython3",
   "version": "3.9.13"
  },
  "orig_nbformat": 4,
  "vscode": {
   "interpreter": {
    "hash": "54164dac681f969475496b4542379ae320e04389f410020fc75e8e60ba0ebe96"
   }
  }
 },
 "nbformat": 4,
 "nbformat_minor": 2
}

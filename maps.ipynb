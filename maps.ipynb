{
 "cells": [
  {
   "cell_type": "code",
   "execution_count": null,
   "metadata": {},
   "outputs": [],
   "source": [
    "# standard import of pandas\n",
    "import pandas as pd\n",
    "# additional import of the geopandas package\n",
    "import geopandas as gpd\n",
    "# import numpy\n",
    "import numpy as np\n",
    "# package for unzipping zip files\n",
    "import zipfile \n",
    "# driver for geopandas \n",
    "import fiona; #help(fiona.open) \n",
    "# import matplotlib\n",
    "import matplotlib.pyplot as plt\n",
    "# hides warning messages\n",
    "#import warnings\n",
    "#warnings.filterwarnings(\"ignore\")"
   ]
  },
  {
   "cell_type": "code",
   "execution_count": null,
   "metadata": {},
   "outputs": [],
   "source": [
    "baumbestand_csv = pd.read_csv('data/Baumbestand.csv') \n",
    "baumbestand_csv.head(2)"
   ]
  },
  {
   "cell_type": "code",
   "execution_count": null,
   "metadata": {},
   "outputs": [],
   "source": [
    "ortsteile = gpd.GeoDataFrame.from_file('data/geodata/Ortsteile_Berlin/Ortsteile_Berlin.shp')\n",
    "ortsteile.plot()"
   ]
  },
  {
   "cell_type": "code",
   "execution_count": null,
   "metadata": {},
   "outputs": [],
   "source": [
    "#Stassenbaume\n",
    "baumbestand_point = gpd.read_file(\"data/geodata/Baumbestand_point.geojson\")\n",
    "baumbestand_point.head()"
   ]
  },
  {
   "cell_type": "code",
   "execution_count": null,
   "metadata": {},
   "outputs": [],
   "source": [
    "lor_berlin = gpd.read_file(\"data/geodata/LOR_Planungraeume_Berlin.geojson\")\n",
    "lor_berlin.boundary.plot(figsize=(20,20));"
   ]
  },
  {
   "cell_type": "code",
   "execution_count": null,
   "metadata": {},
   "outputs": [],
   "source": [
    "#Plotting multiple layers of geodata\n",
    "#Match the Coordinate Reference System of the different layers\n",
    "# Check crs\n",
    "baumbestand_point = baumbestand_point.to_crs(lor_berlin.crs)\n",
    "\n",
    "# Now we can overlay"
   ]
  },
  {
   "cell_type": "code",
   "execution_count": null,
   "metadata": {},
   "outputs": [],
   "source": [
    "base = lor_berlin.plot(color='lightgrey', edgecolor='black', figsize=(100,100))\n",
    "baumbestand_point.plot(ax=base, marker='.', color='darkgreen', markersize=1, figsize=(100,100));"
   ]
  },
  {
   "cell_type": "code",
   "execution_count": null,
   "metadata": {},
   "outputs": [],
   "source": [
    "#read Bewertung Bodenfunktion csv file \n",
    "\n",
    "bodenfunktion_csv = pd.read_csv('data/geodata/Bewertung_Bodenfunktion.csv') \n",
    "bodenfunktion_csv.head(2)"
   ]
  },
  {
   "cell_type": "code",
   "execution_count": null,
   "metadata": {},
   "outputs": [],
   "source": [
    "# read Bewertung Bodenfunktion geoJson \n",
    "\n",
    "bodenfunktion_geojson = gpd.read_file(\"data/geodata/Bewertung_Bodenfunktion.geojson\")\n",
    "bodenfunktion_geojson.head(2)"
   ]
  },
  {
   "cell_type": "code",
   "execution_count": null,
   "metadata": {},
   "outputs": [],
   "source": [
    "bodenfunktion_geojson.info()"
   ]
  },
  {
   "cell_type": "code",
   "execution_count": null,
   "metadata": {},
   "outputs": [],
   "source": [
    "#dropping some columns\n",
    "bodenfunktion = bodenfunktion_geojson.iloc[:,[0, 9, 10, 13, 14, 15, 16, 17, 18, 19, 20, 21, 22, 23, 24, 25, 26, 27, 28, 29, 30, 31, 32, 33, 34, 35, 36, 37]]"
   ]
  },
  {
   "cell_type": "code",
   "execution_count": null,
   "metadata": {},
   "outputs": [],
   "source": [
    "bodenfunktion.info()"
   ]
  },
  {
   "cell_type": "code",
   "execution_count": null,
   "metadata": {},
   "outputs": [],
   "source": [
    "#writing reduced dataset to file\n",
    "bodenfunktion.to_file(\"data/geodata/bodenfunktion_clean.geojson\", driver='GeoJSON')\n"
   ]
  },
  {
   "cell_type": "code",
   "execution_count": null,
   "metadata": {},
   "outputs": [],
   "source": [
    "#loading said dataset\n",
    "bodenfunktion_2 = gpd.read_file(\"data/geodata/bodenfunktion_clean.geojson\")"
   ]
  },
  {
   "cell_type": "code",
   "execution_count": null,
   "metadata": {},
   "outputs": [],
   "source": [
    "# Check crs\n",
    "baumbestand_point = baumbestand_point.to_crs(bodenfunktion_2.crs)"
   ]
  },
  {
   "cell_type": "code",
   "execution_count": null,
   "metadata": {},
   "outputs": [],
   "source": [
    "#plotting Baumbestand Strasse on Bodenfunktion\n",
    "base = bodenfunktion_2.plot(color='lightgrey', edgecolor='black', figsize=(100,100))\n",
    "baumbestand_point.plot(ax=base, marker='.', color='green', markersize=5, figsize=(100,100));"
   ]
  },
  {
   "cell_type": "code",
   "execution_count": null,
   "metadata": {},
   "outputs": [],
   "source": [
    "#loading Anlagebaeume dataset\n",
    "anlagebaeume = gpd.read_file(\"data/geodata/Anlagenbaeume.geojson\")\n",
    "anlagebaeume.head(2)"
   ]
  },
  {
   "cell_type": "code",
   "execution_count": null,
   "metadata": {},
   "outputs": [],
   "source": [
    "#Coordinate Reference Systems\n",
    "baumbestand_point = baumbestand_point.to_crs(lor_berlin.crs)\n",
    "anlagebaeume = anlagebaeume.to_crs(lor_berlin.crs)"
   ]
  },
  {
   "cell_type": "code",
   "execution_count": null,
   "metadata": {},
   "outputs": [],
   "source": [
    "#Testplot of Strassen & Anlagebaeume on LOR \n",
    "base = lor_berlin.boundary.plot(color='black', edgecolor='black', figsize=(100,100))\n",
    "baumbestand_point.plot(ax=base, marker='.', color='forestgreen', markersize=1, figsize=(100,100))\n",
    "anlagebaeume.plot(ax=base, marker='.', color='gold', markersize=1, figsize=(100,100));"
   ]
  },
  {
   "cell_type": "code",
   "execution_count": null,
   "metadata": {},
   "outputs": [],
   "source": [
    "#loading data on Grundwasserstationen \n",
    "grundwasser = gpd.read_file(\"data/GWMessstellen.geojson\")\n",
    "grundwasser.info()"
   ]
  },
  {
   "cell_type": "code",
   "execution_count": null,
   "metadata": {},
   "outputs": [],
   "source": [
    "#matching CRS\n",
    "baumbestand_point = baumbestand_point.to_crs(bodenfunktion_2.crs)\n",
    "anlagebaeume = anlagebaeume.to_crs(bodenfunktion_2.crs)\n",
    "grundwasser = grundwasser.to_crs(bodenfunktion_2.crs)"
   ]
  },
  {
   "cell_type": "code",
   "execution_count": null,
   "metadata": {},
   "outputs": [],
   "source": [
    "#Testplot \n",
    "base = bodenfunktion_2.plot(color='ghostwhite', edgecolor='black', figsize=(150,150))\n",
    "baumbestand_point.plot(ax=base, marker='.', color='forestgreen', markersize=5, figsize=(150,150))\n",
    "anlagebaeume.plot(ax=base, marker='.', color='gold', markersize=5, figsize=(150,150))\n",
    "grundwasser.plot(ax=base, marker='x', color='red', markersize=100, figsize=(150,150));"
   ]
  },
  {
   "cell_type": "code",
   "execution_count": null,
   "metadata": {},
   "outputs": [],
   "source": [
    "#CRS\n",
    "baumbestand_point = baumbestand_point.to_crs(bodenfunktion_2.crs)\n",
    "anlagebaeume = anlagebaeume.to_crs(bodenfunktion_2.crs)\n",
    "grundwasser = grundwasser.to_crs(bodenfunktion_2.crs)\n",
    "lor_berlin = lor_berlin.to_crs(bodenfunktion_2.crs)"
   ]
  },
  {
   "cell_type": "code",
   "execution_count": null,
   "metadata": {},
   "outputs": [],
   "source": [
    "#Testplot\n",
    "base = bodenfunktion_2.plot(color='ghostwhite', edgecolor='black', figsize=(250,250))\n",
    "lor_berlin.boundary.plot(ax=base, marker='.', color='magenta', markersize=5, figsize=(250,250))\n",
    "baumbestand_point.plot(ax=base, marker='.', color='forestgreen', markersize=5, figsize=(250,250))\n",
    "anlagebaeume.plot(ax=base, marker='.', color='gold', markersize=5, figsize=(250,250))\n",
    "grundwasser.plot(ax=base, marker='o', color='darkblue', markersize=50, figsize=(250,250));"
   ]
  },
  {
   "cell_type": "code",
   "execution_count": null,
   "metadata": {},
   "outputs": [],
   "source": [
    "# importing street data \n",
    "strassenraum = gpd.read_file(\"data/geodata/strassenflaechen.geojson\")"
   ]
  },
  {
   "cell_type": "code",
   "execution_count": null,
   "metadata": {},
   "outputs": [],
   "source": [
    "#CRS\n",
    "baumbestand_point = baumbestand_point.to_crs(strassenraum.crs)\n",
    "anlagebaeume = anlagebaeume.to_crs(strassenraum.crs)\n",
    "grundwasser = grundwasser.to_crs(strassenraum.crs)\n",
    "lor_berlin = lor_berlin.to_crs(strassenraum.crs)"
   ]
  },
  {
   "cell_type": "code",
   "execution_count": null,
   "metadata": {},
   "outputs": [],
   "source": [
    "#testplot with street data\n",
    "base = strassenraum.plot(color='ghostwhite', edgecolor='black', figsize=(250,250))\n",
    "lor_berlin.boundary.plot(ax=base, marker='.', color='magenta', markersize=5, figsize=(250,250))\n",
    "baumbestand_point.plot(ax=base, marker='.', color='forestgreen', markersize=5, figsize=(250,250))\n",
    "anlagebaeume.plot(ax=base, marker='.', color='gold', markersize=5, figsize=(250,250))\n",
    "grundwasser.plot(ax=base, marker='o', color='darkblue', markersize=50, figsize=(250,250));"
   ]
  },
  {
   "cell_type": "code",
   "execution_count": null,
   "metadata": {},
   "outputs": [],
   "source": [
    "#loading data on buildings\n",
    "gebaeude = gpd.GeoDataFrame.from_file('data/geodata/gebaeude.shp/gebaeude.shp')"
   ]
  },
  {
   "cell_type": "code",
   "execution_count": null,
   "metadata": {},
   "outputs": [],
   "source": [
    "#CRS\n",
    "baumbestand_point = baumbestand_point.to_crs(strassenraum.crs)\n",
    "anlagebaeume = anlagebaeume.to_crs(strassenraum.crs)\n",
    "grundwasser = grundwasser.to_crs(strassenraum.crs)\n",
    "lor_berlin = lor_berlin.to_crs(strassenraum.crs)\n",
    "gebaeude = gebaeude.to_crs(strassenraum.crs)"
   ]
  },
  {
   "cell_type": "code",
   "execution_count": null,
   "metadata": {},
   "outputs": [],
   "source": [
    "#plotting everything\n",
    "base = strassenraum.plot(color='grey', edgecolor='whitesmoke', figsize=(250,250))\n",
    "gebaeude.plot(ax=base, marker='.', color='gainsboro', figsize=(250,250))\n",
    "lor_berlin.boundary.plot(ax=base, marker='.', color='magenta', markersize=5, figsize=(250,250))\n",
    "baumbestand_point.plot(ax=base, marker='.', color='forestgreen', markersize=5, figsize=(250,250))\n",
    "anlagebaeume.plot(ax=base, marker='.', color='gold', markersize=5, figsize=(250,250))\n",
    "grundwasser.plot(ax=base, marker='o', color='darkblue', markersize=100, figsize=(250,250));"
   ]
  },
  {
   "cell_type": "code",
   "execution_count": null,
   "metadata": {},
   "outputs": [],
   "source": [
    "# Data of weatherstations\n",
    "#ID\tStationshöhe\tgeogr. Breite\tgeogr. Länge\tName\n",
    "#400\t60\t52.631\t13.5021\tBerlin-Buch\n",
    "#403\t51\t52.4537\t13.3017\tBerlin-Dahlem (FU)\n",
    "#410\t33\t52.404\t13.7309\tBerlin-Kaniswall\n",
    "#420\t61\t52.5447\t13.5598\tBerlin-Marzahn\n",
    "#427\t46\t52.3807\t13.5306\tBerlin Brandenburg\n",
    "#430\t34\t52.5644\t13.3088\tBerlin-Tegel\n",
    "#433\t48\t52.4675\t13.4021\tBerlin-Tempelhof"
   ]
  },
  {
   "cell_type": "code",
   "execution_count": null,
   "metadata": {},
   "outputs": [],
   "source": [
    "#preparing data on the weather stations to create geoDataFrame\n",
    "weather = pd.DataFrame(\n",
    "    {'station_id': ['400', '403', '410', '420', '427', '430', '433'],\n",
    "     'station_name': ['Berlin-Buch', 'Berlin-Dahlem (FU)', 'Berlin-Kaniswall', 'Berlin-Marzahn', 'Berlin Brandenburg', 'Berlin-Tegel', 'Berlin-Tempelhof'],\n",
    "     'latitude': [52.631, 52.4537, 52.404, 52.5447, 52.3807, 52.5644, 52.4675],\n",
    "     'longitude': [13.5021, 13.3017, 13.7309, 13.5598, 13.5306, 13.3088, 13.4021]})"
   ]
  },
  {
   "cell_type": "code",
   "execution_count": null,
   "metadata": {},
   "outputs": [],
   "source": [
    "#creating geoDataFrame for weather stations \n",
    "gdf = gpd.GeoDataFrame(\n",
    "    weather, geometry=gpd.points_from_xy(weather.longitude, weather.latitude))\n",
    "gdf.head()"
   ]
  },
  {
   "cell_type": "code",
   "execution_count": null,
   "metadata": {},
   "outputs": [],
   "source": [
    "#reading Messstellen data \n",
    "mess = pd.read_csv(\"data/geodata/gw_berlin.csv\", index_col=0)\n",
    "mess.info()"
   ]
  },
  {
   "cell_type": "code",
   "execution_count": null,
   "metadata": {},
   "outputs": [],
   "source": [
    "mess.head(2)"
   ]
  },
  {
   "cell_type": "code",
   "execution_count": null,
   "metadata": {},
   "outputs": [],
   "source": [
    "#Datatype conversion fun\n",
    "mess_neu = mess.astype({\"messstellen_id\": str})"
   ]
  },
  {
   "cell_type": "code",
   "execution_count": null,
   "metadata": {},
   "outputs": [],
   "source": [
    "#creating list of the IDs of Grundwasser Stations\n",
    "ids = mess_neu['messstellen_id'].tolist()"
   ]
  },
  {
   "cell_type": "code",
   "execution_count": null,
   "metadata": {},
   "outputs": [],
   "source": [
    "#converting ids to int\n",
    "mess_neu.astype({'messstellen_id': 'int'}).dtypes"
   ]
  },
  {
   "cell_type": "code",
   "execution_count": null,
   "metadata": {},
   "outputs": [],
   "source": [
    "#some conversion and cleaning \n",
    "grundwasser = mess_neu\n"
   ]
  },
  {
   "cell_type": "code",
   "execution_count": null,
   "metadata": {},
   "outputs": [],
   "source": [
    "#renaming \n",
    "grundwasser.rename(columns={'invname': 'messstellen_id'}, inplace=True)"
   ]
  },
  {
   "cell_type": "code",
   "execution_count": null,
   "metadata": {},
   "outputs": [],
   "source": [
    "grundwasser"
   ]
  },
  {
   "cell_type": "code",
   "execution_count": null,
   "metadata": {},
   "outputs": [],
   "source": [
    "grundwasser_filtered = grundwasser['messstellen_id'].isin(ids)"
   ]
  },
  {
   "cell_type": "code",
   "execution_count": null,
   "metadata": {},
   "outputs": [],
   "source": [
    "grundwasser_filtered  = grundwasser[grundwasser['messstellen_id'].isin(ids)]"
   ]
  },
  {
   "cell_type": "code",
   "execution_count": null,
   "metadata": {},
   "outputs": [],
   "source": [
    "grundwasser_filtered"
   ]
  }
 ],
 "metadata": {
  "kernelspec": {
   "display_name": "Python 3.9.13 ('nf_geo')",
   "language": "python",
   "name": "python3"
  },
  "language_info": {
   "codemirror_mode": {
    "name": "ipython",
    "version": 3
   },
   "file_extension": ".py",
   "mimetype": "text/x-python",
   "name": "python",
   "nbconvert_exporter": "python",
   "pygments_lexer": "ipython3",
   "version": "3.9.13"
  },
  "orig_nbformat": 4,
  "vscode": {
   "interpreter": {
    "hash": "54164dac681f969475496b4542379ae320e04389f410020fc75e8e60ba0ebe96"
   }
  }
 },
 "nbformat": 4,
 "nbformat_minor": 2
}

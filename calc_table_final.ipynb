{
 "cells": [
  {
   "cell_type": "code",
   "execution_count": null,
   "metadata": {},
   "outputs": [],
   "source": [
    "#This notebook is used to calculate the measurements of our scoring model   "
   ]
  },
  {
   "cell_type": "code",
   "execution_count": 1,
   "metadata": {},
   "outputs": [],
   "source": [
    "# standard import of pandas\n",
    "import pandas as pd\n",
    "# additional import of the geopandas package\n",
    "import geopandas as gpd\n",
    "# import numpy\n",
    "import numpy as np\n",
    "# driver for geopandas \n",
    "import fiona;\n",
    "# import matplotlib\n",
    "import matplotlib.pyplot as plt\n",
    "# hides warning messages\n",
    "#import warnings\n",
    "#warnings.filterwarnings(\"ignore\")"
   ]
  },
  {
   "cell_type": "markdown",
   "metadata": {},
   "source": [
    "### load and join the different tables to our fact_table"
   ]
  },
  {
   "cell_type": "code",
   "execution_count": 71,
   "metadata": {},
   "outputs": [],
   "source": [
    "#import of our fact-table, containing the ids, matchen on the tree id \n",
    "#drunk update 11pm on saturaday night(10.09.22) --> it's a match! We have a new fact_final \n",
    "\n",
    "ids = pd.read_csv('data/analysis/final/fact_final_final_10_09_22.csv', index_col=0)"
   ]
  },
  {
   "cell_type": "code",
   "execution_count": 72,
   "metadata": {},
   "outputs": [],
   "source": [
    "calculation_table_preview = ids\n",
    "#801202 rows \n",
    "#801238 rows 10.09.22\n",
    "#before dropping on 10.09.2022 23:03 801958\n",
    "#801193 after"
   ]
  },
  {
   "cell_type": "code",
   "execution_count": 73,
   "metadata": {},
   "outputs": [],
   "source": [
    "calculation_table = calculation_table_preview.drop_duplicates('baum_id')"
   ]
  },
  {
   "cell_type": "code",
   "execution_count": 74,
   "metadata": {},
   "outputs": [
    {
     "data": {
      "text/html": [
       "<div>\n",
       "<style scoped>\n",
       "    .dataframe tbody tr th:only-of-type {\n",
       "        vertical-align: middle;\n",
       "    }\n",
       "\n",
       "    .dataframe tbody tr th {\n",
       "        vertical-align: top;\n",
       "    }\n",
       "\n",
       "    .dataframe thead th {\n",
       "        text-align: right;\n",
       "    }\n",
       "</style>\n",
       "<table border=\"1\" class=\"dataframe\">\n",
       "  <thead>\n",
       "    <tr style=\"text-align: right;\">\n",
       "      <th></th>\n",
       "      <th>baum_id</th>\n",
       "      <th>lor_id</th>\n",
       "      <th>boden_id</th>\n",
       "      <th>wetter_id</th>\n",
       "      <th>gw_id</th>\n",
       "      <th>soil_id</th>\n",
       "      <th>rain_id</th>\n",
       "    </tr>\n",
       "  </thead>\n",
       "  <tbody>\n",
       "    <tr>\n",
       "      <th>0</th>\n",
       "      <td>00008100:000bbafb</td>\n",
       "      <td>525</td>\n",
       "      <td>B1400805161000000</td>\n",
       "      <td>433</td>\n",
       "      <td>496</td>\n",
       "      <td>427</td>\n",
       "      <td>433</td>\n",
       "    </tr>\n",
       "    <tr>\n",
       "      <th>1</th>\n",
       "      <td>00008100:000bbafd</td>\n",
       "      <td>525</td>\n",
       "      <td>B1400805161000000</td>\n",
       "      <td>433</td>\n",
       "      <td>496</td>\n",
       "      <td>427</td>\n",
       "      <td>433</td>\n",
       "    </tr>\n",
       "    <tr>\n",
       "      <th>2</th>\n",
       "      <td>00008100:000bbafe</td>\n",
       "      <td>525</td>\n",
       "      <td>B1400805161000000</td>\n",
       "      <td>433</td>\n",
       "      <td>496</td>\n",
       "      <td>427</td>\n",
       "      <td>433</td>\n",
       "    </tr>\n",
       "    <tr>\n",
       "      <th>3</th>\n",
       "      <td>00008100:000bbaff</td>\n",
       "      <td>525</td>\n",
       "      <td>B1400805161000000</td>\n",
       "      <td>433</td>\n",
       "      <td>496</td>\n",
       "      <td>427</td>\n",
       "      <td>433</td>\n",
       "    </tr>\n",
       "    <tr>\n",
       "      <th>4</th>\n",
       "      <td>00008100:000bbb00</td>\n",
       "      <td>525</td>\n",
       "      <td>B1400805161000000</td>\n",
       "      <td>433</td>\n",
       "      <td>496</td>\n",
       "      <td>427</td>\n",
       "      <td>433</td>\n",
       "    </tr>\n",
       "    <tr>\n",
       "      <th>...</th>\n",
       "      <td>...</td>\n",
       "      <td>...</td>\n",
       "      <td>...</td>\n",
       "      <td>...</td>\n",
       "      <td>...</td>\n",
       "      <td>...</td>\n",
       "      <td>...</td>\n",
       "    </tr>\n",
       "    <tr>\n",
       "      <th>801953</th>\n",
       "      <td>00008100:002db640</td>\n",
       "      <td>309</td>\n",
       "      <td>B0300089051000300</td>\n",
       "      <td>430</td>\n",
       "      <td>6010</td>\n",
       "      <td>430</td>\n",
       "      <td>433</td>\n",
       "    </tr>\n",
       "    <tr>\n",
       "      <th>801954</th>\n",
       "      <td>00008100:002db641</td>\n",
       "      <td>309</td>\n",
       "      <td>B0300089051000300</td>\n",
       "      <td>430</td>\n",
       "      <td>6010</td>\n",
       "      <td>430</td>\n",
       "      <td>433</td>\n",
       "    </tr>\n",
       "    <tr>\n",
       "      <th>801955</th>\n",
       "      <td>00008100:002db642</td>\n",
       "      <td>309</td>\n",
       "      <td>B0300089051000300</td>\n",
       "      <td>430</td>\n",
       "      <td>6010</td>\n",
       "      <td>430</td>\n",
       "      <td>433</td>\n",
       "    </tr>\n",
       "    <tr>\n",
       "      <th>801956</th>\n",
       "      <td>00008100:002db652</td>\n",
       "      <td>167</td>\n",
       "      <td>B0800396161000200</td>\n",
       "      <td>403</td>\n",
       "      <td>4013</td>\n",
       "      <td>403</td>\n",
       "      <td>403</td>\n",
       "    </tr>\n",
       "    <tr>\n",
       "      <th>801957</th>\n",
       "      <td>00008100:002db653</td>\n",
       "      <td>167</td>\n",
       "      <td>B0800396161000200</td>\n",
       "      <td>403</td>\n",
       "      <td>4013</td>\n",
       "      <td>403</td>\n",
       "      <td>403</td>\n",
       "    </tr>\n",
       "  </tbody>\n",
       "</table>\n",
       "<p>801193 rows × 7 columns</p>\n",
       "</div>"
      ],
      "text/plain": [
       "                  baum_id  lor_id           boden_id  wetter_id  gw_id  \\\n",
       "0       00008100:000bbafb     525  B1400805161000000        433    496   \n",
       "1       00008100:000bbafd     525  B1400805161000000        433    496   \n",
       "2       00008100:000bbafe     525  B1400805161000000        433    496   \n",
       "3       00008100:000bbaff     525  B1400805161000000        433    496   \n",
       "4       00008100:000bbb00     525  B1400805161000000        433    496   \n",
       "...                   ...     ...                ...        ...    ...   \n",
       "801953  00008100:002db640     309  B0300089051000300        430   6010   \n",
       "801954  00008100:002db641     309  B0300089051000300        430   6010   \n",
       "801955  00008100:002db642     309  B0300089051000300        430   6010   \n",
       "801956  00008100:002db652     167  B0800396161000200        403   4013   \n",
       "801957  00008100:002db653     167  B0800396161000200        403   4013   \n",
       "\n",
       "        soil_id  rain_id  \n",
       "0           427      433  \n",
       "1           427      433  \n",
       "2           427      433  \n",
       "3           427      433  \n",
       "4           427      433  \n",
       "...         ...      ...  \n",
       "801953      430      433  \n",
       "801954      430      433  \n",
       "801955      430      433  \n",
       "801956      403      403  \n",
       "801957      403      403  \n",
       "\n",
       "[801193 rows x 7 columns]"
      ]
     },
     "execution_count": 74,
     "metadata": {},
     "output_type": "execute_result"
    }
   ],
   "source": [
    "calculation_table"
   ]
  },
  {
   "cell_type": "code",
   "execution_count": 75,
   "metadata": {},
   "outputs": [],
   "source": [
    "#import gw_pegel_flur.csv for Straunaesse, Trockentoleranz\n",
    "gw_pegel = pd.read_csv('data/analysis/final/gw_pegel_flur.csv')"
   ]
  },
  {
   "cell_type": "code",
   "execution_count": 76,
   "metadata": {},
   "outputs": [],
   "source": [
    "#creating a subset only with data from May, June, July of 2022\n",
    "#48344 rows\n",
    "gw_pegel_3m = gw_pegel.query('date>=\"2022-05-01\"')"
   ]
  },
  {
   "cell_type": "code",
   "execution_count": 77,
   "metadata": {},
   "outputs": [],
   "source": [
    "#grouping by gw_id - with mean flurabstand\n",
    "#523 rows\n",
    "gw_pegel_grp = gw_pegel_3m.groupby('gw_id').mean('flurabstand')"
   ]
  },
  {
   "cell_type": "code",
   "execution_count": 78,
   "metadata": {},
   "outputs": [
    {
     "data": {
      "text/html": [
       "<div>\n",
       "<style scoped>\n",
       "    .dataframe tbody tr th:only-of-type {\n",
       "        vertical-align: middle;\n",
       "    }\n",
       "\n",
       "    .dataframe tbody tr th {\n",
       "        vertical-align: top;\n",
       "    }\n",
       "\n",
       "    .dataframe thead th {\n",
       "        text-align: right;\n",
       "    }\n",
       "</style>\n",
       "<table border=\"1\" class=\"dataframe\">\n",
       "  <thead>\n",
       "    <tr style=\"text-align: right;\">\n",
       "      <th></th>\n",
       "      <th>gw_pegel</th>\n",
       "      <th>ground_level</th>\n",
       "      <th>flurabstand</th>\n",
       "    </tr>\n",
       "    <tr>\n",
       "      <th>gw_id</th>\n",
       "      <th></th>\n",
       "      <th></th>\n",
       "      <th></th>\n",
       "    </tr>\n",
       "  </thead>\n",
       "  <tbody>\n",
       "    <tr>\n",
       "      <th>1</th>\n",
       "      <td>33.694167</td>\n",
       "      <td>49.20</td>\n",
       "      <td>15.505833</td>\n",
       "    </tr>\n",
       "    <tr>\n",
       "      <th>3</th>\n",
       "      <td>33.660000</td>\n",
       "      <td>37.87</td>\n",
       "      <td>4.210000</td>\n",
       "    </tr>\n",
       "    <tr>\n",
       "      <th>4</th>\n",
       "      <td>32.422604</td>\n",
       "      <td>39.88</td>\n",
       "      <td>7.457396</td>\n",
       "    </tr>\n",
       "    <tr>\n",
       "      <th>25</th>\n",
       "      <td>39.198738</td>\n",
       "      <td>41.98</td>\n",
       "      <td>2.781262</td>\n",
       "    </tr>\n",
       "    <tr>\n",
       "      <th>26</th>\n",
       "      <td>40.424953</td>\n",
       "      <td>42.70</td>\n",
       "      <td>2.275047</td>\n",
       "    </tr>\n",
       "    <tr>\n",
       "      <th>...</th>\n",
       "      <td>...</td>\n",
       "      <td>...</td>\n",
       "      <td>...</td>\n",
       "    </tr>\n",
       "    <tr>\n",
       "      <th>99619</th>\n",
       "      <td>34.000000</td>\n",
       "      <td>37.76</td>\n",
       "      <td>3.760000</td>\n",
       "    </tr>\n",
       "    <tr>\n",
       "      <th>99620</th>\n",
       "      <td>34.925234</td>\n",
       "      <td>37.95</td>\n",
       "      <td>3.024766</td>\n",
       "    </tr>\n",
       "    <tr>\n",
       "      <th>99721</th>\n",
       "      <td>34.000000</td>\n",
       "      <td>38.06</td>\n",
       "      <td>4.060000</td>\n",
       "    </tr>\n",
       "    <tr>\n",
       "      <th>99729</th>\n",
       "      <td>34.000000</td>\n",
       "      <td>37.42</td>\n",
       "      <td>3.420000</td>\n",
       "    </tr>\n",
       "    <tr>\n",
       "      <th>99868</th>\n",
       "      <td>32.323563</td>\n",
       "      <td>35.08</td>\n",
       "      <td>2.756437</td>\n",
       "    </tr>\n",
       "  </tbody>\n",
       "</table>\n",
       "<p>523 rows × 3 columns</p>\n",
       "</div>"
      ],
      "text/plain": [
       "        gw_pegel  ground_level  flurabstand\n",
       "gw_id                                      \n",
       "1      33.694167         49.20    15.505833\n",
       "3      33.660000         37.87     4.210000\n",
       "4      32.422604         39.88     7.457396\n",
       "25     39.198738         41.98     2.781262\n",
       "26     40.424953         42.70     2.275047\n",
       "...          ...           ...          ...\n",
       "99619  34.000000         37.76     3.760000\n",
       "99620  34.925234         37.95     3.024766\n",
       "99721  34.000000         38.06     4.060000\n",
       "99729  34.000000         37.42     3.420000\n",
       "99868  32.323563         35.08     2.756437\n",
       "\n",
       "[523 rows x 3 columns]"
      ]
     },
     "execution_count": 78,
     "metadata": {},
     "output_type": "execute_result"
    }
   ],
   "source": [
    "gw_pegel_grp"
   ]
  },
  {
   "cell_type": "code",
   "execution_count": 79,
   "metadata": {},
   "outputs": [],
   "source": [
    "#dropping colums gw_pegel/ground_level \n",
    "gw_pegel_grp.drop(columns=['gw_pegel', 'ground_level'], inplace=True)"
   ]
  },
  {
   "cell_type": "code",
   "execution_count": 80,
   "metadata": {},
   "outputs": [],
   "source": [
    "#renaming flurabstand to fl_abs\n",
    "gw_pegel_grp.rename(columns={\"flurabstand\":\"fl_abs\"}, inplace=True)"
   ]
  },
  {
   "cell_type": "code",
   "execution_count": 81,
   "metadata": {},
   "outputs": [],
   "source": [
    "#merging 'fl_abs' from 'gw_pegel_grp' on 'calculation_table'\n",
    "calculation_table = calculation_table.merge(gw_pegel_grp, how='left', on='gw_id')"
   ]
  },
  {
   "cell_type": "code",
   "execution_count": 54,
   "metadata": {},
   "outputs": [
    {
     "data": {
      "text/plain": [
       "array([433, 427, 403, 430, 400, 420])"
      ]
     },
     "execution_count": 54,
     "metadata": {},
     "output_type": "execute_result"
    }
   ],
   "source": [
    "# uncomment to check table \n",
    "#calculation_table['wetter_id'].unique()"
   ]
  },
  {
   "cell_type": "code",
   "execution_count": 82,
   "metadata": {},
   "outputs": [],
   "source": [
    "#loading the 'future_tree.csv' \n",
    "future_trees = pd.read_csv('data/analysis/final/future_trees_final.csv', index_col=0)"
   ]
  },
  {
   "cell_type": "code",
   "execution_count": 83,
   "metadata": {},
   "outputs": [
    {
     "data": {
      "text/html": [
       "<div>\n",
       "<style scoped>\n",
       "    .dataframe tbody tr th:only-of-type {\n",
       "        vertical-align: middle;\n",
       "    }\n",
       "\n",
       "    .dataframe tbody tr th {\n",
       "        vertical-align: top;\n",
       "    }\n",
       "\n",
       "    .dataframe thead th {\n",
       "        text-align: right;\n",
       "    }\n",
       "</style>\n",
       "<table border=\"1\" class=\"dataframe\">\n",
       "  <thead>\n",
       "    <tr style=\"text-align: right;\">\n",
       "      <th></th>\n",
       "      <th>baum_id</th>\n",
       "      <th>art_dtsch</th>\n",
       "      <th>art_bot</th>\n",
       "      <th>kontinentalitaet</th>\n",
       "      <th>wurzelsystem_werte</th>\n",
       "      <th>naehrstoffanspruch_werte</th>\n",
       "      <th>pH_min</th>\n",
       "      <th>pH_max</th>\n",
       "      <th>pH_spanne</th>\n",
       "      <th>staunaessetoleranz_werte</th>\n",
       "      <th>trockentoleranz_werte</th>\n",
       "      <th>hitzevertraeglichkeit_werte</th>\n",
       "      <th>bodenverdichtungstoleranz_werte</th>\n",
       "      <th>versiegelungstoleranz_werte</th>\n",
       "      <th>hitzeempfindlichkeit_werte</th>\n",
       "      <th>anspueche_an_den_boden</th>\n",
       "      <th>pH-milieu_sensibel_werte</th>\n",
       "    </tr>\n",
       "  </thead>\n",
       "  <tbody>\n",
       "    <tr>\n",
       "      <th>0</th>\n",
       "      <td>00008100:000bbafb</td>\n",
       "      <td>Pyramiden-Hainbuche</td>\n",
       "      <td>carpinus betulus</td>\n",
       "      <td>4</td>\n",
       "      <td>4.0</td>\n",
       "      <td>2.0</td>\n",
       "      <td>4.0</td>\n",
       "      <td>7.0</td>\n",
       "      <td>3.0</td>\n",
       "      <td>3.0</td>\n",
       "      <td>3.0</td>\n",
       "      <td>0.0</td>\n",
       "      <td>0.0</td>\n",
       "      <td>0.0</td>\n",
       "      <td>0.0</td>\n",
       "      <td>1.0</td>\n",
       "      <td>1.0</td>\n",
       "    </tr>\n",
       "    <tr>\n",
       "      <th>1</th>\n",
       "      <td>00008100:000bbafd</td>\n",
       "      <td>Berg-Ahorn, Weiss-Ahorn</td>\n",
       "      <td>acer pseudoplatanus</td>\n",
       "      <td>4</td>\n",
       "      <td>4.0</td>\n",
       "      <td>3.0</td>\n",
       "      <td>6.0</td>\n",
       "      <td>8.0</td>\n",
       "      <td>2.0</td>\n",
       "      <td>2.0</td>\n",
       "      <td>0.0</td>\n",
       "      <td>0.0</td>\n",
       "      <td>0.0</td>\n",
       "      <td>NaN</td>\n",
       "      <td>NaN</td>\n",
       "      <td>NaN</td>\n",
       "      <td>NaN</td>\n",
       "    </tr>\n",
       "    <tr>\n",
       "      <th>2</th>\n",
       "      <td>00008100:000bbafe</td>\n",
       "      <td>Berg-Ahorn, Weiss-Ahorn</td>\n",
       "      <td>acer pseudoplatanus</td>\n",
       "      <td>4</td>\n",
       "      <td>4.0</td>\n",
       "      <td>3.0</td>\n",
       "      <td>6.0</td>\n",
       "      <td>8.0</td>\n",
       "      <td>2.0</td>\n",
       "      <td>2.0</td>\n",
       "      <td>0.0</td>\n",
       "      <td>0.0</td>\n",
       "      <td>0.0</td>\n",
       "      <td>NaN</td>\n",
       "      <td>NaN</td>\n",
       "      <td>NaN</td>\n",
       "      <td>NaN</td>\n",
       "    </tr>\n",
       "    <tr>\n",
       "      <th>3</th>\n",
       "      <td>00008100:000bbaff</td>\n",
       "      <td>Berg-Ahorn, Weiss-Ahorn</td>\n",
       "      <td>acer pseudoplatanus</td>\n",
       "      <td>4</td>\n",
       "      <td>4.0</td>\n",
       "      <td>3.0</td>\n",
       "      <td>6.0</td>\n",
       "      <td>8.0</td>\n",
       "      <td>2.0</td>\n",
       "      <td>2.0</td>\n",
       "      <td>0.0</td>\n",
       "      <td>0.0</td>\n",
       "      <td>0.0</td>\n",
       "      <td>NaN</td>\n",
       "      <td>NaN</td>\n",
       "      <td>NaN</td>\n",
       "      <td>NaN</td>\n",
       "    </tr>\n",
       "    <tr>\n",
       "      <th>4</th>\n",
       "      <td>00008100:000bbb00</td>\n",
       "      <td>Berg-Ahorn, Weiss-Ahorn</td>\n",
       "      <td>acer pseudoplatanus</td>\n",
       "      <td>4</td>\n",
       "      <td>4.0</td>\n",
       "      <td>3.0</td>\n",
       "      <td>6.0</td>\n",
       "      <td>8.0</td>\n",
       "      <td>2.0</td>\n",
       "      <td>2.0</td>\n",
       "      <td>0.0</td>\n",
       "      <td>0.0</td>\n",
       "      <td>0.0</td>\n",
       "      <td>NaN</td>\n",
       "      <td>NaN</td>\n",
       "      <td>NaN</td>\n",
       "      <td>NaN</td>\n",
       "    </tr>\n",
       "    <tr>\n",
       "      <th>...</th>\n",
       "      <td>...</td>\n",
       "      <td>...</td>\n",
       "      <td>...</td>\n",
       "      <td>...</td>\n",
       "      <td>...</td>\n",
       "      <td>...</td>\n",
       "      <td>...</td>\n",
       "      <td>...</td>\n",
       "      <td>...</td>\n",
       "      <td>...</td>\n",
       "      <td>...</td>\n",
       "      <td>...</td>\n",
       "      <td>...</td>\n",
       "      <td>...</td>\n",
       "      <td>...</td>\n",
       "      <td>...</td>\n",
       "      <td>...</td>\n",
       "    </tr>\n",
       "    <tr>\n",
       "      <th>801197</th>\n",
       "      <td>00008100:002db6b2</td>\n",
       "      <td>Robinie</td>\n",
       "      <td>robinia pseudoacacia</td>\n",
       "      <td>4</td>\n",
       "      <td>0.0</td>\n",
       "      <td>0.0</td>\n",
       "      <td>3.0</td>\n",
       "      <td>8.0</td>\n",
       "      <td>5.0</td>\n",
       "      <td>0.0</td>\n",
       "      <td>5.0</td>\n",
       "      <td>2.0</td>\n",
       "      <td>0.0</td>\n",
       "      <td>2.0</td>\n",
       "      <td>1.0</td>\n",
       "      <td>0.0</td>\n",
       "      <td>1.0</td>\n",
       "    </tr>\n",
       "    <tr>\n",
       "      <th>801198</th>\n",
       "      <td>00008100:002db6b3</td>\n",
       "      <td>Spitz-Ahorn</td>\n",
       "      <td>acer platanoides</td>\n",
       "      <td>4</td>\n",
       "      <td>1.0</td>\n",
       "      <td>3.0</td>\n",
       "      <td>6.0</td>\n",
       "      <td>8.0</td>\n",
       "      <td>2.0</td>\n",
       "      <td>2.0</td>\n",
       "      <td>3.0</td>\n",
       "      <td>1.0</td>\n",
       "      <td>0.0</td>\n",
       "      <td>2.0</td>\n",
       "      <td>1.0</td>\n",
       "      <td>0.0</td>\n",
       "      <td>1.0</td>\n",
       "    </tr>\n",
       "    <tr>\n",
       "      <th>801199</th>\n",
       "      <td>00008100:002db6b4</td>\n",
       "      <td>Spitz-Ahorn</td>\n",
       "      <td>acer platanoides</td>\n",
       "      <td>4</td>\n",
       "      <td>1.0</td>\n",
       "      <td>3.0</td>\n",
       "      <td>6.0</td>\n",
       "      <td>8.0</td>\n",
       "      <td>2.0</td>\n",
       "      <td>2.0</td>\n",
       "      <td>3.0</td>\n",
       "      <td>1.0</td>\n",
       "      <td>0.0</td>\n",
       "      <td>2.0</td>\n",
       "      <td>1.0</td>\n",
       "      <td>0.0</td>\n",
       "      <td>1.0</td>\n",
       "    </tr>\n",
       "    <tr>\n",
       "      <th>801200</th>\n",
       "      <td>00008100:002db6b5</td>\n",
       "      <td>Hainbuche</td>\n",
       "      <td>carpinus betulus</td>\n",
       "      <td>4</td>\n",
       "      <td>4.0</td>\n",
       "      <td>2.0</td>\n",
       "      <td>4.0</td>\n",
       "      <td>7.0</td>\n",
       "      <td>3.0</td>\n",
       "      <td>3.0</td>\n",
       "      <td>3.0</td>\n",
       "      <td>0.0</td>\n",
       "      <td>0.0</td>\n",
       "      <td>0.0</td>\n",
       "      <td>0.0</td>\n",
       "      <td>1.0</td>\n",
       "      <td>1.0</td>\n",
       "    </tr>\n",
       "    <tr>\n",
       "      <th>801201</th>\n",
       "      <td>00008100:002db6b6</td>\n",
       "      <td>Robinie</td>\n",
       "      <td>robinia pseudoacacia</td>\n",
       "      <td>4</td>\n",
       "      <td>0.0</td>\n",
       "      <td>0.0</td>\n",
       "      <td>3.0</td>\n",
       "      <td>8.0</td>\n",
       "      <td>5.0</td>\n",
       "      <td>0.0</td>\n",
       "      <td>5.0</td>\n",
       "      <td>2.0</td>\n",
       "      <td>0.0</td>\n",
       "      <td>2.0</td>\n",
       "      <td>1.0</td>\n",
       "      <td>0.0</td>\n",
       "      <td>1.0</td>\n",
       "    </tr>\n",
       "  </tbody>\n",
       "</table>\n",
       "<p>801202 rows × 17 columns</p>\n",
       "</div>"
      ],
      "text/plain": [
       "                  baum_id                art_dtsch               art_bot  \\\n",
       "0       00008100:000bbafb      Pyramiden-Hainbuche      carpinus betulus   \n",
       "1       00008100:000bbafd  Berg-Ahorn, Weiss-Ahorn   acer pseudoplatanus   \n",
       "2       00008100:000bbafe  Berg-Ahorn, Weiss-Ahorn   acer pseudoplatanus   \n",
       "3       00008100:000bbaff  Berg-Ahorn, Weiss-Ahorn   acer pseudoplatanus   \n",
       "4       00008100:000bbb00  Berg-Ahorn, Weiss-Ahorn   acer pseudoplatanus   \n",
       "...                   ...                      ...                   ...   \n",
       "801197  00008100:002db6b2                  Robinie  robinia pseudoacacia   \n",
       "801198  00008100:002db6b3              Spitz-Ahorn      acer platanoides   \n",
       "801199  00008100:002db6b4              Spitz-Ahorn      acer platanoides   \n",
       "801200  00008100:002db6b5                Hainbuche      carpinus betulus   \n",
       "801201  00008100:002db6b6                  Robinie  robinia pseudoacacia   \n",
       "\n",
       "       kontinentalitaet  wurzelsystem_werte  naehrstoffanspruch_werte  pH_min  \\\n",
       "0                     4                 4.0                       2.0     4.0   \n",
       "1                     4                 4.0                       3.0     6.0   \n",
       "2                     4                 4.0                       3.0     6.0   \n",
       "3                     4                 4.0                       3.0     6.0   \n",
       "4                     4                 4.0                       3.0     6.0   \n",
       "...                 ...                 ...                       ...     ...   \n",
       "801197                4                 0.0                       0.0     3.0   \n",
       "801198                4                 1.0                       3.0     6.0   \n",
       "801199                4                 1.0                       3.0     6.0   \n",
       "801200                4                 4.0                       2.0     4.0   \n",
       "801201                4                 0.0                       0.0     3.0   \n",
       "\n",
       "        pH_max  pH_spanne  staunaessetoleranz_werte  trockentoleranz_werte  \\\n",
       "0          7.0        3.0                       3.0                    3.0   \n",
       "1          8.0        2.0                       2.0                    0.0   \n",
       "2          8.0        2.0                       2.0                    0.0   \n",
       "3          8.0        2.0                       2.0                    0.0   \n",
       "4          8.0        2.0                       2.0                    0.0   \n",
       "...        ...        ...                       ...                    ...   \n",
       "801197     8.0        5.0                       0.0                    5.0   \n",
       "801198     8.0        2.0                       2.0                    3.0   \n",
       "801199     8.0        2.0                       2.0                    3.0   \n",
       "801200     7.0        3.0                       3.0                    3.0   \n",
       "801201     8.0        5.0                       0.0                    5.0   \n",
       "\n",
       "        hitzevertraeglichkeit_werte  bodenverdichtungstoleranz_werte  \\\n",
       "0                               0.0                              0.0   \n",
       "1                               0.0                              0.0   \n",
       "2                               0.0                              0.0   \n",
       "3                               0.0                              0.0   \n",
       "4                               0.0                              0.0   \n",
       "...                             ...                              ...   \n",
       "801197                          2.0                              0.0   \n",
       "801198                          1.0                              0.0   \n",
       "801199                          1.0                              0.0   \n",
       "801200                          0.0                              0.0   \n",
       "801201                          2.0                              0.0   \n",
       "\n",
       "        versiegelungstoleranz_werte  hitzeempfindlichkeit_werte  \\\n",
       "0                               0.0                         0.0   \n",
       "1                               NaN                         NaN   \n",
       "2                               NaN                         NaN   \n",
       "3                               NaN                         NaN   \n",
       "4                               NaN                         NaN   \n",
       "...                             ...                         ...   \n",
       "801197                          2.0                         1.0   \n",
       "801198                          2.0                         1.0   \n",
       "801199                          2.0                         1.0   \n",
       "801200                          0.0                         0.0   \n",
       "801201                          2.0                         1.0   \n",
       "\n",
       "        anspueche_an_den_boden  pH-milieu_sensibel_werte  \n",
       "0                          1.0                       1.0  \n",
       "1                          NaN                       NaN  \n",
       "2                          NaN                       NaN  \n",
       "3                          NaN                       NaN  \n",
       "4                          NaN                       NaN  \n",
       "...                        ...                       ...  \n",
       "801197                     0.0                       1.0  \n",
       "801198                     0.0                       1.0  \n",
       "801199                     0.0                       1.0  \n",
       "801200                     1.0                       1.0  \n",
       "801201                     0.0                       1.0  \n",
       "\n",
       "[801202 rows x 17 columns]"
      ]
     },
     "execution_count": 83,
     "metadata": {},
     "output_type": "execute_result"
    }
   ],
   "source": [
    "future_trees"
   ]
  },
  {
   "cell_type": "code",
   "execution_count": null,
   "metadata": {},
   "outputs": [],
   "source": [
    "#possibly drop some columns of 'future_trees_final' here\n",
    "#future_trees.drop(columns=['art_dtsch'], inplace=True)"
   ]
  },
  {
   "cell_type": "code",
   "execution_count": 84,
   "metadata": {},
   "outputs": [],
   "source": [
    "#merging 'future_trees' (for tree profiles) on calculation table on 'baum_id'\n",
    "calculation_table = calculation_table.merge(future_trees, how='left', on='baum_id')"
   ]
  },
  {
   "cell_type": "code",
   "execution_count": 85,
   "metadata": {},
   "outputs": [
    {
     "name": "stdout",
     "output_type": "stream",
     "text": [
      "<class 'pandas.core.frame.DataFrame'>\n",
      "Int64Index: 801202 entries, 0 to 801201\n",
      "Data columns (total 24 columns):\n",
      " #   Column                           Non-Null Count   Dtype  \n",
      "---  ------                           --------------   -----  \n",
      " 0   baum_id                          801202 non-null  object \n",
      " 1   lor_id                           801202 non-null  int64  \n",
      " 2   boden_id                         801202 non-null  object \n",
      " 3   wetter_id                        801202 non-null  int64  \n",
      " 4   gw_id                            801202 non-null  int64  \n",
      " 5   soil_id                          801202 non-null  int64  \n",
      " 6   rain_id                          801202 non-null  int64  \n",
      " 7   fl_abs                           789729 non-null  float64\n",
      " 8   art_dtsch                        798790 non-null  object \n",
      " 9   art_bot                          801202 non-null  object \n",
      " 10  kontinentalitaet                 626515 non-null  object \n",
      " 11  wurzelsystem_werte               664725 non-null  float64\n",
      " 12  naehrstoffanspruch_werte         628397 non-null  float64\n",
      " 13  pH_min                           651475 non-null  float64\n",
      " 14  pH_max                           651475 non-null  float64\n",
      " 15  pH_spanne                        651475 non-null  float64\n",
      " 16  staunaessetoleranz_werte         664632 non-null  float64\n",
      " 17  trockentoleranz_werte            615084 non-null  float64\n",
      " 18  hitzevertraeglichkeit_werte      615084 non-null  float64\n",
      " 19  bodenverdichtungstoleranz_werte  615254 non-null  float64\n",
      " 20  versiegelungstoleranz_werte      608504 non-null  float64\n",
      " 21  hitzeempfindlichkeit_werte       608504 non-null  float64\n",
      " 22  anspueche_an_den_boden           608504 non-null  float64\n",
      " 23  pH-milieu_sensibel_werte         608504 non-null  float64\n",
      "dtypes: float64(14), int64(5), object(5)\n",
      "memory usage: 152.8+ MB\n"
     ]
    }
   ],
   "source": [
    "calculation_table.info()"
   ]
  },
  {
   "cell_type": "code",
   "execution_count": 86,
   "metadata": {},
   "outputs": [
    {
     "data": {
      "text/plain": [
       "Index(['baum_id', 'lor_id', 'boden_id', 'wetter_id', 'gw_id', 'soil_id',\n",
       "       'rain_id', 'fl_abs', 'art_dtsch', 'art_bot', 'kontinentalitaet',\n",
       "       'wurzelsystem_werte', 'naehrstoffanspruch_werte', 'pH_min', 'pH_max',\n",
       "       'pH_spanne', 'staunaessetoleranz_werte', 'trockentoleranz_werte',\n",
       "       'hitzevertraeglichkeit_werte', 'bodenverdichtungstoleranz_werte',\n",
       "       'versiegelungstoleranz_werte', 'hitzeempfindlichkeit_werte',\n",
       "       'anspueche_an_den_boden', 'pH-milieu_sensibel_werte'],\n",
       "      dtype='object')"
      ]
     },
     "execution_count": 86,
     "metadata": {},
     "output_type": "execute_result"
    }
   ],
   "source": [
    "calculation_table.columns"
   ]
  },
  {
   "cell_type": "code",
   "execution_count": 87,
   "metadata": {},
   "outputs": [],
   "source": [
    "#to drop columns uncomment this line\n",
    "calculation_table.drop(columns=(['pH_spanne']), inplace=True)\n"
   ]
  },
  {
   "cell_type": "code",
   "execution_count": 88,
   "metadata": {},
   "outputs": [],
   "source": [
    "#remove or add # in front of ''' to use or not use this step to select or order columns in dataframe\n",
    "''' \n",
    "columns_to_keep = ['baum_id', 'lor_id', 'gw_id', 'boden_id', 'wetter_id', 'soil_id', 'rain_id', 'fl_abs',\n",
    "       'art_bot', 'kontinentalitaet', 'wurzelsystem_werte',\n",
    "       'naehrstoffanspruch_werte', 'pH_min', 'pH_max',\n",
    "       'staunaessetoleranz_werte', 'trockentoleranz_werte',\n",
    "       'hitzevertraeglichkeit_werte', 'bodenverdichtungstoleranz_werte',\n",
    "       'versiegelungstoleranz_werte', 'hitzeempfindlichkeit_werte',\n",
    "       'anspueche_an_den_boden', 'pH-milieu_sensibel_werte']\n",
    "calculation_table = calculation_table[columns_to_keep]\n",
    "''' \n"
   ]
  },
  {
   "cell_type": "code",
   "execution_count": 89,
   "metadata": {},
   "outputs": [
    {
     "name": "stdout",
     "output_type": "stream",
     "text": [
      "<class 'pandas.core.frame.DataFrame'>\n",
      "Int64Index: 801202 entries, 0 to 801201\n",
      "Data columns (total 22 columns):\n",
      " #   Column                           Non-Null Count   Dtype  \n",
      "---  ------                           --------------   -----  \n",
      " 0   baum_id                          801202 non-null  object \n",
      " 1   lor_id                           801202 non-null  int64  \n",
      " 2   gw_id                            801202 non-null  int64  \n",
      " 3   boden_id                         801202 non-null  object \n",
      " 4   wetter_id                        801202 non-null  int64  \n",
      " 5   soil_id                          801202 non-null  int64  \n",
      " 6   rain_id                          801202 non-null  int64  \n",
      " 7   fl_abs                           789729 non-null  float64\n",
      " 8   art_bot                          801202 non-null  object \n",
      " 9   kontinentalitaet                 626515 non-null  object \n",
      " 10  wurzelsystem_werte               664725 non-null  float64\n",
      " 11  naehrstoffanspruch_werte         628397 non-null  float64\n",
      " 12  pH_min                           651475 non-null  float64\n",
      " 13  pH_max                           651475 non-null  float64\n",
      " 14  staunaessetoleranz_werte         664632 non-null  float64\n",
      " 15  trockentoleranz_werte            615084 non-null  float64\n",
      " 16  hitzevertraeglichkeit_werte      615084 non-null  float64\n",
      " 17  bodenverdichtungstoleranz_werte  615254 non-null  float64\n",
      " 18  versiegelungstoleranz_werte      608504 non-null  float64\n",
      " 19  hitzeempfindlichkeit_werte       608504 non-null  float64\n",
      " 20  anspueche_an_den_boden           608504 non-null  float64\n",
      " 21  pH-milieu_sensibel_werte         608504 non-null  float64\n",
      "dtypes: float64(13), int64(5), object(4)\n",
      "memory usage: 140.6+ MB\n"
     ]
    }
   ],
   "source": [
    "calculation_table.info()"
   ]
  },
  {
   "cell_type": "code",
   "execution_count": 90,
   "metadata": {},
   "outputs": [],
   "source": [
    "#loading the boden geojason \n",
    "boden = gpd.read_file('data/analysis/final/boden_final.geojson')\n"
   ]
  },
  {
   "cell_type": "code",
   "execution_count": 91,
   "metadata": {},
   "outputs": [
    {
     "data": {
      "text/plain": [
       "Index(['phobermin', 'phobermax', 'phoberdur', 'phuntermax', 'phuntermin',\n",
       "       'phunterdur', 'kf', 'ld', 'naerbew', 'naerbew_bez', 'boden_id',\n",
       "       'geometry'],\n",
       "      dtype='object')"
      ]
     },
     "execution_count": 91,
     "metadata": {},
     "output_type": "execute_result"
    }
   ],
   "source": [
    "boden.columns"
   ]
  },
  {
   "cell_type": "code",
   "execution_count": null,
   "metadata": {},
   "outputs": [],
   "source": [
    "#remove \n",
    "boden.drop(columns=(['phobermin', 'phobermax', 'phoberdur', 'phuntermax',\n",
    "       'phuntermin', 'naerbew_bez', 'geometry' ]), inplace=True)"
   ]
  },
  {
   "cell_type": "code",
   "execution_count": 94,
   "metadata": {},
   "outputs": [],
   "source": [
    "#renaming 'phunterdur' to 'ph_soil\n",
    "boden.rename(columns={\"phunterdur\":\"ph_soil\"}, inplace=True)"
   ]
  },
  {
   "cell_type": "code",
   "execution_count": 95,
   "metadata": {},
   "outputs": [
    {
     "name": "stdout",
     "output_type": "stream",
     "text": [
      "<class 'pandas.core.frame.DataFrame'>\n",
      "Int64Index: 801202 entries, 0 to 801201\n",
      "Data columns (total 22 columns):\n",
      " #   Column                           Non-Null Count   Dtype  \n",
      "---  ------                           --------------   -----  \n",
      " 0   baum_id                          801202 non-null  object \n",
      " 1   lor_id                           801202 non-null  int64  \n",
      " 2   gw_id                            801202 non-null  int64  \n",
      " 3   boden_id                         801202 non-null  object \n",
      " 4   wetter_id                        801202 non-null  int64  \n",
      " 5   soil_id                          801202 non-null  int64  \n",
      " 6   rain_id                          801202 non-null  int64  \n",
      " 7   fl_abs                           789729 non-null  float64\n",
      " 8   art_bot                          801202 non-null  object \n",
      " 9   kontinentalitaet                 626515 non-null  object \n",
      " 10  wurzelsystem_werte               664725 non-null  float64\n",
      " 11  naehrstoffanspruch_werte         628397 non-null  float64\n",
      " 12  pH_min                           651475 non-null  float64\n",
      " 13  pH_max                           651475 non-null  float64\n",
      " 14  staunaessetoleranz_werte         664632 non-null  float64\n",
      " 15  trockentoleranz_werte            615084 non-null  float64\n",
      " 16  hitzevertraeglichkeit_werte      615084 non-null  float64\n",
      " 17  bodenverdichtungstoleranz_werte  615254 non-null  float64\n",
      " 18  versiegelungstoleranz_werte      608504 non-null  float64\n",
      " 19  hitzeempfindlichkeit_werte       608504 non-null  float64\n",
      " 20  anspueche_an_den_boden           608504 non-null  float64\n",
      " 21  pH-milieu_sensibel_werte         608504 non-null  float64\n",
      "dtypes: float64(13), int64(5), object(4)\n",
      "memory usage: 140.6+ MB\n"
     ]
    }
   ],
   "source": [
    "calculation_table.info()"
   ]
  },
  {
   "cell_type": "code",
   "execution_count": null,
   "metadata": {},
   "outputs": [],
   "source": [
    "#should no longer be necessary since it is now defaulted as str\n",
    "#change the freaking data type in the fact table for boden_id\n",
    "#calculation_table = calculation_table.astype({'boden_id': 'str'})"
   ]
  },
  {
   "cell_type": "code",
   "execution_count": 96,
   "metadata": {},
   "outputs": [],
   "source": [
    "#merging boden df to calculation table on boden_id\n",
    "calculation_table = calculation_table.merge(boden, how='left', on='boden_id')"
   ]
  },
  {
   "cell_type": "code",
   "execution_count": 98,
   "metadata": {},
   "outputs": [
    {
     "name": "stdout",
     "output_type": "stream",
     "text": [
      "<class 'pandas.core.frame.DataFrame'>\n",
      "Int64Index: 801202 entries, 0 to 801201\n",
      "Data columns (total 26 columns):\n",
      " #   Column                           Non-Null Count   Dtype  \n",
      "---  ------                           --------------   -----  \n",
      " 0   baum_id                          801202 non-null  object \n",
      " 1   lor_id                           801202 non-null  int64  \n",
      " 2   gw_id                            801202 non-null  int64  \n",
      " 3   boden_id                         801202 non-null  object \n",
      " 4   wetter_id                        801202 non-null  int64  \n",
      " 5   soil_id                          801202 non-null  int64  \n",
      " 6   rain_id                          801202 non-null  int64  \n",
      " 7   fl_abs                           789729 non-null  float64\n",
      " 8   art_bot                          801202 non-null  object \n",
      " 9   kontinentalitaet                 626515 non-null  object \n",
      " 10  wurzelsystem_werte               664725 non-null  float64\n",
      " 11  naehrstoffanspruch_werte         628397 non-null  float64\n",
      " 12  pH_min                           651475 non-null  float64\n",
      " 13  pH_max                           651475 non-null  float64\n",
      " 14  staunaessetoleranz_werte         664632 non-null  float64\n",
      " 15  trockentoleranz_werte            615084 non-null  float64\n",
      " 16  hitzevertraeglichkeit_werte      615084 non-null  float64\n",
      " 17  bodenverdichtungstoleranz_werte  615254 non-null  float64\n",
      " 18  versiegelungstoleranz_werte      608504 non-null  float64\n",
      " 19  hitzeempfindlichkeit_werte       608504 non-null  float64\n",
      " 20  anspueche_an_den_boden           608504 non-null  float64\n",
      " 21  pH-milieu_sensibel_werte         608504 non-null  float64\n",
      " 22  ph_soil                          801202 non-null  float64\n",
      " 23  kf                               801202 non-null  float64\n",
      " 24  ld                               801202 non-null  float64\n",
      " 25  naerbew                          801202 non-null  float64\n",
      "dtypes: float64(17), int64(5), object(4)\n",
      "memory usage: 165.0+ MB\n"
     ]
    }
   ],
   "source": [
    "calculation_table.info()"
   ]
  },
  {
   "cell_type": "code",
   "execution_count": 99,
   "metadata": {},
   "outputs": [
    {
     "data": {
      "text/html": [
       "<div>\n",
       "<style scoped>\n",
       "    .dataframe tbody tr th:only-of-type {\n",
       "        vertical-align: middle;\n",
       "    }\n",
       "\n",
       "    .dataframe tbody tr th {\n",
       "        vertical-align: top;\n",
       "    }\n",
       "\n",
       "    .dataframe thead th {\n",
       "        text-align: right;\n",
       "    }\n",
       "</style>\n",
       "<table border=\"1\" class=\"dataframe\">\n",
       "  <thead>\n",
       "    <tr style=\"text-align: right;\">\n",
       "      <th></th>\n",
       "      <th>baum_id</th>\n",
       "      <th>lor_id</th>\n",
       "      <th>gw_id</th>\n",
       "      <th>boden_id</th>\n",
       "      <th>wetter_id</th>\n",
       "      <th>soil_id</th>\n",
       "      <th>rain_id</th>\n",
       "      <th>fl_abs</th>\n",
       "      <th>art_bot</th>\n",
       "      <th>kontinentalitaet</th>\n",
       "      <th>...</th>\n",
       "      <th>hitzevertraeglichkeit_werte</th>\n",
       "      <th>bodenverdichtungstoleranz_werte</th>\n",
       "      <th>versiegelungstoleranz_werte</th>\n",
       "      <th>hitzeempfindlichkeit_werte</th>\n",
       "      <th>anspueche_an_den_boden</th>\n",
       "      <th>pH-milieu_sensibel_werte</th>\n",
       "      <th>ph_soil</th>\n",
       "      <th>kf</th>\n",
       "      <th>ld</th>\n",
       "      <th>naerbew</th>\n",
       "    </tr>\n",
       "  </thead>\n",
       "  <tbody>\n",
       "    <tr>\n",
       "      <th>0</th>\n",
       "      <td>00008100:000bbafb</td>\n",
       "      <td>525</td>\n",
       "      <td>496</td>\n",
       "      <td>B1400805161000000</td>\n",
       "      <td>433</td>\n",
       "      <td>427</td>\n",
       "      <td>433</td>\n",
       "      <td>3.767439</td>\n",
       "      <td>carpinus betulus</td>\n",
       "      <td>4</td>\n",
       "      <td>...</td>\n",
       "      <td>0.0</td>\n",
       "      <td>0.0</td>\n",
       "      <td>0.0</td>\n",
       "      <td>0.0</td>\n",
       "      <td>1.0</td>\n",
       "      <td>1.0</td>\n",
       "      <td>7.0</td>\n",
       "      <td>40.0</td>\n",
       "      <td>1.6</td>\n",
       "      <td>1.0</td>\n",
       "    </tr>\n",
       "    <tr>\n",
       "      <th>1</th>\n",
       "      <td>00008100:000bbafd</td>\n",
       "      <td>525</td>\n",
       "      <td>496</td>\n",
       "      <td>B1400805161000000</td>\n",
       "      <td>433</td>\n",
       "      <td>427</td>\n",
       "      <td>433</td>\n",
       "      <td>3.767439</td>\n",
       "      <td>acer pseudoplatanus</td>\n",
       "      <td>4</td>\n",
       "      <td>...</td>\n",
       "      <td>0.0</td>\n",
       "      <td>0.0</td>\n",
       "      <td>NaN</td>\n",
       "      <td>NaN</td>\n",
       "      <td>NaN</td>\n",
       "      <td>NaN</td>\n",
       "      <td>7.0</td>\n",
       "      <td>40.0</td>\n",
       "      <td>1.6</td>\n",
       "      <td>1.0</td>\n",
       "    </tr>\n",
       "    <tr>\n",
       "      <th>2</th>\n",
       "      <td>00008100:000bbafe</td>\n",
       "      <td>525</td>\n",
       "      <td>496</td>\n",
       "      <td>B1400805161000000</td>\n",
       "      <td>433</td>\n",
       "      <td>427</td>\n",
       "      <td>433</td>\n",
       "      <td>3.767439</td>\n",
       "      <td>acer pseudoplatanus</td>\n",
       "      <td>4</td>\n",
       "      <td>...</td>\n",
       "      <td>0.0</td>\n",
       "      <td>0.0</td>\n",
       "      <td>NaN</td>\n",
       "      <td>NaN</td>\n",
       "      <td>NaN</td>\n",
       "      <td>NaN</td>\n",
       "      <td>7.0</td>\n",
       "      <td>40.0</td>\n",
       "      <td>1.6</td>\n",
       "      <td>1.0</td>\n",
       "    </tr>\n",
       "    <tr>\n",
       "      <th>3</th>\n",
       "      <td>00008100:000bbaff</td>\n",
       "      <td>525</td>\n",
       "      <td>496</td>\n",
       "      <td>B1400805161000000</td>\n",
       "      <td>433</td>\n",
       "      <td>427</td>\n",
       "      <td>433</td>\n",
       "      <td>3.767439</td>\n",
       "      <td>acer pseudoplatanus</td>\n",
       "      <td>4</td>\n",
       "      <td>...</td>\n",
       "      <td>0.0</td>\n",
       "      <td>0.0</td>\n",
       "      <td>NaN</td>\n",
       "      <td>NaN</td>\n",
       "      <td>NaN</td>\n",
       "      <td>NaN</td>\n",
       "      <td>7.0</td>\n",
       "      <td>40.0</td>\n",
       "      <td>1.6</td>\n",
       "      <td>1.0</td>\n",
       "    </tr>\n",
       "    <tr>\n",
       "      <th>4</th>\n",
       "      <td>00008100:000bbb00</td>\n",
       "      <td>525</td>\n",
       "      <td>496</td>\n",
       "      <td>B1400805161000000</td>\n",
       "      <td>433</td>\n",
       "      <td>427</td>\n",
       "      <td>433</td>\n",
       "      <td>3.767439</td>\n",
       "      <td>acer pseudoplatanus</td>\n",
       "      <td>4</td>\n",
       "      <td>...</td>\n",
       "      <td>0.0</td>\n",
       "      <td>0.0</td>\n",
       "      <td>NaN</td>\n",
       "      <td>NaN</td>\n",
       "      <td>NaN</td>\n",
       "      <td>NaN</td>\n",
       "      <td>7.0</td>\n",
       "      <td>40.0</td>\n",
       "      <td>1.6</td>\n",
       "      <td>1.0</td>\n",
       "    </tr>\n",
       "  </tbody>\n",
       "</table>\n",
       "<p>5 rows × 26 columns</p>\n",
       "</div>"
      ],
      "text/plain": [
       "             baum_id  lor_id  gw_id           boden_id  wetter_id  soil_id  \\\n",
       "0  00008100:000bbafb     525    496  B1400805161000000        433      427   \n",
       "1  00008100:000bbafd     525    496  B1400805161000000        433      427   \n",
       "2  00008100:000bbafe     525    496  B1400805161000000        433      427   \n",
       "3  00008100:000bbaff     525    496  B1400805161000000        433      427   \n",
       "4  00008100:000bbb00     525    496  B1400805161000000        433      427   \n",
       "\n",
       "   rain_id    fl_abs              art_bot kontinentalitaet  ...  \\\n",
       "0      433  3.767439     carpinus betulus                4  ...   \n",
       "1      433  3.767439  acer pseudoplatanus                4  ...   \n",
       "2      433  3.767439  acer pseudoplatanus                4  ...   \n",
       "3      433  3.767439  acer pseudoplatanus                4  ...   \n",
       "4      433  3.767439  acer pseudoplatanus                4  ...   \n",
       "\n",
       "   hitzevertraeglichkeit_werte  bodenverdichtungstoleranz_werte  \\\n",
       "0                          0.0                              0.0   \n",
       "1                          0.0                              0.0   \n",
       "2                          0.0                              0.0   \n",
       "3                          0.0                              0.0   \n",
       "4                          0.0                              0.0   \n",
       "\n",
       "   versiegelungstoleranz_werte  hitzeempfindlichkeit_werte  \\\n",
       "0                          0.0                         0.0   \n",
       "1                          NaN                         NaN   \n",
       "2                          NaN                         NaN   \n",
       "3                          NaN                         NaN   \n",
       "4                          NaN                         NaN   \n",
       "\n",
       "   anspueche_an_den_boden  pH-milieu_sensibel_werte  ph_soil    kf   ld  \\\n",
       "0                     1.0                       1.0      7.0  40.0  1.6   \n",
       "1                     NaN                       NaN      7.0  40.0  1.6   \n",
       "2                     NaN                       NaN      7.0  40.0  1.6   \n",
       "3                     NaN                       NaN      7.0  40.0  1.6   \n",
       "4                     NaN                       NaN      7.0  40.0  1.6   \n",
       "\n",
       "   naerbew  \n",
       "0      1.0  \n",
       "1      1.0  \n",
       "2      1.0  \n",
       "3      1.0  \n",
       "4      1.0  \n",
       "\n",
       "[5 rows x 26 columns]"
      ]
     },
     "execution_count": 99,
     "metadata": {},
     "output_type": "execute_result"
    }
   ],
   "source": [
    "calculation_table.head()"
   ]
  },
  {
   "cell_type": "code",
   "execution_count": 101,
   "metadata": {},
   "outputs": [],
   "source": [
    "#import perc_calc_final.csv for Niederschlaege_abw, Niederschlaege_anz\n",
    "perc_calc = pd.read_csv('data/analysis/final/perc_calc_final_10_09.csv', index_col=0)\n",
    "\n",
    "\n",
    "#possibly drop some columns of 'perc_calc' here\n",
    "perc_calc.drop(columns=['perc_akt', 'perc_days_akt', 'perc_ljm', 'perc_days_ljm'], inplace=True)\n",
    "\n",
    "#merging 'perc_calc' on calculation table on 'wetter_id'\n",
    "calculation_table = calculation_table.merge(perc_calc, how='left', on='rain_id')"
   ]
  },
  {
   "cell_type": "code",
   "execution_count": 102,
   "metadata": {},
   "outputs": [],
   "source": [
    "#import temp_calc_final.csv for Temperatur\n",
    "temp_calc = pd.read_csv('data/analysis/final/temp_calc_final_10_09.csv', index_col=0)\n",
    "\n",
    "# drop coulumns of 'temp_calc'\n",
    "temp_calc.drop(columns=['temp_avg_akt', 'temp_max_akt', 'temp_min_akt', 'temp_range_akt', 'temp_min_ljm', 'temp_max_ljm', 'temp_range_ljm'], inplace=True)\n",
    "\n",
    "#renaming columns\n",
    "temp_calc.rename(columns={\"trp_night_akt\":\"tr_night_akt\", 'heat_day_akt': 'ht_night_akt', 'trp_night_ljm': 'tr_night_ljm', 'heat_day_ljm': 'ht_night_ljm', 'temp_max_diff': 'diff_t_max', 'temp_range_diff': 'diff_t_ran'}, inplace=True)\n",
    "\n",
    "#merging 'temp_calc' on calculation table on 'wetter_id'\n",
    "calculation_table = calculation_table.merge(temp_calc, how='left', on='rain_id')\n"
   ]
  },
  {
   "cell_type": "code",
   "execution_count": 103,
   "metadata": {},
   "outputs": [
    {
     "data": {
      "text/html": [
       "<div>\n",
       "<style scoped>\n",
       "    .dataframe tbody tr th:only-of-type {\n",
       "        vertical-align: middle;\n",
       "    }\n",
       "\n",
       "    .dataframe tbody tr th {\n",
       "        vertical-align: top;\n",
       "    }\n",
       "\n",
       "    .dataframe thead th {\n",
       "        text-align: right;\n",
       "    }\n",
       "</style>\n",
       "<table border=\"1\" class=\"dataframe\">\n",
       "  <thead>\n",
       "    <tr style=\"text-align: right;\">\n",
       "      <th></th>\n",
       "      <th>rain_id</th>\n",
       "      <th>tr_night_akt</th>\n",
       "      <th>ht_night_akt</th>\n",
       "      <th>tr_night_ljm</th>\n",
       "      <th>ht_night_ljm</th>\n",
       "      <th>diff_t_max</th>\n",
       "      <th>diff_t_ran</th>\n",
       "    </tr>\n",
       "  </thead>\n",
       "  <tbody>\n",
       "    <tr>\n",
       "      <th>0</th>\n",
       "      <td>400</td>\n",
       "      <td>0</td>\n",
       "      <td>0.02</td>\n",
       "      <td>0.01</td>\n",
       "      <td>0.8</td>\n",
       "      <td>3.47</td>\n",
       "      <td>3.48</td>\n",
       "    </tr>\n",
       "    <tr>\n",
       "      <th>1</th>\n",
       "      <td>403</td>\n",
       "      <td>0</td>\n",
       "      <td>0.02</td>\n",
       "      <td>0.00</td>\n",
       "      <td>0.8</td>\n",
       "      <td>3.20</td>\n",
       "      <td>2.32</td>\n",
       "    </tr>\n",
       "    <tr>\n",
       "      <th>2</th>\n",
       "      <td>420</td>\n",
       "      <td>0</td>\n",
       "      <td>0.02</td>\n",
       "      <td>0.01</td>\n",
       "      <td>0.1</td>\n",
       "      <td>3.24</td>\n",
       "      <td>2.09</td>\n",
       "    </tr>\n",
       "    <tr>\n",
       "      <th>3</th>\n",
       "      <td>427</td>\n",
       "      <td>0</td>\n",
       "      <td>0.02</td>\n",
       "      <td>0.00</td>\n",
       "      <td>0.8</td>\n",
       "      <td>3.78</td>\n",
       "      <td>2.54</td>\n",
       "    </tr>\n",
       "    <tr>\n",
       "      <th>4</th>\n",
       "      <td>433</td>\n",
       "      <td>0</td>\n",
       "      <td>0.01</td>\n",
       "      <td>0.02</td>\n",
       "      <td>0.8</td>\n",
       "      <td>3.63</td>\n",
       "      <td>2.48</td>\n",
       "    </tr>\n",
       "  </tbody>\n",
       "</table>\n",
       "</div>"
      ],
      "text/plain": [
       "   rain_id  tr_night_akt  ht_night_akt  tr_night_ljm  ht_night_ljm  \\\n",
       "0      400             0          0.02          0.01           0.8   \n",
       "1      403             0          0.02          0.00           0.8   \n",
       "2      420             0          0.02          0.01           0.1   \n",
       "3      427             0          0.02          0.00           0.8   \n",
       "4      433             0          0.01          0.02           0.8   \n",
       "\n",
       "   diff_t_max  diff_t_ran  \n",
       "0        3.47        3.48  \n",
       "1        3.20        2.32  \n",
       "2        3.24        2.09  \n",
       "3        3.78        2.54  \n",
       "4        3.63        2.48  "
      ]
     },
     "execution_count": 103,
     "metadata": {},
     "output_type": "execute_result"
    }
   ],
   "source": [
    "temp_calc"
   ]
  },
  {
   "cell_type": "code",
   "execution_count": 104,
   "metadata": {},
   "outputs": [],
   "source": [
    "#import soil_calc_final.csv for Temperatur\n",
    "soil_calc = pd.read_csv('data/analysis/final/soil_calc_final_10_09.csv', index_col=0)\n",
    "\n",
    "# drop coulumns of 'soil_calc'\n",
    "soil_calc.drop(columns=['soil_temp_akt', 'soil_temp_ljm'], inplace=True)\n",
    "\n",
    "#renaming columns\n",
    "soil_calc.rename(columns={'temp_diff': 'diff_t_soil', 'temp_percentage': 'per_t_soil'}, inplace=True)\n",
    "\n",
    "#merging 'soil_calc' on calculation table on 'wetter_id'\n",
    "calculation_table = calculation_table.merge(soil_calc, how='left', on='soil_id')"
   ]
  },
  {
   "cell_type": "code",
   "execution_count": 105,
   "metadata": {},
   "outputs": [
    {
     "data": {
      "text/html": [
       "<div>\n",
       "<style scoped>\n",
       "    .dataframe tbody tr th:only-of-type {\n",
       "        vertical-align: middle;\n",
       "    }\n",
       "\n",
       "    .dataframe tbody tr th {\n",
       "        vertical-align: top;\n",
       "    }\n",
       "\n",
       "    .dataframe thead th {\n",
       "        text-align: right;\n",
       "    }\n",
       "</style>\n",
       "<table border=\"1\" class=\"dataframe\">\n",
       "  <thead>\n",
       "    <tr style=\"text-align: right;\">\n",
       "      <th></th>\n",
       "      <th>soil_id</th>\n",
       "      <th>diff_t_soil</th>\n",
       "      <th>per_t_soil</th>\n",
       "    </tr>\n",
       "  </thead>\n",
       "  <tbody>\n",
       "    <tr>\n",
       "      <th>0</th>\n",
       "      <td>403</td>\n",
       "      <td>2.30</td>\n",
       "      <td>12.35</td>\n",
       "    </tr>\n",
       "    <tr>\n",
       "      <th>1</th>\n",
       "      <td>420</td>\n",
       "      <td>4.59</td>\n",
       "      <td>24.97</td>\n",
       "    </tr>\n",
       "    <tr>\n",
       "      <th>2</th>\n",
       "      <td>427</td>\n",
       "      <td>3.42</td>\n",
       "      <td>18.09</td>\n",
       "    </tr>\n",
       "    <tr>\n",
       "      <th>3</th>\n",
       "      <td>430</td>\n",
       "      <td>1.57</td>\n",
       "      <td>7.70</td>\n",
       "    </tr>\n",
       "  </tbody>\n",
       "</table>\n",
       "</div>"
      ],
      "text/plain": [
       "   soil_id  diff_t_soil  per_t_soil\n",
       "0      403         2.30       12.35\n",
       "1      420         4.59       24.97\n",
       "2      427         3.42       18.09\n",
       "3      430         1.57        7.70"
      ]
     },
     "execution_count": 105,
     "metadata": {},
     "output_type": "execute_result"
    }
   ],
   "source": [
    "soil_calc"
   ]
  },
  {
   "cell_type": "code",
   "execution_count": 106,
   "metadata": {},
   "outputs": [
    {
     "name": "stdout",
     "output_type": "stream",
     "text": [
      "<class 'pandas.core.frame.DataFrame'>\n",
      "Int64Index: 801202 entries, 0 to 801201\n",
      "Data columns (total 38 columns):\n",
      " #   Column                           Non-Null Count   Dtype  \n",
      "---  ------                           --------------   -----  \n",
      " 0   baum_id                          801202 non-null  object \n",
      " 1   lor_id                           801202 non-null  int64  \n",
      " 2   gw_id                            801202 non-null  int64  \n",
      " 3   boden_id                         801202 non-null  object \n",
      " 4   wetter_id                        801202 non-null  int64  \n",
      " 5   soil_id                          801202 non-null  int64  \n",
      " 6   rain_id                          801202 non-null  int64  \n",
      " 7   fl_abs                           789729 non-null  float64\n",
      " 8   art_bot                          801202 non-null  object \n",
      " 9   kontinentalitaet                 626515 non-null  object \n",
      " 10  wurzelsystem_werte               664725 non-null  float64\n",
      " 11  naehrstoffanspruch_werte         628397 non-null  float64\n",
      " 12  pH_min                           651475 non-null  float64\n",
      " 13  pH_max                           651475 non-null  float64\n",
      " 14  staunaessetoleranz_werte         664632 non-null  float64\n",
      " 15  trockentoleranz_werte            615084 non-null  float64\n",
      " 16  hitzevertraeglichkeit_werte      615084 non-null  float64\n",
      " 17  bodenverdichtungstoleranz_werte  615254 non-null  float64\n",
      " 18  versiegelungstoleranz_werte      608504 non-null  float64\n",
      " 19  hitzeempfindlichkeit_werte       608504 non-null  float64\n",
      " 20  anspueche_an_den_boden           608504 non-null  float64\n",
      " 21  pH-milieu_sensibel_werte         608504 non-null  float64\n",
      " 22  ph_soil                          801202 non-null  float64\n",
      " 23  kf                               801202 non-null  float64\n",
      " 24  ld                               801202 non-null  float64\n",
      " 25  naerbew                          801202 non-null  float64\n",
      " 26  perc_diff                        801202 non-null  float64\n",
      " 27  perc_days_diff                   801202 non-null  float64\n",
      " 28  perc_percentage                  801202 non-null  float64\n",
      " 29  perc_percentage_days_diff        801202 non-null  float64\n",
      " 30  tr_night_akt                     801202 non-null  int64  \n",
      " 31  ht_night_akt                     801202 non-null  float64\n",
      " 32  tr_night_ljm                     801202 non-null  float64\n",
      " 33  ht_night_ljm                     801202 non-null  float64\n",
      " 34  diff_t_max                       801202 non-null  float64\n",
      " 35  diff_t_ran                       801202 non-null  float64\n",
      " 36  diff_t_soil                      801202 non-null  float64\n",
      " 37  per_t_soil                       801202 non-null  float64\n",
      "dtypes: float64(28), int64(6), object(4)\n",
      "memory usage: 238.4+ MB\n"
     ]
    }
   ],
   "source": [
    "calculation_table.info()"
   ]
  },
  {
   "cell_type": "code",
   "execution_count": 107,
   "metadata": {},
   "outputs": [],
   "source": [
    "#loading versiegelung_cl.geojson \n",
    "\n",
    "versiegelung = gpd.read_file('data/analysis/final//vers_final.geojson')"
   ]
  },
  {
   "cell_type": "code",
   "execution_count": 108,
   "metadata": {},
   "outputs": [
    {
     "name": "stdout",
     "output_type": "stream",
     "text": [
      "<class 'geopandas.geodataframe.GeoDataFrame'>\n",
      "RangeIndex: 24655 entries, 0 to 24654\n",
      "Data columns (total 8 columns):\n",
      " #   Column     Non-Null Count  Dtype   \n",
      "---  ------     --------------  -----   \n",
      " 0   vg         24655 non-null  float64 \n",
      " 1   vgstrasse  24655 non-null  float64 \n",
      " 2   regenja    24655 non-null  int64   \n",
      " 3   regenso    24655 non-null  int64   \n",
      " 4   feld_30    24655 non-null  int64   \n",
      " 5   feld_150   24655 non-null  int64   \n",
      " 6   boden_id   24655 non-null  object  \n",
      " 7   geometry   24655 non-null  geometry\n",
      "dtypes: float64(2), geometry(1), int64(4), object(1)\n",
      "memory usage: 1.5+ MB\n"
     ]
    }
   ],
   "source": [
    "versiegelung.info()"
   ]
  },
  {
   "cell_type": "code",
   "execution_count": 109,
   "metadata": {},
   "outputs": [],
   "source": [
    "versiegelung_to_keep=['boden_id', 'vg', 'vgstrasse']\n",
    "versiegelung = versiegelung[versiegelung_to_keep]"
   ]
  },
  {
   "cell_type": "code",
   "execution_count": 110,
   "metadata": {},
   "outputs": [],
   "source": [
    "#merging versiegelungsdata on calculation table \n",
    "calculation_table = calculation_table.merge(versiegelung, how='left', on='boden_id')"
   ]
  },
  {
   "cell_type": "code",
   "execution_count": 112,
   "metadata": {},
   "outputs": [
    {
     "name": "stdout",
     "output_type": "stream",
     "text": [
      "<class 'pandas.core.frame.DataFrame'>\n",
      "Int64Index: 801202 entries, 0 to 801201\n",
      "Data columns (total 40 columns):\n",
      " #   Column                           Non-Null Count   Dtype  \n",
      "---  ------                           --------------   -----  \n",
      " 0   baum_id                          801202 non-null  object \n",
      " 1   lor_id                           801202 non-null  int64  \n",
      " 2   gw_id                            801202 non-null  int64  \n",
      " 3   boden_id                         801202 non-null  object \n",
      " 4   wetter_id                        801202 non-null  int64  \n",
      " 5   soil_id                          801202 non-null  int64  \n",
      " 6   rain_id                          801202 non-null  int64  \n",
      " 7   fl_abs                           789729 non-null  float64\n",
      " 8   art_bot                          801202 non-null  object \n",
      " 9   kontinentalitaet                 626515 non-null  object \n",
      " 10  wurzelsystem_werte               664725 non-null  float64\n",
      " 11  naehrstoffanspruch_werte         628397 non-null  float64\n",
      " 12  pH_min                           651475 non-null  float64\n",
      " 13  pH_max                           651475 non-null  float64\n",
      " 14  staunaessetoleranz_werte         664632 non-null  float64\n",
      " 15  trockentoleranz_werte            615084 non-null  float64\n",
      " 16  hitzevertraeglichkeit_werte      615084 non-null  float64\n",
      " 17  bodenverdichtungstoleranz_werte  615254 non-null  float64\n",
      " 18  versiegelungstoleranz_werte      608504 non-null  float64\n",
      " 19  hitzeempfindlichkeit_werte       608504 non-null  float64\n",
      " 20  anspueche_an_den_boden           608504 non-null  float64\n",
      " 21  pH-milieu_sensibel_werte         608504 non-null  float64\n",
      " 22  ph_soil                          801202 non-null  float64\n",
      " 23  kf                               801202 non-null  float64\n",
      " 24  ld                               801202 non-null  float64\n",
      " 25  naerbew                          801202 non-null  float64\n",
      " 26  perc_diff                        801202 non-null  float64\n",
      " 27  perc_days_diff                   801202 non-null  float64\n",
      " 28  perc_percentage                  801202 non-null  float64\n",
      " 29  perc_percentage_days_diff        801202 non-null  float64\n",
      " 30  tr_night_akt                     801202 non-null  int64  \n",
      " 31  ht_night_akt                     801202 non-null  float64\n",
      " 32  tr_night_ljm                     801202 non-null  float64\n",
      " 33  ht_night_ljm                     801202 non-null  float64\n",
      " 34  diff_t_max                       801202 non-null  float64\n",
      " 35  diff_t_ran                       801202 non-null  float64\n",
      " 36  diff_t_soil                      801202 non-null  float64\n",
      " 37  per_t_soil                       801202 non-null  float64\n",
      " 38  vg                               801202 non-null  float64\n",
      " 39  vgstrasse                        801202 non-null  float64\n",
      "dtypes: float64(30), int64(6), object(4)\n",
      "memory usage: 250.6+ MB\n"
     ]
    }
   ],
   "source": [
    "calculation_table.info()"
   ]
  },
  {
   "cell_type": "code",
   "execution_count": 113,
   "metadata": {},
   "outputs": [],
   "source": [
    "#import trees_cl.geojson for typ (street trees or park trees)\n",
    "trees = gpd.read_file('data/cleaned/trees_cl_new.geojson')\n"
   ]
  },
  {
   "cell_type": "code",
   "execution_count": 114,
   "metadata": {},
   "outputs": [],
   "source": [
    "# drop columns of 'trees'\n",
    "trees.drop(columns=['art_bot', 'gattung', 'pflanzjahr', 'standalter', 'kronedurch', 'stammumfg', 'baumhoehe', 'namenr', 'bezirk', 'geometry'], inplace=True)\n",
    "\n",
    "\n",
    "#merging reduced trees on calculation_table\n",
    "calculation_table = calculation_table.merge(trees, how='left', on='baum_id')\n",
    "\n",
    "#column 'typ' is now integrated into calculation_table --> typ=1 equals 'Strassenbaum', typ=2 equals 'Anlagenbaum' \n",
    "#uncomment to show table\n",
    "#calculation_table"
   ]
  },
  {
   "cell_type": "code",
   "execution_count": 116,
   "metadata": {},
   "outputs": [],
   "source": [
    "#uncomment if export is needed\n",
    "calculation_table.to_csv(\"data/analysis/final/calculation_table_final_10_09_2318.csv\", index=False)"
   ]
  },
  {
   "cell_type": "markdown",
   "metadata": {},
   "source": [
    "### calculate the values for our model"
   ]
  },
  {
   "cell_type": "markdown",
   "metadata": {},
   "source": [
    "#### dry risk"
   ]
  },
  {
   "cell_type": "code",
   "execution_count": 117,
   "metadata": {},
   "outputs": [],
   "source": [
    "#transform flurabstand to cm\n",
    "calculation_table['fl_abs_cm'] = calculation_table['fl_abs'] * 100"
   ]
  },
  {
   "cell_type": "code",
   "execution_count": 119,
   "metadata": {},
   "outputs": [
    {
     "name": "stdout",
     "output_type": "stream",
     "text": [
      "<class 'pandas.core.frame.DataFrame'>\n",
      "Int64Index: 801238 entries, 0 to 801237\n",
      "Data columns (total 43 columns):\n",
      " #   Column                           Non-Null Count   Dtype  \n",
      "---  ------                           --------------   -----  \n",
      " 0   baum_id                          801238 non-null  object \n",
      " 1   lor_id                           801238 non-null  int64  \n",
      " 2   gw_id                            801238 non-null  int64  \n",
      " 3   boden_id                         801238 non-null  object \n",
      " 4   wetter_id                        801238 non-null  int64  \n",
      " 5   soil_id                          801238 non-null  int64  \n",
      " 6   rain_id                          801238 non-null  int64  \n",
      " 7   fl_abs                           789765 non-null  float64\n",
      " 8   art_bot                          801238 non-null  object \n",
      " 9   kontinentalitaet                 626551 non-null  object \n",
      " 10  wurzelsystem_werte               664761 non-null  float64\n",
      " 11  naehrstoffanspruch_werte         628433 non-null  float64\n",
      " 12  pH_min                           651511 non-null  float64\n",
      " 13  pH_max                           651511 non-null  float64\n",
      " 14  staunaessetoleranz_werte         664668 non-null  float64\n",
      " 15  trockentoleranz_werte            615120 non-null  float64\n",
      " 16  hitzevertraeglichkeit_werte      615120 non-null  float64\n",
      " 17  bodenverdichtungstoleranz_werte  615290 non-null  float64\n",
      " 18  versiegelungstoleranz_werte      608528 non-null  float64\n",
      " 19  hitzeempfindlichkeit_werte       608528 non-null  float64\n",
      " 20  anspueche_an_den_boden           608528 non-null  float64\n",
      " 21  pH-milieu_sensibel_werte         608528 non-null  float64\n",
      " 22  ph_soil                          801238 non-null  float64\n",
      " 23  kf                               801238 non-null  float64\n",
      " 24  ld                               801238 non-null  float64\n",
      " 25  naerbew                          801238 non-null  float64\n",
      " 26  perc_diff                        801238 non-null  float64\n",
      " 27  perc_days_diff                   801238 non-null  float64\n",
      " 28  perc_percentage                  801238 non-null  float64\n",
      " 29  perc_percentage_days_diff        801238 non-null  float64\n",
      " 30  tr_night_akt                     801238 non-null  int64  \n",
      " 31  ht_night_akt                     801238 non-null  float64\n",
      " 32  tr_night_ljm                     801238 non-null  float64\n",
      " 33  ht_night_ljm                     801238 non-null  float64\n",
      " 34  diff_t_max                       801238 non-null  float64\n",
      " 35  diff_t_ran                       801238 non-null  float64\n",
      " 36  diff_t_soil                      801238 non-null  float64\n",
      " 37  per_t_soil                       801238 non-null  float64\n",
      " 38  vg                               801238 non-null  float64\n",
      " 39  vgstrasse                        801238 non-null  float64\n",
      " 40  art_dtsch                        798826 non-null  object \n",
      " 41  typ                              801238 non-null  int64  \n",
      " 42  fl_abs_cm                        789765 non-null  float64\n",
      "dtypes: float64(31), int64(7), object(5)\n",
      "memory usage: 269.0+ MB\n"
     ]
    }
   ],
   "source": [
    "calculation_table.info()"
   ]
  },
  {
   "cell_type": "code",
   "execution_count": 123,
   "metadata": {},
   "outputs": [],
   "source": [
    "#applying min max normalization to the dataset\n",
    "# copy the data\n",
    "calculation_table_new = calculation_table.copy()\n",
    "\n",
    "# apply normalization techniques by Column 1\n",
    "#column = 'fl_abs_cm'\n",
    "#calculation_table_testing[column+'_norm'] = (calculation_table_testing[column] - calculation_table_testing[column].min()) / (calculation_table_testing[column].max() - calculation_table_testing[column].min())\t\n"
   ]
  },
  {
   "cell_type": "code",
   "execution_count": 132,
   "metadata": {},
   "outputs": [],
   "source": [
    "#define function to categorize the values for Trockenstress\n",
    "def dry(y):\n",
    "    if y <= 130:\n",
    "        return 0\n",
    "    elif y > 130 and y <= 300:\n",
    "        return -0.33\n",
    "    elif y > 300 and y <= 1000:\n",
    "        return -0.66\n",
    "    else:\n",
    "        return -1\n"
   ]
  },
  {
   "cell_type": "code",
   "execution_count": 133,
   "metadata": {},
   "outputs": [],
   "source": [
    "#apply function to create new column\n",
    "calculation_table_new['drght']=calculation_table_new['fl_abs_cm'].apply(dry)\n"
   ]
  },
  {
   "cell_type": "code",
   "execution_count": 134,
   "metadata": {},
   "outputs": [
    {
     "data": {
      "text/plain": [
       "count    801238.000000\n",
       "mean         -0.724328\n",
       "std           0.239130\n",
       "min          -1.000000\n",
       "25%          -1.000000\n",
       "50%          -0.660000\n",
       "75%          -0.660000\n",
       "max           0.000000\n",
       "Name: drght, dtype: float64"
      ]
     },
     "execution_count": 134,
     "metadata": {},
     "output_type": "execute_result"
    }
   ],
   "source": [
    "calculation_table_new['drght'].describe()"
   ]
  },
  {
   "cell_type": "code",
   "execution_count": 135,
   "metadata": {},
   "outputs": [
    {
     "data": {
      "text/plain": [
       "array([-0.66, -0.33, -1.  ,  0.  ])"
      ]
     },
     "execution_count": 135,
     "metadata": {},
     "output_type": "execute_result"
    }
   ],
   "source": [
    "#check if it works\n",
    "calculation_table_new['drght'].unique()"
   ]
  },
  {
   "cell_type": "code",
   "execution_count": null,
   "metadata": {},
   "outputs": [],
   "source": [
    "#calculation_table[['fl_abs_cm', 'trockentoleranz_werte', 'wurzelsystem_werte', 'drght', 'drght_res', 'drght_risk']].query('fl_abs_cm > 200')"
   ]
  },
  {
   "cell_type": "code",
   "execution_count": null,
   "metadata": {},
   "outputs": [],
   "source": [
    "#drop test columns\n",
    "#calculation_table.drop(columns=['drght_res'], inplace=True)"
   ]
  },
  {
   "cell_type": "code",
   "execution_count": 152,
   "metadata": {},
   "outputs": [],
   "source": [
    "#calculate risk for trees depending on rootsystem\n",
    "def root(y):\n",
    "    if y == 0:\n",
    "        return 0\n",
    "    elif y == 1:\n",
    "        return 0.33\n",
    "    elif y == 2:\n",
    "        return 0.33\n",
    "    elif y == 3:\n",
    "        return 0.66\n",
    "    elif y == 4:\n",
    "        return 0.66\n",
    "    else:\n",
    "        return 1 # added to avoid NaNs 10.09.22 23:32\n"
   ]
  },
  {
   "cell_type": "code",
   "execution_count": 153,
   "metadata": {},
   "outputs": [],
   "source": [
    "#apply function to create new column for resistance\n",
    "calculation_table_new['drght_res']= calculation_table_new['wurzelsystem_werte'].apply(root)"
   ]
  },
  {
   "cell_type": "code",
   "execution_count": 149,
   "metadata": {},
   "outputs": [
    {
     "data": {
      "text/html": [
       "<div>\n",
       "<style scoped>\n",
       "    .dataframe tbody tr th:only-of-type {\n",
       "        vertical-align: middle;\n",
       "    }\n",
       "\n",
       "    .dataframe tbody tr th {\n",
       "        vertical-align: top;\n",
       "    }\n",
       "\n",
       "    .dataframe thead th {\n",
       "        text-align: right;\n",
       "    }\n",
       "</style>\n",
       "<table border=\"1\" class=\"dataframe\">\n",
       "  <thead>\n",
       "    <tr style=\"text-align: right;\">\n",
       "      <th></th>\n",
       "      <th>baum_id</th>\n",
       "      <th>lor_id</th>\n",
       "      <th>gw_id</th>\n",
       "      <th>boden_id</th>\n",
       "      <th>wetter_id</th>\n",
       "      <th>soil_id</th>\n",
       "      <th>rain_id</th>\n",
       "      <th>fl_abs</th>\n",
       "      <th>art_bot</th>\n",
       "      <th>kontinentalitaet</th>\n",
       "      <th>...</th>\n",
       "      <th>diff_t_ran</th>\n",
       "      <th>diff_t_soil</th>\n",
       "      <th>per_t_soil</th>\n",
       "      <th>vg</th>\n",
       "      <th>vgstrasse</th>\n",
       "      <th>art_dtsch</th>\n",
       "      <th>typ</th>\n",
       "      <th>fl_abs_cm</th>\n",
       "      <th>drght</th>\n",
       "      <th>drght_res</th>\n",
       "    </tr>\n",
       "  </thead>\n",
       "  <tbody>\n",
       "    <tr>\n",
       "      <th>0</th>\n",
       "      <td>00008100:000bbafb</td>\n",
       "      <td>525</td>\n",
       "      <td>496</td>\n",
       "      <td>B1400805161000000</td>\n",
       "      <td>433</td>\n",
       "      <td>427</td>\n",
       "      <td>433</td>\n",
       "      <td>3.767439</td>\n",
       "      <td>carpinus betulus</td>\n",
       "      <td>4</td>\n",
       "      <td>...</td>\n",
       "      <td>2.48</td>\n",
       "      <td>3.42</td>\n",
       "      <td>18.09</td>\n",
       "      <td>34.9</td>\n",
       "      <td>98.6</td>\n",
       "      <td>Pyramiden-Hainbuche</td>\n",
       "      <td>1</td>\n",
       "      <td>376.743902</td>\n",
       "      <td>-0.66</td>\n",
       "      <td>0.66</td>\n",
       "    </tr>\n",
       "    <tr>\n",
       "      <th>1</th>\n",
       "      <td>00008100:000bbafd</td>\n",
       "      <td>525</td>\n",
       "      <td>496</td>\n",
       "      <td>B1400805161000000</td>\n",
       "      <td>433</td>\n",
       "      <td>427</td>\n",
       "      <td>433</td>\n",
       "      <td>3.767439</td>\n",
       "      <td>acer pseudoplatanus</td>\n",
       "      <td>4</td>\n",
       "      <td>...</td>\n",
       "      <td>2.48</td>\n",
       "      <td>3.42</td>\n",
       "      <td>18.09</td>\n",
       "      <td>34.9</td>\n",
       "      <td>98.6</td>\n",
       "      <td>Berg-Ahorn, Weiss-Ahorn</td>\n",
       "      <td>1</td>\n",
       "      <td>376.743902</td>\n",
       "      <td>-0.66</td>\n",
       "      <td>0.66</td>\n",
       "    </tr>\n",
       "    <tr>\n",
       "      <th>2</th>\n",
       "      <td>00008100:000bbafe</td>\n",
       "      <td>525</td>\n",
       "      <td>496</td>\n",
       "      <td>B1400805161000000</td>\n",
       "      <td>433</td>\n",
       "      <td>427</td>\n",
       "      <td>433</td>\n",
       "      <td>3.767439</td>\n",
       "      <td>acer pseudoplatanus</td>\n",
       "      <td>4</td>\n",
       "      <td>...</td>\n",
       "      <td>2.48</td>\n",
       "      <td>3.42</td>\n",
       "      <td>18.09</td>\n",
       "      <td>34.9</td>\n",
       "      <td>98.6</td>\n",
       "      <td>Berg-Ahorn, Weiss-Ahorn</td>\n",
       "      <td>1</td>\n",
       "      <td>376.743902</td>\n",
       "      <td>-0.66</td>\n",
       "      <td>0.66</td>\n",
       "    </tr>\n",
       "    <tr>\n",
       "      <th>3</th>\n",
       "      <td>00008100:000bbaff</td>\n",
       "      <td>525</td>\n",
       "      <td>496</td>\n",
       "      <td>B1400805161000000</td>\n",
       "      <td>433</td>\n",
       "      <td>427</td>\n",
       "      <td>433</td>\n",
       "      <td>3.767439</td>\n",
       "      <td>acer pseudoplatanus</td>\n",
       "      <td>4</td>\n",
       "      <td>...</td>\n",
       "      <td>2.48</td>\n",
       "      <td>3.42</td>\n",
       "      <td>18.09</td>\n",
       "      <td>34.9</td>\n",
       "      <td>98.6</td>\n",
       "      <td>Berg-Ahorn, Weiss-Ahorn</td>\n",
       "      <td>1</td>\n",
       "      <td>376.743902</td>\n",
       "      <td>-0.66</td>\n",
       "      <td>0.66</td>\n",
       "    </tr>\n",
       "    <tr>\n",
       "      <th>4</th>\n",
       "      <td>00008100:000bbb00</td>\n",
       "      <td>525</td>\n",
       "      <td>496</td>\n",
       "      <td>B1400805161000000</td>\n",
       "      <td>433</td>\n",
       "      <td>427</td>\n",
       "      <td>433</td>\n",
       "      <td>3.767439</td>\n",
       "      <td>acer pseudoplatanus</td>\n",
       "      <td>4</td>\n",
       "      <td>...</td>\n",
       "      <td>2.48</td>\n",
       "      <td>3.42</td>\n",
       "      <td>18.09</td>\n",
       "      <td>34.9</td>\n",
       "      <td>98.6</td>\n",
       "      <td>Berg-Ahorn, Weiss-Ahorn</td>\n",
       "      <td>1</td>\n",
       "      <td>376.743902</td>\n",
       "      <td>-0.66</td>\n",
       "      <td>0.66</td>\n",
       "    </tr>\n",
       "  </tbody>\n",
       "</table>\n",
       "<p>5 rows × 45 columns</p>\n",
       "</div>"
      ],
      "text/plain": [
       "             baum_id  lor_id  gw_id           boden_id  wetter_id  soil_id  \\\n",
       "0  00008100:000bbafb     525    496  B1400805161000000        433      427   \n",
       "1  00008100:000bbafd     525    496  B1400805161000000        433      427   \n",
       "2  00008100:000bbafe     525    496  B1400805161000000        433      427   \n",
       "3  00008100:000bbaff     525    496  B1400805161000000        433      427   \n",
       "4  00008100:000bbb00     525    496  B1400805161000000        433      427   \n",
       "\n",
       "   rain_id    fl_abs              art_bot kontinentalitaet  ...  diff_t_ran  \\\n",
       "0      433  3.767439     carpinus betulus                4  ...        2.48   \n",
       "1      433  3.767439  acer pseudoplatanus                4  ...        2.48   \n",
       "2      433  3.767439  acer pseudoplatanus                4  ...        2.48   \n",
       "3      433  3.767439  acer pseudoplatanus                4  ...        2.48   \n",
       "4      433  3.767439  acer pseudoplatanus                4  ...        2.48   \n",
       "\n",
       "   diff_t_soil  per_t_soil    vg  vgstrasse                art_dtsch  typ  \\\n",
       "0         3.42       18.09  34.9       98.6      Pyramiden-Hainbuche    1   \n",
       "1         3.42       18.09  34.9       98.6  Berg-Ahorn, Weiss-Ahorn    1   \n",
       "2         3.42       18.09  34.9       98.6  Berg-Ahorn, Weiss-Ahorn    1   \n",
       "3         3.42       18.09  34.9       98.6  Berg-Ahorn, Weiss-Ahorn    1   \n",
       "4         3.42       18.09  34.9       98.6  Berg-Ahorn, Weiss-Ahorn    1   \n",
       "\n",
       "    fl_abs_cm  drght  drght_res  \n",
       "0  376.743902  -0.66       0.66  \n",
       "1  376.743902  -0.66       0.66  \n",
       "2  376.743902  -0.66       0.66  \n",
       "3  376.743902  -0.66       0.66  \n",
       "4  376.743902  -0.66       0.66  \n",
       "\n",
       "[5 rows x 45 columns]"
      ]
     },
     "execution_count": 149,
     "metadata": {},
     "output_type": "execute_result"
    }
   ],
   "source": [
    "calculation_table_new.head()"
   ]
  },
  {
   "cell_type": "code",
   "execution_count": 154,
   "metadata": {},
   "outputs": [
    {
     "data": {
      "text/plain": [
       "array([0.66, 0.  , 0.33, 1.  ])"
      ]
     },
     "execution_count": 154,
     "metadata": {},
     "output_type": "execute_result"
    }
   ],
   "source": [
    "calculation_table_new['drght_res'].unique()"
   ]
  },
  {
   "cell_type": "code",
   "execution_count": 156,
   "metadata": {},
   "outputs": [
    {
     "data": {
      "text/plain": [
       "array([ 3.,  0., nan,  2.,  5.,  1.,  4.])"
      ]
     },
     "execution_count": 156,
     "metadata": {},
     "output_type": "execute_result"
    }
   ],
   "source": [
    "calculation_table_new['trockentoleranz_werte'].unique()"
   ]
  },
  {
   "cell_type": "code",
   "execution_count": null,
   "metadata": {},
   "outputs": [],
   "source": [
    "#nice little piece of code to have different calculations on two different column values\n",
    "'''\n",
    "def conv(x, y):\n",
    "    if y == SOME_VALUE_1:\n",
    "        return (33.8*np.sin(1.65*(x-0.89))+33.9)/0.19\n",
    "    else:\n",
    "        return SOME_OTHER_FUNCTION_OF_X\n",
    "\n",
    "df['C']=df.apply(lambda x : conv(x['A'], x['B']) , axis=1)\n",
    "df\n",
    "'''\n"
   ]
  },
  {
   "cell_type": "code",
   "execution_count": 157,
   "metadata": {},
   "outputs": [],
   "source": [
    "# calculate risk depending on ability to suffer draught\n",
    "\n",
    "def conv(x, y, z):\n",
    "    if x + y > 0:\n",
    "        return 0\n",
    "    elif z == 1 or z == 2:\n",
    "        return (x + y) * 1\n",
    "    elif z == 3:\n",
    "        return (x + y) / 2\n",
    "    elif z == 4 or z == 5:\n",
    "        return (x + y) * 0\n",
    "    else:\n",
    "        return (x + y) * 1\n",
    "\n",
    "calculation_table_new['drght_risk']=calculation_table_new.apply(lambda x : conv(x['drght'], x['drght_res'], x['trockentoleranz_werte']) , axis=1)"
   ]
  },
  {
   "cell_type": "code",
   "execution_count": 160,
   "metadata": {},
   "outputs": [],
   "source": [
    "calculation_table_new['drght_risk'] = calculation_table_new['drght_risk']* -1"
   ]
  },
  {
   "cell_type": "code",
   "execution_count": 163,
   "metadata": {},
   "outputs": [],
   "source": [
    "calculation_table_new['drght_risk'] = calculation_table_new['drght_risk'].replace(-0.0,0.0)"
   ]
  },
  {
   "cell_type": "code",
   "execution_count": 165,
   "metadata": {},
   "outputs": [
    {
     "data": {
      "text/plain": [
       "count    801238.000000\n",
       "mean          0.125928\n",
       "std           0.198638\n",
       "min           0.000000\n",
       "25%           0.000000\n",
       "50%           0.000000\n",
       "75%           0.170000\n",
       "max           1.000000\n",
       "Name: drght_risk, dtype: float64"
      ]
     },
     "execution_count": 165,
     "metadata": {},
     "output_type": "execute_result"
    }
   ],
   "source": [
    "calculation_table_new['drght_risk'].describe()"
   ]
  },
  {
   "cell_type": "code",
   "execution_count": null,
   "metadata": {},
   "outputs": [],
   "source": [
    "calculation_table_new.tail()"
   ]
  },
  {
   "cell_type": "code",
   "execution_count": 166,
   "metadata": {},
   "outputs": [
    {
     "data": {
      "text/plain": [
       "array([0.   , 0.66 , 0.165, 0.17 , 0.34 , 0.335, 0.33 , 0.5  , 1.   ,\n",
       "       0.67 ])"
      ]
     },
     "execution_count": 166,
     "metadata": {},
     "output_type": "execute_result"
    }
   ],
   "source": [
    "calculation_table_new['drght_risk'].unique()"
   ]
  },
  {
   "cell_type": "code",
   "execution_count": 167,
   "metadata": {},
   "outputs": [
    {
     "data": {
      "text/html": [
       "<div>\n",
       "<style scoped>\n",
       "    .dataframe tbody tr th:only-of-type {\n",
       "        vertical-align: middle;\n",
       "    }\n",
       "\n",
       "    .dataframe tbody tr th {\n",
       "        vertical-align: top;\n",
       "    }\n",
       "\n",
       "    .dataframe thead th {\n",
       "        text-align: right;\n",
       "    }\n",
       "</style>\n",
       "<table border=\"1\" class=\"dataframe\">\n",
       "  <thead>\n",
       "    <tr style=\"text-align: right;\">\n",
       "      <th></th>\n",
       "      <th>fl_abs_cm</th>\n",
       "      <th>trockentoleranz_werte</th>\n",
       "      <th>wurzelsystem_werte</th>\n",
       "      <th>drght</th>\n",
       "      <th>drght_res</th>\n",
       "      <th>drght_risk</th>\n",
       "    </tr>\n",
       "  </thead>\n",
       "  <tbody>\n",
       "    <tr>\n",
       "      <th>316</th>\n",
       "      <td>255.903614</td>\n",
       "      <td>NaN</td>\n",
       "      <td>0.0</td>\n",
       "      <td>-0.33</td>\n",
       "      <td>0.00</td>\n",
       "      <td>0.33</td>\n",
       "    </tr>\n",
       "    <tr>\n",
       "      <th>317</th>\n",
       "      <td>255.903614</td>\n",
       "      <td>NaN</td>\n",
       "      <td>0.0</td>\n",
       "      <td>-0.33</td>\n",
       "      <td>0.00</td>\n",
       "      <td>0.33</td>\n",
       "    </tr>\n",
       "    <tr>\n",
       "      <th>462</th>\n",
       "      <td>320.195122</td>\n",
       "      <td>3.0</td>\n",
       "      <td>0.0</td>\n",
       "      <td>-0.66</td>\n",
       "      <td>0.00</td>\n",
       "      <td>0.33</td>\n",
       "    </tr>\n",
       "    <tr>\n",
       "      <th>493</th>\n",
       "      <td>280.018692</td>\n",
       "      <td>NaN</td>\n",
       "      <td>0.0</td>\n",
       "      <td>-0.33</td>\n",
       "      <td>0.00</td>\n",
       "      <td>0.33</td>\n",
       "    </tr>\n",
       "    <tr>\n",
       "      <th>753</th>\n",
       "      <td>320.195122</td>\n",
       "      <td>3.0</td>\n",
       "      <td>0.0</td>\n",
       "      <td>-0.66</td>\n",
       "      <td>0.00</td>\n",
       "      <td>0.33</td>\n",
       "    </tr>\n",
       "    <tr>\n",
       "      <th>...</th>\n",
       "      <td>...</td>\n",
       "      <td>...</td>\n",
       "      <td>...</td>\n",
       "      <td>...</td>\n",
       "      <td>...</td>\n",
       "      <td>...</td>\n",
       "    </tr>\n",
       "    <tr>\n",
       "      <th>801215</th>\n",
       "      <td>358.853933</td>\n",
       "      <td>1.0</td>\n",
       "      <td>1.0</td>\n",
       "      <td>-0.66</td>\n",
       "      <td>0.33</td>\n",
       "      <td>0.33</td>\n",
       "    </tr>\n",
       "    <tr>\n",
       "      <th>801216</th>\n",
       "      <td>358.853933</td>\n",
       "      <td>1.0</td>\n",
       "      <td>1.0</td>\n",
       "      <td>-0.66</td>\n",
       "      <td>0.33</td>\n",
       "      <td>0.33</td>\n",
       "    </tr>\n",
       "    <tr>\n",
       "      <th>801217</th>\n",
       "      <td>358.853933</td>\n",
       "      <td>1.0</td>\n",
       "      <td>1.0</td>\n",
       "      <td>-0.66</td>\n",
       "      <td>0.33</td>\n",
       "      <td>0.33</td>\n",
       "    </tr>\n",
       "    <tr>\n",
       "      <th>801218</th>\n",
       "      <td>358.853933</td>\n",
       "      <td>1.0</td>\n",
       "      <td>1.0</td>\n",
       "      <td>-0.66</td>\n",
       "      <td>0.33</td>\n",
       "      <td>0.33</td>\n",
       "    </tr>\n",
       "    <tr>\n",
       "      <th>801219</th>\n",
       "      <td>358.853933</td>\n",
       "      <td>1.0</td>\n",
       "      <td>1.0</td>\n",
       "      <td>-0.66</td>\n",
       "      <td>0.33</td>\n",
       "      <td>0.33</td>\n",
       "    </tr>\n",
       "  </tbody>\n",
       "</table>\n",
       "<p>46924 rows × 6 columns</p>\n",
       "</div>"
      ],
      "text/plain": [
       "         fl_abs_cm  trockentoleranz_werte  wurzelsystem_werte  drght  \\\n",
       "316     255.903614                    NaN                 0.0  -0.33   \n",
       "317     255.903614                    NaN                 0.0  -0.33   \n",
       "462     320.195122                    3.0                 0.0  -0.66   \n",
       "493     280.018692                    NaN                 0.0  -0.33   \n",
       "753     320.195122                    3.0                 0.0  -0.66   \n",
       "...            ...                    ...                 ...    ...   \n",
       "801215  358.853933                    1.0                 1.0  -0.66   \n",
       "801216  358.853933                    1.0                 1.0  -0.66   \n",
       "801217  358.853933                    1.0                 1.0  -0.66   \n",
       "801218  358.853933                    1.0                 1.0  -0.66   \n",
       "801219  358.853933                    1.0                 1.0  -0.66   \n",
       "\n",
       "        drght_res  drght_risk  \n",
       "316          0.00        0.33  \n",
       "317          0.00        0.33  \n",
       "462          0.00        0.33  \n",
       "493          0.00        0.33  \n",
       "753          0.00        0.33  \n",
       "...           ...         ...  \n",
       "801215       0.33        0.33  \n",
       "801216       0.33        0.33  \n",
       "801217       0.33        0.33  \n",
       "801218       0.33        0.33  \n",
       "801219       0.33        0.33  \n",
       "\n",
       "[46924 rows x 6 columns]"
      ]
     },
     "execution_count": 167,
     "metadata": {},
     "output_type": "execute_result"
    }
   ],
   "source": [
    "calculation_table_new[['fl_abs_cm', 'trockentoleranz_werte', 'wurzelsystem_werte', 'drght', 'drght_res', 'drght_risk']].query('drght_risk == 0.33')"
   ]
  },
  {
   "cell_type": "code",
   "execution_count": null,
   "metadata": {},
   "outputs": [],
   "source": [
    "#drop test columns\n",
    "#calculation_table.drop(columns=['drght_risk'], inplace=True)\n",
    "\n",
    "#why would we want to drop this @nicco?"
   ]
  },
  {
   "cell_type": "markdown",
   "metadata": {},
   "source": [
    "#### waterlogging risk"
   ]
  },
  {
   "cell_type": "code",
   "execution_count": null,
   "metadata": {},
   "outputs": [],
   "source": [
    "#transform flurabstand to cm\n",
    "#calculation_table['fl_abs_cm'] = calculation_table['fl_abs'] * 100"
   ]
  },
  {
   "cell_type": "code",
   "execution_count": 168,
   "metadata": {},
   "outputs": [],
   "source": [
    "#define function to categories the values for Trockenstress\n",
    "def wet(y):\n",
    "    if y <= 30:\n",
    "        return -1\n",
    "    elif y > 30 and y <= 200:\n",
    "        return -0.66\n",
    "    elif y > 200 and y <= 1000:\n",
    "        return -0.33\n",
    "    else:\n",
    "        return 0\n"
   ]
  },
  {
   "cell_type": "code",
   "execution_count": 199,
   "metadata": {},
   "outputs": [],
   "source": [
    "calculation_table_new['wtlgg']=calculation_table_new['fl_abs_cm'].apply(wet)"
   ]
  },
  {
   "cell_type": "code",
   "execution_count": 200,
   "metadata": {},
   "outputs": [
    {
     "data": {
      "text/plain": [
       "array([-0.33,  0.  , -0.66, -1.  ])"
      ]
     },
     "execution_count": 200,
     "metadata": {},
     "output_type": "execute_result"
    }
   ],
   "source": [
    "calculation_table_new['wtlgg'].unique()"
   ]
  },
  {
   "cell_type": "code",
   "execution_count": 201,
   "metadata": {},
   "outputs": [],
   "source": [
    "#calculate risk for trees depending on rootsystem\n",
    "def root2(y):\n",
    "    if y == 0:\n",
    "        return 1\n",
    "    elif y == 1:\n",
    "        return 0.66\n",
    "    elif y == 2:\n",
    "        return 0.66\n",
    "    elif y == 3:\n",
    "        return 0.33\n",
    "    elif y == 4:\n",
    "        return 0.33\n",
    "    else:\n",
    "        return\n",
    "\n",
    "calculation_table_new['wtlgg_res']= calculation_table_new['wurzelsystem_werte'].apply(root2)"
   ]
  },
  {
   "cell_type": "code",
   "execution_count": 202,
   "metadata": {},
   "outputs": [
    {
     "data": {
      "text/plain": [
       "count    664761.000000\n",
       "mean          0.549660\n",
       "std           0.251357\n",
       "min           0.330000\n",
       "25%           0.330000\n",
       "50%           0.330000\n",
       "75%           0.660000\n",
       "max           1.000000\n",
       "Name: wtlgg_res, dtype: float64"
      ]
     },
     "execution_count": 202,
     "metadata": {},
     "output_type": "execute_result"
    }
   ],
   "source": [
    "calculation_table_new['wtlgg_res'].describe()"
   ]
  },
  {
   "cell_type": "code",
   "execution_count": 203,
   "metadata": {},
   "outputs": [],
   "source": [
    "# calculate risk depending on ability to suffer waterlogging\n",
    "\n",
    "def conv(x, y, z):\n",
    "    if x + y > 0:\n",
    "        return 0\n",
    "    elif z == 0 or z == 1:\n",
    "        return (x + y) * 1\n",
    "    elif z == 2:\n",
    "        return (x + y) / 2\n",
    "    elif z == 3:\n",
    "        return (x + y) * 0\n",
    "    else:\n",
    "        return (x + y) * 1\n",
    "\n",
    "calculation_table_new['wtlgg_risk']=calculation_table_new.apply(lambda x : conv(x['wtlgg'], x['wtlgg_res'], x['staunaessetoleranz_werte']) , axis=1)"
   ]
  },
  {
   "cell_type": "code",
   "execution_count": 204,
   "metadata": {},
   "outputs": [
    {
     "data": {
      "text/plain": [
       "count    664761.000000\n",
       "mean         -0.003725\n",
       "std           0.035570\n",
       "min          -0.670000\n",
       "25%           0.000000\n",
       "50%           0.000000\n",
       "75%           0.000000\n",
       "max           0.000000\n",
       "Name: wtlgg_risk, dtype: float64"
      ]
     },
     "execution_count": 204,
     "metadata": {},
     "output_type": "execute_result"
    }
   ],
   "source": [
    "calculation_table_new['wtlgg_risk'].describe()"
   ]
  },
  {
   "cell_type": "code",
   "execution_count": 205,
   "metadata": {},
   "outputs": [
    {
     "data": {
      "text/plain": [
       "<AxesSubplot:ylabel='Frequency'>"
      ]
     },
     "execution_count": 205,
     "metadata": {},
     "output_type": "execute_result"
    },
    {
     "data": {
      "image/png": "[encoded data removed]",
      "text/plain": [
       "<Figure size 432x288 with 1 Axes>"
      ]
     },
     "metadata": {
      "needs_background": "light"
     },
     "output_type": "display_data"
    }
   ],
   "source": [
    "calculation_table_new['wtlgg_risk'].plot(kind='hist')"
   ]
  },
  {
   "cell_type": "code",
   "execution_count": 206,
   "metadata": {},
   "outputs": [],
   "source": [
    "column = 'wtlgg_risk'\n",
    "calculation_table_new[column+'_norm'] = (calculation_table_new[column] - calculation_table_new[column].min()) / (calculation_table_new[column].max() - calculation_table_new[column].min())\t\n",
    "#calculation_table_new[column+'_norm'] = (calculation_table_new[column] - calculation_table_new[column].mean()) / calculation_table_new[column].std()   "
   ]
  },
  {
   "cell_type": "code",
   "execution_count": 207,
   "metadata": {},
   "outputs": [
    {
     "data": {
      "text/plain": [
       "count    664761.000000\n",
       "mean          0.994441\n",
       "std           0.053089\n",
       "min           0.000000\n",
       "25%           1.000000\n",
       "50%           1.000000\n",
       "75%           1.000000\n",
       "max           1.000000\n",
       "Name: wtlgg_risk_norm, dtype: float64"
      ]
     },
     "execution_count": 207,
     "metadata": {},
     "output_type": "execute_result"
    }
   ],
   "source": [
    "calculation_table_new['wtlgg_risk_norm'].describe()"
   ]
  },
  {
   "cell_type": "code",
   "execution_count": 208,
   "metadata": {},
   "outputs": [
    {
     "data": {
      "text/plain": [
       "<AxesSubplot:ylabel='Frequency'>"
      ]
     },
     "execution_count": 208,
     "metadata": {},
     "output_type": "execute_result"
    },
    {
     "data": {
      "image/png": "[encoded data removed]",
      "text/plain": [
       "<Figure size 432x288 with 1 Axes>"
      ]
     },
     "metadata": {
      "needs_background": "light"
     },
     "output_type": "display_data"
    }
   ],
   "source": [
    "calculation_table_new['wtlgg_risk_norm'].plot(kind='hist')"
   ]
  },
  {
   "cell_type": "code",
   "execution_count": 209,
   "metadata": {},
   "outputs": [],
   "source": [
    "calculation_table_new['wtlgg_risk_norm'] = 1 - calculation_table_new['wtlgg_risk_norm']"
   ]
  },
  {
   "cell_type": "code",
   "execution_count": 210,
   "metadata": {},
   "outputs": [
    {
     "data": {
      "text/plain": [
       "<AxesSubplot:ylabel='Frequency'>"
      ]
     },
     "execution_count": 210,
     "metadata": {},
     "output_type": "execute_result"
    },
    {
     "data": {
      "image/png": "[encoded data removed]",
      "text/plain": [
       "<Figure size 432x288 with 1 Axes>"
      ]
     },
     "metadata": {
      "needs_background": "light"
     },
     "output_type": "display_data"
    }
   ],
   "source": [
    "calculation_table_new['wtlgg_risk_norm'].plot(kind='hist')"
   ]
  },
  {
   "cell_type": "code",
   "execution_count": 211,
   "metadata": {},
   "outputs": [
    {
     "data": {
      "text/plain": [
       "0.0055589611860727825"
      ]
     },
     "execution_count": 211,
     "metadata": {},
     "output_type": "execute_result"
    }
   ],
   "source": [
    "calculation_table_new['wtlgg_risk_norm'].mean()"
   ]
  },
  {
   "cell_type": "code",
   "execution_count": 212,
   "metadata": {},
   "outputs": [],
   "source": [
    "calculation_table_new['wtlgg_risk_norm'] = calculation_table_new['wtlgg_risk_norm'].fillna(0.01)"
   ]
  },
  {
   "cell_type": "code",
   "execution_count": 218,
   "metadata": {},
   "outputs": [],
   "source": [
    "calculation_table_new.drop(columns=['wtlgg_risk_norm_tst'], inplace=True)"
   ]
  },
  {
   "cell_type": "code",
   "execution_count": 219,
   "metadata": {},
   "outputs": [
    {
     "name": "stdout",
     "output_type": "stream",
     "text": [
      "<class 'pandas.core.frame.DataFrame'>\n",
      "Int64Index: 801238 entries, 0 to 801237\n",
      "Data columns (total 50 columns):\n",
      " #   Column                           Non-Null Count   Dtype  \n",
      "---  ------                           --------------   -----  \n",
      " 0   baum_id                          801238 non-null  object \n",
      " 1   lor_id                           801238 non-null  int64  \n",
      " 2   gw_id                            801238 non-null  int64  \n",
      " 3   boden_id                         801238 non-null  object \n",
      " 4   wetter_id                        801238 non-null  int64  \n",
      " 5   soil_id                          801238 non-null  int64  \n",
      " 6   rain_id                          801238 non-null  int64  \n",
      " 7   fl_abs                           789765 non-null  float64\n",
      " 8   art_bot                          801238 non-null  object \n",
      " 9   kontinentalitaet                 626551 non-null  object \n",
      " 10  wurzelsystem_werte               664761 non-null  float64\n",
      " 11  naehrstoffanspruch_werte         628433 non-null  float64\n",
      " 12  pH_min                           651511 non-null  float64\n",
      " 13  pH_max                           651511 non-null  float64\n",
      " 14  staunaessetoleranz_werte         664668 non-null  float64\n",
      " 15  trockentoleranz_werte            615120 non-null  float64\n",
      " 16  hitzevertraeglichkeit_werte      615120 non-null  float64\n",
      " 17  bodenverdichtungstoleranz_werte  615290 non-null  float64\n",
      " 18  versiegelungstoleranz_werte      608528 non-null  float64\n",
      " 19  hitzeempfindlichkeit_werte       608528 non-null  float64\n",
      " 20  anspueche_an_den_boden           608528 non-null  float64\n",
      " 21  pH-milieu_sensibel_werte         608528 non-null  float64\n",
      " 22  ph_soil                          801238 non-null  float64\n",
      " 23  kf                               801238 non-null  float64\n",
      " 24  ld                               801238 non-null  float64\n",
      " 25  naerbew                          801238 non-null  float64\n",
      " 26  perc_diff                        801238 non-null  float64\n",
      " 27  perc_days_diff                   801238 non-null  float64\n",
      " 28  perc_percentage                  801238 non-null  float64\n",
      " 29  perc_percentage_days_diff        801238 non-null  float64\n",
      " 30  tr_night_akt                     801238 non-null  int64  \n",
      " 31  ht_night_akt                     801238 non-null  float64\n",
      " 32  tr_night_ljm                     801238 non-null  float64\n",
      " 33  ht_night_ljm                     801238 non-null  float64\n",
      " 34  diff_t_max                       801238 non-null  float64\n",
      " 35  diff_t_ran                       801238 non-null  float64\n",
      " 36  diff_t_soil                      801238 non-null  float64\n",
      " 37  per_t_soil                       801238 non-null  float64\n",
      " 38  vg                               801238 non-null  float64\n",
      " 39  vgstrasse                        801238 non-null  float64\n",
      " 40  art_dtsch                        798826 non-null  object \n",
      " 41  typ                              801238 non-null  int64  \n",
      " 42  fl_abs_cm                        789765 non-null  float64\n",
      " 43  drght                            801238 non-null  float64\n",
      " 44  drght_res                        801238 non-null  float64\n",
      " 45  drght_risk                       801238 non-null  float64\n",
      " 46  wtlgg                            801238 non-null  float64\n",
      " 47  wtlgg_res                        664761 non-null  float64\n",
      " 48  wtlgg_risk                       664761 non-null  float64\n",
      " 49  wtlgg_risk_norm                  801238 non-null  float64\n",
      "dtypes: float64(38), int64(7), object(5)\n",
      "memory usage: 327.9+ MB\n"
     ]
    }
   ],
   "source": [
    "calculation_table_new.info()"
   ]
  },
  {
   "cell_type": "code",
   "execution_count": null,
   "metadata": {},
   "outputs": [],
   "source": [
    "## er findet den wert -0.170 nicht, dabei existiert er, weiß nicht woran das liegt\n",
    "#calculation_table[['fl_abs_cm', 'staunaessetoleranz_werte', 'wurzelsystem_werte', 'wtlgg', 'wtlgg_res', 'wtlgg_risk']].query('wtlgg_risk == -0.170')"
   ]
  },
  {
   "cell_type": "code",
   "execution_count": null,
   "metadata": {},
   "outputs": [],
   "source": [
    "#calculation_table.groupby('wtlgg_risk').count()"
   ]
  },
  {
   "cell_type": "markdown",
   "metadata": {},
   "source": [
    "#### Calculate the risk factor for every tree"
   ]
  },
  {
   "cell_type": "code",
   "execution_count": 220,
   "metadata": {},
   "outputs": [],
   "source": [
    "#to do: automatize this so you only need to add the columns to the list or something\n",
    "risk_items = ['drght_risk','wtlgg_risk_norm']\n",
    "calculation_table_new['risk_score'] = (calculation_table_new['drght_risk'] + calculation_table_new['wtlgg_risk_norm'])/(len(risk_items))\n",
    "#Wtlgg_risk seems to be missing double drought risk though, corrected at comp risk calculation"
   ]
  },
  {
   "cell_type": "code",
   "execution_count": 222,
   "metadata": {},
   "outputs": [
    {
     "data": {
      "text/html": [
       "<div>\n",
       "<style scoped>\n",
       "    .dataframe tbody tr th:only-of-type {\n",
       "        vertical-align: middle;\n",
       "    }\n",
       "\n",
       "    .dataframe tbody tr th {\n",
       "        vertical-align: top;\n",
       "    }\n",
       "\n",
       "    .dataframe thead th {\n",
       "        text-align: right;\n",
       "    }\n",
       "</style>\n",
       "<table border=\"1\" class=\"dataframe\">\n",
       "  <thead>\n",
       "    <tr style=\"text-align: right;\">\n",
       "      <th></th>\n",
       "      <th>baum_id</th>\n",
       "      <th>lor_id</th>\n",
       "      <th>gw_id</th>\n",
       "      <th>boden_id</th>\n",
       "      <th>wetter_id</th>\n",
       "      <th>soil_id</th>\n",
       "      <th>rain_id</th>\n",
       "      <th>fl_abs</th>\n",
       "      <th>art_bot</th>\n",
       "      <th>kontinentalitaet</th>\n",
       "      <th>...</th>\n",
       "      <th>typ</th>\n",
       "      <th>fl_abs_cm</th>\n",
       "      <th>drght</th>\n",
       "      <th>drght_res</th>\n",
       "      <th>drght_risk</th>\n",
       "      <th>wtlgg</th>\n",
       "      <th>wtlgg_res</th>\n",
       "      <th>wtlgg_risk</th>\n",
       "      <th>wtlgg_risk_norm</th>\n",
       "      <th>risk_score</th>\n",
       "    </tr>\n",
       "  </thead>\n",
       "  <tbody>\n",
       "    <tr>\n",
       "      <th>0</th>\n",
       "      <td>00008100:000bbafb</td>\n",
       "      <td>525</td>\n",
       "      <td>496</td>\n",
       "      <td>B1400805161000000</td>\n",
       "      <td>433</td>\n",
       "      <td>427</td>\n",
       "      <td>433</td>\n",
       "      <td>3.767439</td>\n",
       "      <td>carpinus betulus</td>\n",
       "      <td>4</td>\n",
       "      <td>...</td>\n",
       "      <td>1</td>\n",
       "      <td>376.743902</td>\n",
       "      <td>-0.66</td>\n",
       "      <td>0.66</td>\n",
       "      <td>0.0</td>\n",
       "      <td>-0.33</td>\n",
       "      <td>0.33</td>\n",
       "      <td>0.0</td>\n",
       "      <td>0.0</td>\n",
       "      <td>0.0</td>\n",
       "    </tr>\n",
       "    <tr>\n",
       "      <th>1</th>\n",
       "      <td>00008100:000bbafd</td>\n",
       "      <td>525</td>\n",
       "      <td>496</td>\n",
       "      <td>B1400805161000000</td>\n",
       "      <td>433</td>\n",
       "      <td>427</td>\n",
       "      <td>433</td>\n",
       "      <td>3.767439</td>\n",
       "      <td>acer pseudoplatanus</td>\n",
       "      <td>4</td>\n",
       "      <td>...</td>\n",
       "      <td>1</td>\n",
       "      <td>376.743902</td>\n",
       "      <td>-0.66</td>\n",
       "      <td>0.66</td>\n",
       "      <td>0.0</td>\n",
       "      <td>-0.33</td>\n",
       "      <td>0.33</td>\n",
       "      <td>0.0</td>\n",
       "      <td>0.0</td>\n",
       "      <td>0.0</td>\n",
       "    </tr>\n",
       "    <tr>\n",
       "      <th>2</th>\n",
       "      <td>00008100:000bbafe</td>\n",
       "      <td>525</td>\n",
       "      <td>496</td>\n",
       "      <td>B1400805161000000</td>\n",
       "      <td>433</td>\n",
       "      <td>427</td>\n",
       "      <td>433</td>\n",
       "      <td>3.767439</td>\n",
       "      <td>acer pseudoplatanus</td>\n",
       "      <td>4</td>\n",
       "      <td>...</td>\n",
       "      <td>1</td>\n",
       "      <td>376.743902</td>\n",
       "      <td>-0.66</td>\n",
       "      <td>0.66</td>\n",
       "      <td>0.0</td>\n",
       "      <td>-0.33</td>\n",
       "      <td>0.33</td>\n",
       "      <td>0.0</td>\n",
       "      <td>0.0</td>\n",
       "      <td>0.0</td>\n",
       "    </tr>\n",
       "    <tr>\n",
       "      <th>3</th>\n",
       "      <td>00008100:000bbaff</td>\n",
       "      <td>525</td>\n",
       "      <td>496</td>\n",
       "      <td>B1400805161000000</td>\n",
       "      <td>433</td>\n",
       "      <td>427</td>\n",
       "      <td>433</td>\n",
       "      <td>3.767439</td>\n",
       "      <td>acer pseudoplatanus</td>\n",
       "      <td>4</td>\n",
       "      <td>...</td>\n",
       "      <td>1</td>\n",
       "      <td>376.743902</td>\n",
       "      <td>-0.66</td>\n",
       "      <td>0.66</td>\n",
       "      <td>0.0</td>\n",
       "      <td>-0.33</td>\n",
       "      <td>0.33</td>\n",
       "      <td>0.0</td>\n",
       "      <td>0.0</td>\n",
       "      <td>0.0</td>\n",
       "    </tr>\n",
       "    <tr>\n",
       "      <th>4</th>\n",
       "      <td>00008100:000bbb00</td>\n",
       "      <td>525</td>\n",
       "      <td>496</td>\n",
       "      <td>B1400805161000000</td>\n",
       "      <td>433</td>\n",
       "      <td>427</td>\n",
       "      <td>433</td>\n",
       "      <td>3.767439</td>\n",
       "      <td>acer pseudoplatanus</td>\n",
       "      <td>4</td>\n",
       "      <td>...</td>\n",
       "      <td>1</td>\n",
       "      <td>376.743902</td>\n",
       "      <td>-0.66</td>\n",
       "      <td>0.66</td>\n",
       "      <td>0.0</td>\n",
       "      <td>-0.33</td>\n",
       "      <td>0.33</td>\n",
       "      <td>0.0</td>\n",
       "      <td>0.0</td>\n",
       "      <td>0.0</td>\n",
       "    </tr>\n",
       "  </tbody>\n",
       "</table>\n",
       "<p>5 rows × 51 columns</p>\n",
       "</div>"
      ],
      "text/plain": [
       "             baum_id  lor_id  gw_id           boden_id  wetter_id  soil_id  \\\n",
       "0  00008100:000bbafb     525    496  B1400805161000000        433      427   \n",
       "1  00008100:000bbafd     525    496  B1400805161000000        433      427   \n",
       "2  00008100:000bbafe     525    496  B1400805161000000        433      427   \n",
       "3  00008100:000bbaff     525    496  B1400805161000000        433      427   \n",
       "4  00008100:000bbb00     525    496  B1400805161000000        433      427   \n",
       "\n",
       "   rain_id    fl_abs              art_bot kontinentalitaet  ...  typ  \\\n",
       "0      433  3.767439     carpinus betulus                4  ...    1   \n",
       "1      433  3.767439  acer pseudoplatanus                4  ...    1   \n",
       "2      433  3.767439  acer pseudoplatanus                4  ...    1   \n",
       "3      433  3.767439  acer pseudoplatanus                4  ...    1   \n",
       "4      433  3.767439  acer pseudoplatanus                4  ...    1   \n",
       "\n",
       "    fl_abs_cm  drght  drght_res  drght_risk  wtlgg  wtlgg_res  wtlgg_risk  \\\n",
       "0  376.743902  -0.66       0.66         0.0  -0.33       0.33         0.0   \n",
       "1  376.743902  -0.66       0.66         0.0  -0.33       0.33         0.0   \n",
       "2  376.743902  -0.66       0.66         0.0  -0.33       0.33         0.0   \n",
       "3  376.743902  -0.66       0.66         0.0  -0.33       0.33         0.0   \n",
       "4  376.743902  -0.66       0.66         0.0  -0.33       0.33         0.0   \n",
       "\n",
       "   wtlgg_risk_norm  risk_score  \n",
       "0              0.0         0.0  \n",
       "1              0.0         0.0  \n",
       "2              0.0         0.0  \n",
       "3              0.0         0.0  \n",
       "4              0.0         0.0  \n",
       "\n",
       "[5 rows x 51 columns]"
      ]
     },
     "execution_count": 222,
     "metadata": {},
     "output_type": "execute_result"
    }
   ],
   "source": [
    "calculation_table_new.head()"
   ]
  },
  {
   "cell_type": "code",
   "execution_count": null,
   "metadata": {},
   "outputs": [],
   "source": [
    "#nope ;) \n",
    "# I did this because Tableau is automatically assigning object type to geojsons, \n",
    "# sadly it also automatically assigns int to numbers in csv, so you end up having data type issues all the time, when you want to build relations\n",
    "\n",
    "#calculation_table = calculation_table.astype({'lor_id': 'str'})"
   ]
  },
  {
   "cell_type": "code",
   "execution_count": null,
   "metadata": {},
   "outputs": [],
   "source": [
    "#export for Tableau Test\n",
    "#calculation_table.to_csv(\"data/cleaned/calculation_table_working_1.csv\")"
   ]
  },
  {
   "cell_type": "code",
   "execution_count": null,
   "metadata": {},
   "outputs": [],
   "source": [
    "# @nicco where does this table come from? - which one? gz. Nicco\n",
    "#risk_agg.sort_values('risk_factor')"
   ]
  },
  {
   "cell_type": "markdown",
   "metadata": {},
   "source": [
    "Calculating rick of tree stress by lack of nutrition \n",
    "item: nut_risk\n",
    "columns needed: \n",
    "naerbew:\n",
    "classification of soil \n",
    "1 = arm = -1\n",
    "2 = mittel = -0.5\n",
    "3 = reich = 0\n",
    "\n",
    "naehrstoffanspruch_werte:\n",
    "classification of tree needs\n",
    "\n",
    "0 = gering = 1 \n",
    "1 = gering/mittel = 1 \n",
    "2 = mittel = 0.5\n",
    "3 = mittel/hoch = 0.5\n",
    "4 = hoch = 0"
   ]
  },
  {
   "cell_type": "code",
   "execution_count": 223,
   "metadata": {},
   "outputs": [
    {
     "data": {
      "text/plain": [
       "array([1., 2., 3.])"
      ]
     },
     "execution_count": 223,
     "metadata": {},
     "output_type": "execute_result"
    }
   ],
   "source": [
    "calculation_table_new['naerbew'].unique()"
   ]
  },
  {
   "cell_type": "code",
   "execution_count": 224,
   "metadata": {},
   "outputs": [
    {
     "data": {
      "text/plain": [
       "array([ 2.,  3.,  0.,  4., nan])"
      ]
     },
     "execution_count": 224,
     "metadata": {},
     "output_type": "execute_result"
    }
   ],
   "source": [
    "calculation_table_new['naehrstoffanspruch_werte'].unique()"
   ]
  },
  {
   "cell_type": "code",
   "execution_count": 225,
   "metadata": {},
   "outputs": [],
   "source": [
    "#categorizing nutritional needs of the trees\n",
    "def nut_req(y):\n",
    "    if y == 0:\n",
    "        return 1\n",
    "    elif y == 1:\n",
    "        return 1\n",
    "    elif y == 2:\n",
    "        return 0.5\n",
    "    elif y == 3:\n",
    "        return 0.5\n",
    "    elif y == 4:\n",
    "        return 0\n",
    "    else:\n",
    "        return \n"
   ]
  },
  {
   "cell_type": "code",
   "execution_count": 226,
   "metadata": {},
   "outputs": [],
   "source": [
    "def nut_soil(y):\n",
    "    if y == 1:\n",
    "        return -1\n",
    "    elif y == 2:\n",
    "        return -0.5\n",
    "    elif y == 3:\n",
    "        return 0\n",
    "    else:\n",
    "        return "
   ]
  },
  {
   "cell_type": "code",
   "execution_count": 229,
   "metadata": {},
   "outputs": [],
   "source": [
    "#new columns for 'nutr_req'\n",
    "calculation_table_new['nutr_req'] = calculation_table_new['naehrstoffanspruch_werte'].apply(nut_req)"
   ]
  },
  {
   "cell_type": "code",
   "execution_count": 230,
   "metadata": {},
   "outputs": [],
   "source": [
    "#new normalized column for 'soil_nut'\n",
    "calculation_table_new['soil_nut'] = calculation_table_new['naerbew'].apply(nut_soil)"
   ]
  },
  {
   "cell_type": "markdown",
   "metadata": {},
   "source": [
    "Calculating rick of tree stress by lack of nutrition \n",
    "item: nut_risk\n",
    "columns needed: \n",
    "naerbew:\n",
    "classification of soil \n",
    "1 = arm = -1\n",
    "2 = mittel = -0.5\n",
    "3 = reich = 0\n",
    "\n",
    "naehrstoffanspruch_werte:\n",
    "classification of tree needs\n",
    "\n",
    "0 = gering = 1 \n",
    "1 = gering/mittel = 1 \n",
    "2 = mittel = 0.5\n",
    "3 = mittel/hoch = 0.5\n",
    "4 = hoch = 0"
   ]
  },
  {
   "cell_type": "markdown",
   "metadata": {},
   "source": [
    "WENN x + y >= 0 dann 0 \n",
    "WENN x + y = -0.5 --> -0.5\n",
    "WENN x + y = -1 ---> -1"
   ]
  },
  {
   "cell_type": "code",
   "execution_count": 231,
   "metadata": {},
   "outputs": [],
   "source": [
    "# calculate risk score depending on the trees ability to suffer lack of nutrition\n",
    "# nut_req --> x\n",
    "# soil_nut --> y\n",
    "# setting -0.25 as default risk score when NaN \n",
    "def nut(x, y):\n",
    "    if x + y >= 0:\n",
    "        return 0\n",
    "    elif (x+y) == -0.5:\n",
    "        return -0.5\n",
    "    elif (x+y) == -1:\n",
    "        return -1\n",
    "    else:\n",
    "        return -0.25"
   ]
  },
  {
   "cell_type": "code",
   "execution_count": 232,
   "metadata": {},
   "outputs": [],
   "source": [
    "calculation_table_new['nut_risk']=calculation_table_new.apply(lambda x : nut(x['nutr_req'], x['soil_nut']) , axis=1)"
   ]
  },
  {
   "cell_type": "code",
   "execution_count": 237,
   "metadata": {},
   "outputs": [],
   "source": [
    "calculation_table_new['nut_risk_norm'] = calculation_table_new['nut_risk'] * -1"
   ]
  },
  {
   "cell_type": "code",
   "execution_count": 238,
   "metadata": {},
   "outputs": [
    {
     "data": {
      "text/plain": [
       "0         0.5\n",
       "1         0.5\n",
       "2         0.5\n",
       "3         0.5\n",
       "4         0.5\n",
       "         ... \n",
       "801233   -0.0\n",
       "801234   -0.0\n",
       "801235   -0.0\n",
       "801236    1.0\n",
       "801237   -0.0\n",
       "Name: nut_risk_norm, Length: 801238, dtype: float64"
      ]
     },
     "execution_count": 238,
     "metadata": {},
     "output_type": "execute_result"
    }
   ],
   "source": [
    "calculation_table_new['nut_risk_norm']"
   ]
  },
  {
   "cell_type": "code",
   "execution_count": 239,
   "metadata": {},
   "outputs": [],
   "source": [
    "calculation_table_new['nut_risk_norm'] = calculation_table_new['nut_risk_norm'].replace(-0.0,0.0)"
   ]
  },
  {
   "cell_type": "code",
   "execution_count": 240,
   "metadata": {},
   "outputs": [
    {
     "data": {
      "text/plain": [
       "<AxesSubplot:ylabel='Frequency'>"
      ]
     },
     "execution_count": 240,
     "metadata": {},
     "output_type": "execute_result"
    },
    {
     "data": {
      "image/png": "[encoded data removed]",
      "text/plain": [
       "<Figure size 432x288 with 1 Axes>"
      ]
     },
     "metadata": {
      "needs_background": "light"
     },
     "output_type": "display_data"
    }
   ],
   "source": [
    "calculation_table_new['nut_risk_norm'].plot(kind='hist')"
   ]
  },
  {
   "cell_type": "code",
   "execution_count": 241,
   "metadata": {},
   "outputs": [
    {
     "name": "stdout",
     "output_type": "stream",
     "text": [
      "<class 'pandas.core.frame.DataFrame'>\n",
      "Int64Index: 801238 entries, 0 to 801237\n",
      "Data columns (total 55 columns):\n",
      " #   Column                           Non-Null Count   Dtype  \n",
      "---  ------                           --------------   -----  \n",
      " 0   baum_id                          801238 non-null  object \n",
      " 1   lor_id                           801238 non-null  int64  \n",
      " 2   gw_id                            801238 non-null  int64  \n",
      " 3   boden_id                         801238 non-null  object \n",
      " 4   wetter_id                        801238 non-null  int64  \n",
      " 5   soil_id                          801238 non-null  int64  \n",
      " 6   rain_id                          801238 non-null  int64  \n",
      " 7   fl_abs                           789765 non-null  float64\n",
      " 8   art_bot                          801238 non-null  object \n",
      " 9   kontinentalitaet                 626551 non-null  object \n",
      " 10  wurzelsystem_werte               664761 non-null  float64\n",
      " 11  naehrstoffanspruch_werte         628433 non-null  float64\n",
      " 12  pH_min                           651511 non-null  float64\n",
      " 13  pH_max                           651511 non-null  float64\n",
      " 14  staunaessetoleranz_werte         664668 non-null  float64\n",
      " 15  trockentoleranz_werte            615120 non-null  float64\n",
      " 16  hitzevertraeglichkeit_werte      615120 non-null  float64\n",
      " 17  bodenverdichtungstoleranz_werte  615290 non-null  float64\n",
      " 18  versiegelungstoleranz_werte      608528 non-null  float64\n",
      " 19  hitzeempfindlichkeit_werte       608528 non-null  float64\n",
      " 20  anspueche_an_den_boden           608528 non-null  float64\n",
      " 21  pH-milieu_sensibel_werte         608528 non-null  float64\n",
      " 22  ph_soil                          801238 non-null  float64\n",
      " 23  kf                               801238 non-null  float64\n",
      " 24  ld                               801238 non-null  float64\n",
      " 25  naerbew                          801238 non-null  float64\n",
      " 26  perc_diff                        801238 non-null  float64\n",
      " 27  perc_days_diff                   801238 non-null  float64\n",
      " 28  perc_percentage                  801238 non-null  float64\n",
      " 29  perc_percentage_days_diff        801238 non-null  float64\n",
      " 30  tr_night_akt                     801238 non-null  int64  \n",
      " 31  ht_night_akt                     801238 non-null  float64\n",
      " 32  tr_night_ljm                     801238 non-null  float64\n",
      " 33  ht_night_ljm                     801238 non-null  float64\n",
      " 34  diff_t_max                       801238 non-null  float64\n",
      " 35  diff_t_ran                       801238 non-null  float64\n",
      " 36  diff_t_soil                      801238 non-null  float64\n",
      " 37  per_t_soil                       801238 non-null  float64\n",
      " 38  vg                               801238 non-null  float64\n",
      " 39  vgstrasse                        801238 non-null  float64\n",
      " 40  art_dtsch                        798826 non-null  object \n",
      " 41  typ                              801238 non-null  int64  \n",
      " 42  fl_abs_cm                        789765 non-null  float64\n",
      " 43  drght                            801238 non-null  float64\n",
      " 44  drght_res                        801238 non-null  float64\n",
      " 45  drght_risk                       801238 non-null  float64\n",
      " 46  wtlgg                            801238 non-null  float64\n",
      " 47  wtlgg_res                        664761 non-null  float64\n",
      " 48  wtlgg_risk                       664761 non-null  float64\n",
      " 49  wtlgg_risk_norm                  801238 non-null  float64\n",
      " 50  risk_score                       801238 non-null  float64\n",
      " 51  nutr_req                         628433 non-null  float64\n",
      " 52  soil_nut                         801238 non-null  float64\n",
      " 53  nut_risk                         801238 non-null  float64\n",
      " 54  nut_risk_norm                    801238 non-null  float64\n",
      "dtypes: float64(43), int64(7), object(5)\n",
      "memory usage: 358.5+ MB\n"
     ]
    }
   ],
   "source": [
    "calculation_table_new.info()"
   ]
  },
  {
   "cell_type": "code",
   "execution_count": 242,
   "metadata": {},
   "outputs": [],
   "source": [
    "#to do: automatize this so you only need to add the columns to the list or something\n",
    "#MASSIVE TO DO DEFAULT VALUES FOR NAN IN DRGHT_RISK AND WTLGG_RISK -- is this still a problem after changing gw_stations with missing values?\n",
    "\n",
    "#risk items so far\n",
    "# drght_risk\n",
    "# wtlgg_risk\n",
    "# nut_risk\n",
    "\n",
    "\n",
    "risk_items = ['drght_risk','wtlgg_risk_norm', 'nut_risk_norm']\n",
    "calculation_table_new['risk_score'] = (calculation_table_new['drght_risk'] + calculation_table_new['wtlgg_risk_norm'] + calculation_table_new['nut_risk_norm'])/(len(risk_items))"
   ]
  },
  {
   "cell_type": "code",
   "execution_count": null,
   "metadata": {},
   "outputs": [],
   "source": [
    "#calculation_table.head(50).tail(50)\n",
    "#calculation_table['risk_factor'].min()"
   ]
  },
  {
   "cell_type": "markdown",
   "metadata": {},
   "source": [
    "Now calculating risk for Bodenverdichtungs risk\n",
    "\n",
    "ld score --> Lagerungsdichte \n",
    "1 - sehr gering / very low / < 1.3\n",
    "2 - gering / low / >= 1.3 and <1.55 \n",
    "3 - mittel / medium / >=1.55 and < 1.75 \n",
    "4 - hoch / hight  / >= 1.75 and < 1.95\n",
    "5 -sehr hoch / very high / >= 1.95\n",
    "\n",
    "Verdichtungstoleranz \n",
    "1 - gering / low\n",
    "2 - mittel / medium\n",
    "3 - gut  / high\n"
   ]
  },
  {
   "cell_type": "code",
   "execution_count": 243,
   "metadata": {},
   "outputs": [
    {
     "data": {
      "text/plain": [
       "array([1.6 , 1.57, 1.51, 1.45, 0.9 , 1.48, 1.54, 1.3 , 1.42])"
      ]
     },
     "execution_count": 243,
     "metadata": {},
     "output_type": "execute_result"
    }
   ],
   "source": [
    "#checking values for ld \n",
    "calculation_table_new['ld'].unique()"
   ]
  },
  {
   "cell_type": "code",
   "execution_count": null,
   "metadata": {},
   "outputs": [],
   "source": [
    "#checking values for bodenverdichtungstoleranz_werte\n",
    "calculation_table_new['bodenverdichtungstoleranz_werte'].info()"
   ]
  },
  {
   "cell_type": "code",
   "execution_count": null,
   "metadata": {},
   "outputs": [],
   "source": [
    "# for the calculations \n",
    "#bodenverdichtungstoleranz_werte = x\n",
    "#ld = Y"
   ]
  },
  {
   "cell_type": "markdown",
   "metadata": {},
   "source": [
    "Now calculating risk for Bodenverdichtungs risk\n",
    "\n",
    "ld score --> Lagerungsdichte - a \n",
    "1 - sehr gering / very low / < 1.3\n",
    "2 - gering / low / >= 1.3 and <1.55 \n",
    "3 - mittel / medium / >=1.55 and < 1.75 \n",
    "4 - hoch / hight  / >= 1.75 and < 1.95\n",
    "5 -sehr hoch / very high / >= 1.95\n",
    "\n",
    "Verdichtungstoleranz bodenverdichtungstoleranz_werte\n",
    "0 - gering / low / 0\n",
    "1 - mittel / medium / 0.5 \n",
    "2 - gut  / high / 1"
   ]
  },
  {
   "cell_type": "code",
   "execution_count": 244,
   "metadata": {},
   "outputs": [],
   "source": [
    "#categorzing ld score to a 0-1 interval\n",
    "#setting -0.35 as default value for NaNs\n",
    "\n",
    "def ld_score_calc(a):\n",
    "    if a < 1.3:\n",
    "        return 0\n",
    "    elif a >= 1.3 and a < 1.55:\n",
    "        return -0.25\n",
    "    elif a >= 1.55 and a < 1.75:\n",
    "        return -0.5\n",
    "    elif a >= 1.75 and a < 1.95:\n",
    "        return -0.75 \n",
    "    elif a >= 1.95:\n",
    "        return -1 \n",
    "    else:\n",
    "        return -0.35"
   ]
  },
  {
   "cell_type": "code",
   "execution_count": 245,
   "metadata": {},
   "outputs": [],
   "source": [
    "#new columns for 'ld_score'\n",
    "calculation_table_new['ld_score'] = calculation_table_new['ld'].apply(ld_score_calc)"
   ]
  },
  {
   "cell_type": "code",
   "execution_count": 247,
   "metadata": {},
   "outputs": [
    {
     "data": {
      "text/plain": [
       "array([-0.5 , -0.25,  0.  ])"
      ]
     },
     "execution_count": 247,
     "metadata": {},
     "output_type": "execute_result"
    }
   ],
   "source": [
    "#checking our ld score values \n",
    "calculation_table_new['ld_score'].unique()"
   ]
  },
  {
   "cell_type": "code",
   "execution_count": null,
   "metadata": {},
   "outputs": [],
   "source": [
    "calculation_table['bodenverdichtungstoleranz_werte'].info()"
   ]
  },
  {
   "cell_type": "code",
   "execution_count": 250,
   "metadata": {},
   "outputs": [],
   "source": [
    "#categorizing bodenverdichtungstoleranz_werte values for 0,1,2 to values between 0 and 1, nans as 0.3\n",
    "def comp_tol(v):\n",
    "    if v == 0:\n",
    "        return 0\n",
    "    elif v == 1:\n",
    "        return 0.5\n",
    "    elif v == 2:\n",
    "        return 1\n",
    "    else:\n",
    "        return 0.3"
   ]
  },
  {
   "cell_type": "code",
   "execution_count": 251,
   "metadata": {},
   "outputs": [],
   "source": [
    "#new columns for 'comp_tol' -- compaction tolerance\n",
    "calculation_table_new['comp_tol_score'] = calculation_table_new['bodenverdichtungstoleranz_werte'].apply(comp_tol)"
   ]
  },
  {
   "cell_type": "markdown",
   "metadata": {},
   "source": [
    "comp_tol_score 0= 0.01, 0, 0.5, 1  --> 0 bad 1 good \n",
    "ld_score = -0.5 , -0.25,  0.  , -0.35 --> 0 good -1 bad \n",
    "\n",
    "X = 0, 0.01, 0.5, 1\n",
    "Y = 0, -0.25, -0.35, -0.5, -0.75, -1 "
   ]
  },
  {
   "cell_type": "markdown",
   "metadata": {},
   "source": [
    "WENN X + Y > 0 DANN 0 \n",
    "WENN X + Y = -1 DANN -1 \n",
    "WENN X + Y = -0.99 DANN -1\n",
    "WENN X + Y = -0.75 DANN -0.75\n",
    "WENN X + Y = -0.74 DANN -0.75\n",
    "WENN X + Y = -0.5  DANN -0.5\n",
    "WENN X + Y = -0.49 DANN -0.5\n",
    "WENN X + Y = -0.35 DANN -0.33\n",
    "WENN X + Y = -0.34 DANN -0.33\n",
    "WENN X + Y = -0.25 DANN -0.25 \n",
    "WENN X + Y = -0.24 DANN -0.25\n",
    "\n"
   ]
  },
  {
   "cell_type": "code",
   "execution_count": 252,
   "metadata": {},
   "outputs": [],
   "source": [
    "# calculating risk score depending on the trees ability to resist soil compaction \n",
    "# comp_tol_score--> x\n",
    "# ld_score --> y\n",
    "# setting -0.25 as default risk score when NaN \n",
    "def comp_sc(x, y):\n",
    "    if (x+y) >= 0:\n",
    "        return 0\n",
    "    elif (x+y) == -1 or (x+y) == -0.99:\n",
    "        return -1\n",
    "    elif (x+y) == -0.75 or (x+y) == -0.74:\n",
    "        return -0.75\n",
    "    elif (x+y) == -0.5 or (x+y) == -0.49:\n",
    "        return -0.5\n",
    "    elif (x+y) == -0.35 or (x+y) == -0.34:\n",
    "        return -0.33\n",
    "    elif (x+y) == -0.25 or (x+y) == -0.24:\n",
    "        return -0.25\n",
    "    else:\n",
    "        return"
   ]
  },
  {
   "cell_type": "code",
   "execution_count": 253,
   "metadata": {},
   "outputs": [],
   "source": [
    "#calculation compaction risk score as comp_risk_score\n",
    "calculation_table_new['comp_risk_score']=calculation_table_new.apply(lambda x : comp_sc(x['comp_tol_score'], x['ld_score']) , axis=1)"
   ]
  },
  {
   "cell_type": "code",
   "execution_count": 256,
   "metadata": {},
   "outputs": [],
   "source": [
    "\n",
    "calculation_table_new['comp_risk_score'] = calculation_table_new['comp_risk_score']*-1\n"
   ]
  },
  {
   "cell_type": "code",
   "execution_count": 257,
   "metadata": {},
   "outputs": [],
   "source": [
    "calculation_table_new['comp_risk_score'] = calculation_table_new['comp_risk_score'].replace(-0.0,0.0)"
   ]
  },
  {
   "cell_type": "code",
   "execution_count": 258,
   "metadata": {},
   "outputs": [
    {
     "data": {
      "text/html": [
       "<div>\n",
       "<style scoped>\n",
       "    .dataframe tbody tr th:only-of-type {\n",
       "        vertical-align: middle;\n",
       "    }\n",
       "\n",
       "    .dataframe tbody tr th {\n",
       "        vertical-align: top;\n",
       "    }\n",
       "\n",
       "    .dataframe thead th {\n",
       "        text-align: right;\n",
       "    }\n",
       "</style>\n",
       "<table border=\"1\" class=\"dataframe\">\n",
       "  <thead>\n",
       "    <tr style=\"text-align: right;\">\n",
       "      <th></th>\n",
       "      <th>baum_id</th>\n",
       "      <th>lor_id</th>\n",
       "      <th>gw_id</th>\n",
       "      <th>boden_id</th>\n",
       "      <th>wetter_id</th>\n",
       "      <th>soil_id</th>\n",
       "      <th>rain_id</th>\n",
       "      <th>fl_abs</th>\n",
       "      <th>art_bot</th>\n",
       "      <th>kontinentalitaet</th>\n",
       "      <th>...</th>\n",
       "      <th>wtlgg_risk</th>\n",
       "      <th>wtlgg_risk_norm</th>\n",
       "      <th>risk_score</th>\n",
       "      <th>nutr_req</th>\n",
       "      <th>soil_nut</th>\n",
       "      <th>nut_risk</th>\n",
       "      <th>nut_risk_norm</th>\n",
       "      <th>ld_score</th>\n",
       "      <th>comp_tol_score</th>\n",
       "      <th>comp_risk_score</th>\n",
       "    </tr>\n",
       "  </thead>\n",
       "  <tbody>\n",
       "    <tr>\n",
       "      <th>0</th>\n",
       "      <td>00008100:000bbafb</td>\n",
       "      <td>525</td>\n",
       "      <td>496</td>\n",
       "      <td>B1400805161000000</td>\n",
       "      <td>433</td>\n",
       "      <td>427</td>\n",
       "      <td>433</td>\n",
       "      <td>3.767439</td>\n",
       "      <td>carpinus betulus</td>\n",
       "      <td>4</td>\n",
       "      <td>...</td>\n",
       "      <td>0.0</td>\n",
       "      <td>0.0</td>\n",
       "      <td>0.166667</td>\n",
       "      <td>0.5</td>\n",
       "      <td>-1.0</td>\n",
       "      <td>-0.5</td>\n",
       "      <td>0.5</td>\n",
       "      <td>-0.50</td>\n",
       "      <td>0.0</td>\n",
       "      <td>0.50</td>\n",
       "    </tr>\n",
       "    <tr>\n",
       "      <th>1</th>\n",
       "      <td>00008100:000bbafd</td>\n",
       "      <td>525</td>\n",
       "      <td>496</td>\n",
       "      <td>B1400805161000000</td>\n",
       "      <td>433</td>\n",
       "      <td>427</td>\n",
       "      <td>433</td>\n",
       "      <td>3.767439</td>\n",
       "      <td>acer pseudoplatanus</td>\n",
       "      <td>4</td>\n",
       "      <td>...</td>\n",
       "      <td>0.0</td>\n",
       "      <td>0.0</td>\n",
       "      <td>0.166667</td>\n",
       "      <td>0.5</td>\n",
       "      <td>-1.0</td>\n",
       "      <td>-0.5</td>\n",
       "      <td>0.5</td>\n",
       "      <td>-0.50</td>\n",
       "      <td>0.0</td>\n",
       "      <td>0.50</td>\n",
       "    </tr>\n",
       "    <tr>\n",
       "      <th>2</th>\n",
       "      <td>00008100:000bbafe</td>\n",
       "      <td>525</td>\n",
       "      <td>496</td>\n",
       "      <td>B1400805161000000</td>\n",
       "      <td>433</td>\n",
       "      <td>427</td>\n",
       "      <td>433</td>\n",
       "      <td>3.767439</td>\n",
       "      <td>acer pseudoplatanus</td>\n",
       "      <td>4</td>\n",
       "      <td>...</td>\n",
       "      <td>0.0</td>\n",
       "      <td>0.0</td>\n",
       "      <td>0.166667</td>\n",
       "      <td>0.5</td>\n",
       "      <td>-1.0</td>\n",
       "      <td>-0.5</td>\n",
       "      <td>0.5</td>\n",
       "      <td>-0.50</td>\n",
       "      <td>0.0</td>\n",
       "      <td>0.50</td>\n",
       "    </tr>\n",
       "    <tr>\n",
       "      <th>3</th>\n",
       "      <td>00008100:000bbaff</td>\n",
       "      <td>525</td>\n",
       "      <td>496</td>\n",
       "      <td>B1400805161000000</td>\n",
       "      <td>433</td>\n",
       "      <td>427</td>\n",
       "      <td>433</td>\n",
       "      <td>3.767439</td>\n",
       "      <td>acer pseudoplatanus</td>\n",
       "      <td>4</td>\n",
       "      <td>...</td>\n",
       "      <td>0.0</td>\n",
       "      <td>0.0</td>\n",
       "      <td>0.166667</td>\n",
       "      <td>0.5</td>\n",
       "      <td>-1.0</td>\n",
       "      <td>-0.5</td>\n",
       "      <td>0.5</td>\n",
       "      <td>-0.50</td>\n",
       "      <td>0.0</td>\n",
       "      <td>0.50</td>\n",
       "    </tr>\n",
       "    <tr>\n",
       "      <th>4</th>\n",
       "      <td>00008100:000bbb00</td>\n",
       "      <td>525</td>\n",
       "      <td>496</td>\n",
       "      <td>B1400805161000000</td>\n",
       "      <td>433</td>\n",
       "      <td>427</td>\n",
       "      <td>433</td>\n",
       "      <td>3.767439</td>\n",
       "      <td>acer pseudoplatanus</td>\n",
       "      <td>4</td>\n",
       "      <td>...</td>\n",
       "      <td>0.0</td>\n",
       "      <td>0.0</td>\n",
       "      <td>0.166667</td>\n",
       "      <td>0.5</td>\n",
       "      <td>-1.0</td>\n",
       "      <td>-0.5</td>\n",
       "      <td>0.5</td>\n",
       "      <td>-0.50</td>\n",
       "      <td>0.0</td>\n",
       "      <td>0.50</td>\n",
       "    </tr>\n",
       "    <tr>\n",
       "      <th>...</th>\n",
       "      <td>...</td>\n",
       "      <td>...</td>\n",
       "      <td>...</td>\n",
       "      <td>...</td>\n",
       "      <td>...</td>\n",
       "      <td>...</td>\n",
       "      <td>...</td>\n",
       "      <td>...</td>\n",
       "      <td>...</td>\n",
       "      <td>...</td>\n",
       "      <td>...</td>\n",
       "      <td>...</td>\n",
       "      <td>...</td>\n",
       "      <td>...</td>\n",
       "      <td>...</td>\n",
       "      <td>...</td>\n",
       "      <td>...</td>\n",
       "      <td>...</td>\n",
       "      <td>...</td>\n",
       "      <td>...</td>\n",
       "      <td>...</td>\n",
       "    </tr>\n",
       "    <tr>\n",
       "      <th>801233</th>\n",
       "      <td>00008100:002db640</td>\n",
       "      <td>309</td>\n",
       "      <td>6010</td>\n",
       "      <td>B0300089051000300</td>\n",
       "      <td>430</td>\n",
       "      <td>430</td>\n",
       "      <td>433</td>\n",
       "      <td>NaN</td>\n",
       "      <td>robinia pseudoacacia</td>\n",
       "      <td>4</td>\n",
       "      <td>...</td>\n",
       "      <td>0.0</td>\n",
       "      <td>0.0</td>\n",
       "      <td>0.000000</td>\n",
       "      <td>1.0</td>\n",
       "      <td>-0.5</td>\n",
       "      <td>0.0</td>\n",
       "      <td>0.0</td>\n",
       "      <td>-0.25</td>\n",
       "      <td>0.0</td>\n",
       "      <td>0.25</td>\n",
       "    </tr>\n",
       "    <tr>\n",
       "      <th>801234</th>\n",
       "      <td>00008100:002db641</td>\n",
       "      <td>309</td>\n",
       "      <td>6010</td>\n",
       "      <td>B0300089051000300</td>\n",
       "      <td>430</td>\n",
       "      <td>430</td>\n",
       "      <td>433</td>\n",
       "      <td>NaN</td>\n",
       "      <td>acer platanoides</td>\n",
       "      <td>4</td>\n",
       "      <td>...</td>\n",
       "      <td>0.0</td>\n",
       "      <td>0.0</td>\n",
       "      <td>0.111667</td>\n",
       "      <td>0.5</td>\n",
       "      <td>-0.5</td>\n",
       "      <td>0.0</td>\n",
       "      <td>0.0</td>\n",
       "      <td>-0.25</td>\n",
       "      <td>0.0</td>\n",
       "      <td>0.25</td>\n",
       "    </tr>\n",
       "    <tr>\n",
       "      <th>801235</th>\n",
       "      <td>00008100:002db642</td>\n",
       "      <td>309</td>\n",
       "      <td>6010</td>\n",
       "      <td>B0300089051000300</td>\n",
       "      <td>430</td>\n",
       "      <td>430</td>\n",
       "      <td>433</td>\n",
       "      <td>NaN</td>\n",
       "      <td>robinia pseudoacacia</td>\n",
       "      <td>4</td>\n",
       "      <td>...</td>\n",
       "      <td>0.0</td>\n",
       "      <td>0.0</td>\n",
       "      <td>0.000000</td>\n",
       "      <td>1.0</td>\n",
       "      <td>-0.5</td>\n",
       "      <td>0.0</td>\n",
       "      <td>0.0</td>\n",
       "      <td>-0.25</td>\n",
       "      <td>0.0</td>\n",
       "      <td>0.25</td>\n",
       "    </tr>\n",
       "    <tr>\n",
       "      <th>801236</th>\n",
       "      <td>00008100:002db652</td>\n",
       "      <td>167</td>\n",
       "      <td>4013</td>\n",
       "      <td>B0800396161000200</td>\n",
       "      <td>403</td>\n",
       "      <td>403</td>\n",
       "      <td>403</td>\n",
       "      <td>14.980000</td>\n",
       "      <td>quercus robur</td>\n",
       "      <td>6</td>\n",
       "      <td>...</td>\n",
       "      <td>0.0</td>\n",
       "      <td>0.0</td>\n",
       "      <td>0.446667</td>\n",
       "      <td>0.0</td>\n",
       "      <td>-1.0</td>\n",
       "      <td>-1.0</td>\n",
       "      <td>1.0</td>\n",
       "      <td>-0.50</td>\n",
       "      <td>1.0</td>\n",
       "      <td>0.00</td>\n",
       "    </tr>\n",
       "    <tr>\n",
       "      <th>801237</th>\n",
       "      <td>00008100:002db653</td>\n",
       "      <td>167</td>\n",
       "      <td>4013</td>\n",
       "      <td>B0800396161000200</td>\n",
       "      <td>403</td>\n",
       "      <td>403</td>\n",
       "      <td>403</td>\n",
       "      <td>14.980000</td>\n",
       "      <td>pinus sylvestris</td>\n",
       "      <td>7</td>\n",
       "      <td>...</td>\n",
       "      <td>0.0</td>\n",
       "      <td>0.0</td>\n",
       "      <td>0.000000</td>\n",
       "      <td>1.0</td>\n",
       "      <td>-1.0</td>\n",
       "      <td>0.0</td>\n",
       "      <td>0.0</td>\n",
       "      <td>-0.50</td>\n",
       "      <td>0.5</td>\n",
       "      <td>0.00</td>\n",
       "    </tr>\n",
       "  </tbody>\n",
       "</table>\n",
       "<p>801238 rows × 58 columns</p>\n",
       "</div>"
      ],
      "text/plain": [
       "                  baum_id  lor_id  gw_id           boden_id  wetter_id  \\\n",
       "0       00008100:000bbafb     525    496  B1400805161000000        433   \n",
       "1       00008100:000bbafd     525    496  B1400805161000000        433   \n",
       "2       00008100:000bbafe     525    496  B1400805161000000        433   \n",
       "3       00008100:000bbaff     525    496  B1400805161000000        433   \n",
       "4       00008100:000bbb00     525    496  B1400805161000000        433   \n",
       "...                   ...     ...    ...                ...        ...   \n",
       "801233  00008100:002db640     309   6010  B0300089051000300        430   \n",
       "801234  00008100:002db641     309   6010  B0300089051000300        430   \n",
       "801235  00008100:002db642     309   6010  B0300089051000300        430   \n",
       "801236  00008100:002db652     167   4013  B0800396161000200        403   \n",
       "801237  00008100:002db653     167   4013  B0800396161000200        403   \n",
       "\n",
       "        soil_id  rain_id     fl_abs               art_bot kontinentalitaet  \\\n",
       "0           427      433   3.767439      carpinus betulus                4   \n",
       "1           427      433   3.767439   acer pseudoplatanus                4   \n",
       "2           427      433   3.767439   acer pseudoplatanus                4   \n",
       "3           427      433   3.767439   acer pseudoplatanus                4   \n",
       "4           427      433   3.767439   acer pseudoplatanus                4   \n",
       "...         ...      ...        ...                   ...              ...   \n",
       "801233      430      433        NaN  robinia pseudoacacia                4   \n",
       "801234      430      433        NaN      acer platanoides                4   \n",
       "801235      430      433        NaN  robinia pseudoacacia                4   \n",
       "801236      403      403  14.980000         quercus robur                6   \n",
       "801237      403      403  14.980000      pinus sylvestris                7   \n",
       "\n",
       "        ...  wtlgg_risk  wtlgg_risk_norm  risk_score  nutr_req  soil_nut  \\\n",
       "0       ...         0.0              0.0    0.166667       0.5      -1.0   \n",
       "1       ...         0.0              0.0    0.166667       0.5      -1.0   \n",
       "2       ...         0.0              0.0    0.166667       0.5      -1.0   \n",
       "3       ...         0.0              0.0    0.166667       0.5      -1.0   \n",
       "4       ...         0.0              0.0    0.166667       0.5      -1.0   \n",
       "...     ...         ...              ...         ...       ...       ...   \n",
       "801233  ...         0.0              0.0    0.000000       1.0      -0.5   \n",
       "801234  ...         0.0              0.0    0.111667       0.5      -0.5   \n",
       "801235  ...         0.0              0.0    0.000000       1.0      -0.5   \n",
       "801236  ...         0.0              0.0    0.446667       0.0      -1.0   \n",
       "801237  ...         0.0              0.0    0.000000       1.0      -1.0   \n",
       "\n",
       "        nut_risk  nut_risk_norm  ld_score  comp_tol_score  comp_risk_score  \n",
       "0           -0.5            0.5     -0.50             0.0             0.50  \n",
       "1           -0.5            0.5     -0.50             0.0             0.50  \n",
       "2           -0.5            0.5     -0.50             0.0             0.50  \n",
       "3           -0.5            0.5     -0.50             0.0             0.50  \n",
       "4           -0.5            0.5     -0.50             0.0             0.50  \n",
       "...          ...            ...       ...             ...              ...  \n",
       "801233       0.0            0.0     -0.25             0.0             0.25  \n",
       "801234       0.0            0.0     -0.25             0.0             0.25  \n",
       "801235       0.0            0.0     -0.25             0.0             0.25  \n",
       "801236      -1.0            1.0     -0.50             1.0             0.00  \n",
       "801237       0.0            0.0     -0.50             0.5             0.00  \n",
       "\n",
       "[801238 rows x 58 columns]"
      ]
     },
     "execution_count": 258,
     "metadata": {},
     "output_type": "execute_result"
    }
   ],
   "source": [
    "calculation_table_new"
   ]
  },
  {
   "cell_type": "code",
   "execution_count": 259,
   "metadata": {},
   "outputs": [
    {
     "data": {
      "text/plain": [
       "<AxesSubplot:ylabel='Frequency'>"
      ]
     },
     "execution_count": 259,
     "metadata": {},
     "output_type": "execute_result"
    },
    {
     "data": {
      "image/png": "[encoded data removed]",
      "text/plain": [
       "<Figure size 432x288 with 1 Axes>"
      ]
     },
     "metadata": {
      "needs_background": "light"
     },
     "output_type": "display_data"
    }
   ],
   "source": [
    "calculation_table_new['comp_risk_score'].plot(kind='hist')"
   ]
  },
  {
   "cell_type": "code",
   "execution_count": 260,
   "metadata": {},
   "outputs": [],
   "source": [
    "column = 'comp_risk_score'\n",
    "calculation_table_new[column+'_norm'] = (calculation_table_new[column] - calculation_table_new[column].min()) / (calculation_table_new[column].max() - calculation_table_new[column].min())\t\n",
    "#calculation_table_new[column+'_norm'] = (calculation_table_new[column] - calculation_table_new[column].mean()) / calculation_table_new[column].std()   "
   ]
  },
  {
   "cell_type": "code",
   "execution_count": 262,
   "metadata": {},
   "outputs": [
    {
     "data": {
      "text/plain": [
       "<AxesSubplot:ylabel='Frequency'>"
      ]
     },
     "execution_count": 262,
     "metadata": {},
     "output_type": "execute_result"
    },
    {
     "data": {
      "image/png": "[encoded data removed]",
      "text/plain": [
       "<Figure size 432x288 with 1 Axes>"
      ]
     },
     "metadata": {
      "needs_background": "light"
     },
     "output_type": "display_data"
    }
   ],
   "source": [
    "calculation_table_new['comp_risk_score_norm'].plot(kind='hist')"
   ]
  },
  {
   "cell_type": "code",
   "execution_count": 263,
   "metadata": {},
   "outputs": [],
   "source": [
    "#to do: automatize this so you only need to add the columns to the list or something\n",
    "#MASSIVE TO DO DEFAULT VALUES FOR NAN IN DRGHT_RISK AND WTLGG_RISK -- is this still a problem after changing gw_stations with missing values?\n",
    "\n",
    "#risk items so far\n",
    "# drght_risk\n",
    "# wtlgg_risk\n",
    "# nut_risk\n",
    "# comp_risk_score \n",
    "\n",
    "\n",
    "risk_items = ['drght_risk','wtlgg_risk_norm', 'nut_risk_norm', 'comp_risk_score_norm']\n",
    "calculation_table_new['risk_score'] = (calculation_table_new['drght_risk'] + \n",
    "                                    calculation_table_new['wtlgg_risk_norm'] + \n",
    "                                    calculation_table_new['nut_risk_norm'] +\n",
    "                                    calculation_table_new['comp_risk_score_norm'])/(len(risk_items))"
   ]
  },
  {
   "cell_type": "code",
   "execution_count": null,
   "metadata": {},
   "outputs": [],
   "source": [
    "calculation_table.columns"
   ]
  },
  {
   "cell_type": "markdown",
   "metadata": {},
   "source": [
    "Now preparing and calculating the values for Versieglung and the accompanying risk score \n"
   ]
  },
  {
   "cell_type": "markdown",
   "metadata": {},
   "source": [
    "Strassenbaum \n",
    "Typ=1  \n",
    "vgstrasse 0 - 100 normalized -1 - 0 \n",
    "\n",
    "Anlagenbaum\n",
    "Typ=2 \n",
    "vg 0 - 100 --> normalized range -1 - 0\n",
    "for consistency's sake lets invert this by multiplying vgs/vgstrasse *-1/100\n",
    "\n",
    "versiegelungstoleranz_werte 0,1,2 --> 0=low(bad),1=(medium)2=high(good) 0=0, 1=-0.5, 2=-1\n",
    "\n",
    "\n"
   ]
  },
  {
   "cell_type": "markdown",
   "metadata": {},
   "source": [
    "IF 1 dann 'vgstrasse'\n",
    "IF 2 dann 'vg' \n"
   ]
  },
  {
   "cell_type": "code",
   "execution_count": 264,
   "metadata": {},
   "outputs": [],
   "source": [
    "#normalizing vgstrasse to be in the regual stressor inverval of -1 to 0 \n",
    "calculation_table_new['vgstrasse'] = calculation_table_new['vgstrasse']*-1/100\n"
   ]
  },
  {
   "cell_type": "code",
   "execution_count": 265,
   "metadata": {},
   "outputs": [],
   "source": [
    "#normalizing vg to be in the regual stressor inverval of -1 to 0 \n",
    "calculation_table_new['vg'] = calculation_table_new['vg']*-1/100"
   ]
  },
  {
   "cell_type": "code",
   "execution_count": null,
   "metadata": {},
   "outputs": [],
   "source": [
    "#checking values \n",
    "#calculation_table.head()"
   ]
  },
  {
   "cell_type": "code",
   "execution_count": null,
   "metadata": {},
   "outputs": [],
   "source": [
    "# it seems like this appears several times?\n",
    "'''\n",
    "Strassenbaum \n",
    "Typ=1  \n",
    "vgstrasse 0 - 100 normalized -1 - 0 \n",
    "\n",
    "Anlagenbaum\n",
    "Typ=2 \n",
    "vg 0 - 100 --> normalized range -1 - 0\n",
    "for consistency's sake lets invert this by multiplying vgs/vgstrasse *-1/100\n",
    "\n",
    "versiegelungstoleranz_werte 0,1,2 --> 0=low(bad),1=(medium)2=high(good) 0=0, 1=0.5, 2=1 --> NaNs = 0.5\n",
    "'''"
   ]
  },
  {
   "cell_type": "code",
   "execution_count": 266,
   "metadata": {},
   "outputs": [],
   "source": [
    "#categorizing versiegelungstoleranz_werte  values for 0,1,2 to values between 0 and 1, nans as 0.5\n",
    "def vers_tol(o):\n",
    "    if o == 0:\n",
    "        return 0\n",
    "    elif o == 1:\n",
    "        return 0.5\n",
    "    elif o == 2:\n",
    "        return 1\n",
    "    else:\n",
    "        return 0.5"
   ]
  },
  {
   "cell_type": "code",
   "execution_count": 267,
   "metadata": {},
   "outputs": [],
   "source": [
    "#new column for 'seal_tol' -- soil sealing tolerance\n",
    "calculation_table_new['seal_tol'] = calculation_table_new['versiegelungstoleranz_werte'].apply(vers_tol)"
   ]
  },
  {
   "cell_type": "code",
   "execution_count": null,
   "metadata": {},
   "outputs": [],
   "source": [
    "calculation_table.head()"
   ]
  },
  {
   "cell_type": "code",
   "execution_count": null,
   "metadata": {},
   "outputs": [],
   "source": [
    "# we now have a function to categorize the bodenverdichtungstoleranz_werte in an inverval of 0 to 1 \n",
    "# now we have to \n",
    "#risiko_score = vg + seal_tol for Anlagenbäume (typ=2)\n",
    "#and \n",
    "#risiko_score = vgstrasse + seal_tol for Strassenbäume (typ=1)"
   ]
  },
  {
   "cell_type": "code",
   "execution_count": 268,
   "metadata": {},
   "outputs": [],
   "source": [
    "# calculating risk score depending on the trees ability to resist soil compaction \n",
    "# seal_tol--> x\n",
    "# vg / vgstrasse --> y\n",
    "def seal_sc(x, y, z, a):\n",
    "    if a == 1:\n",
    "        if (x+y) >= 0:\n",
    "            return 0\n",
    "        elif (x+y) == -1:\n",
    "            return -1\n",
    "        elif (x+y) < 0.00 and (x+y) > -0.25:\n",
    "            return -0.25\n",
    "        elif (x+y) <= -0.25 and (x+y) > -0.50:\n",
    "            return -0.5\n",
    "        elif (x+y) <= -0.5 and (x+y) > -0.75:\n",
    "            return -0.75\n",
    "        elif (x+y) <= -0.75 and (x+y) > -1:\n",
    "            return -1\n",
    "        else:\n",
    "            return\n",
    "    else:\n",
    "        if (x+z) >= 0:\n",
    "            return 0\n",
    "        elif (x+z) == -1:\n",
    "            return -1\n",
    "        elif (x+z) < 0.00 and (x+z) > -0.25:\n",
    "            return -0.25\n",
    "        elif (x+z) <= -0.25 and (x+z) > -0.50:\n",
    "            return -0.5\n",
    "        elif (x+z) <= -0.5 and (x+z) > -0.75:\n",
    "            return -0.75\n",
    "        elif (x+z) <= -0.75 and (x+z) > -1:\n",
    "            return -1\n",
    "        else:\n",
    "            return\n"
   ]
  },
  {
   "cell_type": "code",
   "execution_count": 273,
   "metadata": {},
   "outputs": [],
   "source": [
    "calculation_table_new['seal_risk_score']=calculation_table_new.apply(lambda x : seal_sc(x['seal_tol'], x['vgstrasse'], x['vg'], x['typ']) , axis=1)"
   ]
  },
  {
   "cell_type": "code",
   "execution_count": 274,
   "metadata": {},
   "outputs": [],
   "source": [
    "calculation_table_new['seal_risk_score'] = calculation_table_new['seal_risk_score']*-1"
   ]
  },
  {
   "cell_type": "code",
   "execution_count": 275,
   "metadata": {},
   "outputs": [],
   "source": [
    "calculation_table_new['seal_risk_score'] = calculation_table_new['seal_risk_score'].replace(-0.0,0.0)"
   ]
  },
  {
   "cell_type": "code",
   "execution_count": 276,
   "metadata": {},
   "outputs": [
    {
     "data": {
      "text/plain": [
       "<AxesSubplot:ylabel='Frequency'>"
      ]
     },
     "execution_count": 276,
     "metadata": {},
     "output_type": "execute_result"
    },
    {
     "data": {
      "image/png": "[encoded data removed]",
      "text/plain": [
       "<Figure size 432x288 with 1 Axes>"
      ]
     },
     "metadata": {
      "needs_background": "light"
     },
     "output_type": "display_data"
    }
   ],
   "source": [
    "calculation_table_new['seal_risk_score'].plot(kind='hist')"
   ]
  },
  {
   "cell_type": "code",
   "execution_count": 277,
   "metadata": {},
   "outputs": [],
   "source": [
    "#to do: automatize this so you only need to add the columns to the list or something\n",
    "#MASSIVE TO DO DEFAULT VALUES FOR NAN IN DRGHT_RISK AND WTLGG_RISK\n",
    "\n",
    "#risk items so far\n",
    "# drght_risk\n",
    "# wtlgg_risk\n",
    "# nut_risk\n",
    "# comp_risk_score \n",
    "# seal_risk_score (we need to look at this one again)\n",
    "\n",
    "\n",
    "risk_items = ['drght_risk','wtlgg_risk_norm', 'nut_risk_norm', 'comp_risk_score_norm' 'seal_risk_score']\n",
    "calculation_table_new['risk_score'] = (calculation_table_new['drght_risk'] + \n",
    "                                    calculation_table_new['wtlgg_risk_norm'] + \n",
    "                                    calculation_table_new['nut_risk_norm'] +\n",
    "                                    calculation_table_new['comp_risk_score_norm'] +\n",
    "                                    calculation_table_new['seal_risk_score'])/(len(risk_items))"
   ]
  },
  {
   "cell_type": "code",
   "execution_count": 280,
   "metadata": {},
   "outputs": [
    {
     "data": {
      "text/plain": [
       "array([0.625     , 0.5       ,        nan, 0.41625   , 0.665     ,\n",
       "       0.25      , 0.125     , 0.19      , 0.29125   , 0.3125    ,\n",
       "       0.375     , 0.0425    , 0.1675    , 0.46      , 0.355     ,\n",
       "       0.        , 0.065     , 0.33375   , 0.20875   , 0.2075    ,\n",
       "       0.45875   , 0.0625    , 0.4575    , 0.29      , 0.04125   ,\n",
       "       0.16625   , 0.415     , 0.75      , 0.8325    , 0.585     ,\n",
       "       0.5825    , 0.24813433, 0.4175    , 0.54      , 0.165     ,\n",
       "       0.56156716, 0.3325    , 0.0825    , 0.5425    , 0.21      ,\n",
       "       0.6675    , 0.335     , 0.71      , 0.875     , 0.2925    ,\n",
       "       0.7075    , 0.54125   , 0.7925    , 0.62313433, 0.37313433,\n",
       "       0.74813433, 0.43656716, 0.79      , 0.9175    , 0.08375   ,\n",
       "       0.12313433, 0.49813433, 0.43563433, 0.31156716, 0.87313433,\n",
       "       0.5025    , 0.68656716, 0.1475    , 0.66625   , 0.87686567,\n",
       "       0.25186567, 0.12686567, 0.31343284, 0.18936567, 0.18656716,\n",
       "       0.58375   , 0.50186567, 0.75186567, 0.62686567, 0.06343284,\n",
       "       1.        , 0.43843284, 0.18843284, 0.5625    , 0.6875    ,\n",
       "       0.47875   , 0.1275    , 0.4375    , 0.3975    , 0.1875    ,\n",
       "       0.27125   , 0.395     , 0.2725    , 0.5225    , 0.52      ,\n",
       "       0.48      , 0.605     , 0.4775    , 0.22875   , 0.27      ,\n",
       "       0.23      , 0.35375   , 0.2275    , 0.6475    , 0.7275    ,\n",
       "       0.6025    , 0.3525    , 0.73      , 0.8125    , 0.145     ,\n",
       "       0.645     , 0.855     , 0.77      , 0.49906716, 0.56063433,\n",
       "       0.68563433, 0.81063433, 0.62406716, 0.60375   , 0.085     ,\n",
       "       0.79125   , 0.18563433, 0.72875   , 0.2525    , 0.14625   ,\n",
       "       0.10375   , 0.12406716, 0.06156716, 0.105     , 0.37406716,\n",
       "       0.31063433, 0.24906716, 0.12593284, 0.52125   , 0.39625   ])"
      ]
     },
     "execution_count": 280,
     "metadata": {},
     "output_type": "execute_result"
    }
   ],
   "source": [
    "# check\n",
    "calculation_table_new['risk_score'].unique()"
   ]
  },
  {
   "cell_type": "code",
   "execution_count": 281,
   "metadata": {},
   "outputs": [
    {
     "data": {
      "text/plain": [
       "3.20    247638\n",
       "3.63    229145\n",
       "3.24    165753\n",
       "3.47    112671\n",
       "3.78     46031\n",
       "Name: diff_t_max, dtype: int64"
      ]
     },
     "metadata": {},
     "output_type": "display_data"
    },
    {
     "data": {
      "text/plain": [
       "array([3.63, 3.78, 3.2 , 3.47, 3.24])"
      ]
     },
     "metadata": {},
     "output_type": "display_data"
    }
   ],
   "source": [
    "# Now calculating item Temperature avg jul 2022\n",
    "display(calculation_table['diff_t_max'].value_counts())\n",
    "display(calculation_table['diff_t_max'].unique())\n",
    "# atm 04.09.22 13:28 601055 rows"
   ]
  },
  {
   "cell_type": "code",
   "execution_count": 282,
   "metadata": {},
   "outputs": [
    {
     "data": {
      "text/plain": [
       "2.30    250497\n",
       "1.57    248825\n",
       "4.59    228838\n",
       "3.42     73078\n",
       "Name: diff_t_soil, dtype: int64"
      ]
     },
     "metadata": {},
     "output_type": "display_data"
    },
    {
     "data": {
      "text/plain": [
       "array([3.42, 2.3 , 4.59, 1.57])"
      ]
     },
     "metadata": {},
     "output_type": "display_data"
    }
   ],
   "source": [
    "display(calculation_table['diff_t_soil'].value_counts())\n",
    "display(calculation_table['diff_t_soil'].unique())\n",
    "# atm 04.09.22 13:28 542391 rows"
   ]
  },
  {
   "cell_type": "code",
   "execution_count": 283,
   "metadata": {},
   "outputs": [],
   "source": [
    "ft = pd.read_csv('data/cleaned/future_trees_final.csv', index_col=0)"
   ]
  },
  {
   "cell_type": "code",
   "execution_count": 284,
   "metadata": {},
   "outputs": [
    {
     "data": {
      "text/plain": [
       "array([ 0., nan,  1.,  2.])"
      ]
     },
     "execution_count": 284,
     "metadata": {},
     "output_type": "execute_result"
    }
   ],
   "source": [
    "ft['hitzevertraeglichkeit_werte'].unique()"
   ]
  },
  {
   "cell_type": "markdown",
   "metadata": {},
   "source": [
    "Now calculating risk for temperature risk\n",
    "We expect every datapoint to be above the 3 degree threshhold --> therefore we could manually set the column to -1, we opt for calculating it anyways, in order to make the model useable for other observations in the future.\n",
    "\n",
    "diff_t_max --> difference to ljm  - we will have to code the values to match the following categories, NaNs will be coded to -1 \n",
    "<1.5 degrees C --> -0.5\n",
    "1.5-3 degrees C --> -0.75\n",
    ">3 degrees C --> -1\n",
    "NaNs will be assigned the value of -1 (max risk for NaNs)\n",
    "\n",
    "hitzevertraeglichkeit_werte \n",
    "0 - mittel --> 0\n",
    "1 - stark --> 0,5\n",
    "2 - sehr stark --> 1\n",
    "Nan --> 0 (min resistance for NaNs)"
   ]
  },
  {
   "cell_type": "code",
   "execution_count": 285,
   "metadata": {},
   "outputs": [],
   "source": [
    "#categorzing diff_t_max to a 0-1 interval\n",
    "#setting -1 as default value for NaNs\n",
    "\n",
    "def diff_t_cat(l):\n",
    "    if l < 1.5:\n",
    "        return -0.5\n",
    "    elif l >= 1.5 and l <= 3.0:\n",
    "        return -0.75\n",
    "    elif l > 3.0:\n",
    "        return -1\n",
    "    else:\n",
    "        return -1"
   ]
  },
  {
   "cell_type": "code",
   "execution_count": 289,
   "metadata": {},
   "outputs": [],
   "source": [
    "#new columns for 'diff_temp_score'\n",
    "calculation_table_new['diff_temp_score'] = calculation_table_new['diff_t_max'].apply(diff_t_cat)"
   ]
  },
  {
   "cell_type": "code",
   "execution_count": null,
   "metadata": {},
   "outputs": [],
   "source": [
    "#calculation_table.info()"
   ]
  },
  {
   "cell_type": "code",
   "execution_count": 290,
   "metadata": {},
   "outputs": [],
   "source": [
    "#categorizing hitzevertraeglichkeit_werte values for 0,1,2 to values between 0 and 1, nans as 0\n",
    "def heat_tol(v):\n",
    "    if v == 0:\n",
    "        return 0\n",
    "    elif v == 1:\n",
    "        return 0.5\n",
    "    elif v == 2:\n",
    "        return 1\n",
    "    else:\n",
    "        return 0"
   ]
  },
  {
   "cell_type": "code",
   "execution_count": 291,
   "metadata": {},
   "outputs": [],
   "source": [
    "#new columns for 'heat_tol_score' -- heattolerance\n",
    "calculation_table_new['heat_tol_score'] = calculation_table_new['hitzevertraeglichkeit_werte'].apply(heat_tol)"
   ]
  },
  {
   "cell_type": "code",
   "execution_count": null,
   "metadata": {},
   "outputs": [],
   "source": [
    "#calculation_table.info()"
   ]
  },
  {
   "cell_type": "code",
   "execution_count": null,
   "metadata": {},
   "outputs": [],
   "source": [
    "# exporting current state to save df\n",
    "# calculation_table.to_csv('data/cleaned/calc_table_stand_13_43_4_sep.csv')"
   ]
  },
  {
   "cell_type": "code",
   "execution_count": 293,
   "metadata": {},
   "outputs": [
    {
     "data": {
      "text/plain": [
       "array([0. , 0.5, 1. ])"
      ]
     },
     "metadata": {},
     "output_type": "display_data"
    },
    {
     "data": {
      "text/plain": [
       "array([-1])"
      ]
     },
     "metadata": {},
     "output_type": "display_data"
    }
   ],
   "source": [
    "display(calculation_table_new['heat_tol_score'].unique())\n",
    "display(calculation_table_new['diff_temp_score'].unique())"
   ]
  },
  {
   "cell_type": "code",
   "execution_count": 294,
   "metadata": {},
   "outputs": [],
   "source": [
    "# calculating risk score depending on the trees ability to resist higher temperatures \n",
    "# heat_tol_score--> x\n",
    "# diff_temp_score --> y\n",
    "# setting -0.25 as default risk score when NaN \n",
    "def heat_sc(x, y):\n",
    "    if (x+y) >= 0:\n",
    "        return 0\n",
    "    elif (x+y) == -1:\n",
    "        return -1\n",
    "    elif (x+y) == -0.75:\n",
    "        return -0.75\n",
    "    elif (x+y) == -0.5:\n",
    "        return -0.5\n",
    "    elif (x+y) == -0.25:\n",
    "        return -0.25\n",
    "    else:\n",
    "        return"
   ]
  },
  {
   "cell_type": "code",
   "execution_count": 295,
   "metadata": {},
   "outputs": [],
   "source": [
    "#calculation heat risk score as temp_risk_score\n",
    "calculation_table_new['temp_risk_score']=calculation_table_new.apply(lambda x : heat_sc(x['heat_tol_score'], x['diff_temp_score']) , axis=1)"
   ]
  },
  {
   "cell_type": "code",
   "execution_count": 296,
   "metadata": {},
   "outputs": [
    {
     "data": {
      "text/plain": [
       "<AxesSubplot:ylabel='Frequency'>"
      ]
     },
     "execution_count": 296,
     "metadata": {},
     "output_type": "execute_result"
    },
    {
     "data": {
      "image/png": "[encoded data removed]",
      "text/plain": [
       "<Figure size 432x288 with 1 Axes>"
      ]
     },
     "metadata": {
      "needs_background": "light"
     },
     "output_type": "display_data"
    }
   ],
   "source": [
    "calculation_table_new['temp_risk_score'].plot(kind='hist')"
   ]
  },
  {
   "cell_type": "code",
   "execution_count": 297,
   "metadata": {},
   "outputs": [],
   "source": [
    "calculation_table_new['temp_risk_score'] = calculation_table_new['temp_risk_score']*-1"
   ]
  },
  {
   "cell_type": "code",
   "execution_count": 298,
   "metadata": {},
   "outputs": [],
   "source": [
    "calculation_table_new['temp_risk_score'] = calculation_table_new['temp_risk_score'].replace(-0.0,0.0)"
   ]
  },
  {
   "cell_type": "markdown",
   "metadata": {},
   "source": [
    "IDEA use dummy variables for sealing typ 1/2"
   ]
  },
  {
   "cell_type": "code",
   "execution_count": 299,
   "metadata": {},
   "outputs": [],
   "source": [
    "#to do: automatize this so you only need to add the columns to the list or something\n",
    "#MASSIVE TO DO DEFAULT VALUES FOR NAN IN DRGHT_RISK AND WTLGG_RISK\n",
    "\n",
    "#risk items so far\n",
    "# drght_risk\n",
    "# wtlgg_risk\n",
    "# nut_risk\n",
    "# comp_risk_score \n",
    "# seal_risk_score (we need to look at this one again)\n",
    "\n",
    "\n",
    "risk_items = ['drght_risk','wtlgg_risk_norm', 'nut_risk_norm', 'comp_risk_score_norm' 'seal_risk_score', 'temp_risk_score']\n",
    "calculation_table_new['risk_score'] = (calculation_table_new['drght_risk'] + \n",
    "                                    calculation_table_new['wtlgg_risk_norm'] + \n",
    "                                    calculation_table_new['nut_risk_norm'] +\n",
    "                                    calculation_table_new['comp_risk_score_norm'] +\n",
    "                                    calculation_table_new['seal_risk_score'] +\n",
    "                                    calculation_table_new['temp_risk_score']\n",
    "                                    )/(len(risk_items))"
   ]
  },
  {
   "cell_type": "code",
   "execution_count": null,
   "metadata": {},
   "outputs": [],
   "source": [
    "# now calculating avg temp 20 cm \n",
    "\n",
    "'''\n",
    "diff_t_soil --> difference to ljm  - we will have to code the values to match the following categories, NaNs will be coded to -1 \n",
    "<1.5 degrees C --> -0.5\n",
    "1.5-3 degrees C --> -0.75\n",
    ">3 degrees C --> -1\n",
    "NaNs will be assigned the value of -1 (max risk for NaNs)\n",
    "\n",
    "using the same resistance value as in previous item (heat risk score )\n",
    "calculation_table['heat_tol_score']\n",
    "'''"
   ]
  },
  {
   "cell_type": "code",
   "execution_count": 475,
   "metadata": {},
   "outputs": [
    {
     "data": {
      "text/plain": [
       "array([3.42, 2.3 , 4.59, 1.57])"
      ]
     },
     "execution_count": 475,
     "metadata": {},
     "output_type": "execute_result"
    }
   ],
   "source": [
    "calculation_table_new['diff_t_soil'].unique()"
   ]
  },
  {
   "cell_type": "code",
   "execution_count": 468,
   "metadata": {},
   "outputs": [],
   "source": [
    "calculation_table_new['diff_t_soil'] = calculation_table_new['diff_t_soil']*10"
   ]
  },
  {
   "cell_type": "code",
   "execution_count": 469,
   "metadata": {},
   "outputs": [
    {
     "data": {
      "text/plain": [
       "array([3.42, 2.3 , 4.59, 1.57])"
      ]
     },
     "execution_count": 469,
     "metadata": {},
     "output_type": "execute_result"
    }
   ],
   "source": [
    "calculation_table_new['diff_t_soil'].unique()"
   ]
  },
  {
   "cell_type": "code",
   "execution_count": 467,
   "metadata": {},
   "outputs": [
    {
     "data": {
      "text/plain": [
       "array([0. , 0.5, 1. ])"
      ]
     },
     "execution_count": 467,
     "metadata": {},
     "output_type": "execute_result"
    }
   ],
   "source": [
    "calculation_table_new['heat_tol_score'].unique()"
   ]
  },
  {
   "cell_type": "code",
   "execution_count": 482,
   "metadata": {},
   "outputs": [],
   "source": [
    "#categorzing diff_t_soil to a 0-1 interval\n",
    "#setting -1 as default value for NaNs\n",
    "\n",
    "def diff_t_soil(l):\n",
    "    if l < 1.5:\n",
    "        return -0.5\n",
    "    elif l >= 1.5 and l <= 3.0:\n",
    "        return -0.75\n",
    "    elif l > 3.0:\n",
    "        return -1\n",
    "    else:\n",
    "        return -1"
   ]
  },
  {
   "cell_type": "code",
   "execution_count": 470,
   "metadata": {},
   "outputs": [],
   "source": [
    "#using this instead\n",
    "#column = 'diff_t_soil'\n",
    "#calculation_table_new[column+'_norm'] = (calculation_table_new[column] - calculation_table_new[column].min()) / (calculation_table_new[column].max() - calculation_table_new[column].min())\t\n",
    "#calculation_table_new[column+'_norm'] = (calculation_table_new[column] - calculation_table_new[column].mean()) / calculation_table_new[column].std()   "
   ]
  },
  {
   "cell_type": "code",
   "execution_count": 483,
   "metadata": {},
   "outputs": [],
   "source": [
    "#new columns for 'soil_temp_cat'\n",
    "calculation_table_new['soil_temp_cat'] = calculation_table_new['diff_t_soil'].apply(diff_t_soil)"
   ]
  },
  {
   "cell_type": "code",
   "execution_count": 480,
   "metadata": {},
   "outputs": [],
   "source": [
    "calculation_table_new['soil_temp_cat'] = calculation_table_new['diff_t_soil_norm']*-1"
   ]
  },
  {
   "cell_type": "code",
   "execution_count": 484,
   "metadata": {},
   "outputs": [
    {
     "data": {
      "text/plain": [
       "<AxesSubplot:ylabel='Frequency'>"
      ]
     },
     "execution_count": 484,
     "metadata": {},
     "output_type": "execute_result"
    },
    {
     "data": {
      "image/png": "[encoded data removed]",
      "text/plain": [
       "<Figure size 432x288 with 1 Axes>"
      ]
     },
     "metadata": {
      "needs_background": "light"
     },
     "output_type": "display_data"
    }
   ],
   "source": [
    "calculation_table_new['soil_temp_cat'].plot(kind='hist')"
   ]
  },
  {
   "cell_type": "code",
   "execution_count": 485,
   "metadata": {},
   "outputs": [],
   "source": [
    "# calculating risk score depending on the trees ability to resist higher temperatures 20 cm above the ground \n",
    "# heat_tol_score--> x\n",
    "# soil_temp_cat--> y\n",
    "# setting -0.25 as default risk score when NaN \n",
    "def soil_heat_sc(x, y):\n",
    "    if (x+y) >= 0:\n",
    "        return 0\n",
    "    elif (x+y) == -1:\n",
    "        return -1\n",
    "    elif (x+y) == -0.75:\n",
    "        return -0.75\n",
    "    elif (x+y) == -0.5:\n",
    "        return -0.5\n",
    "    elif (x+y) == -0.25:\n",
    "        return -0.25\n",
    "    else:\n",
    "        return"
   ]
  },
  {
   "cell_type": "code",
   "execution_count": 486,
   "metadata": {},
   "outputs": [],
   "source": [
    "#calculation soil heat risk score as temp_risk_score\n",
    "calculation_table_new['soil_heat_risk_score']=calculation_table_new.apply(lambda x : soil_heat_sc(x['heat_tol_score'], x['soil_temp_cat']) , axis=1)"
   ]
  },
  {
   "cell_type": "code",
   "execution_count": 487,
   "metadata": {},
   "outputs": [
    {
     "data": {
      "text/plain": [
       "<AxesSubplot:ylabel='Frequency'>"
      ]
     },
     "execution_count": 487,
     "metadata": {},
     "output_type": "execute_result"
    },
    {
     "data": {
      "image/png": "[encoded data removed]",
      "text/plain": [
       "<Figure size 432x288 with 1 Axes>"
      ]
     },
     "metadata": {
      "needs_background": "light"
     },
     "output_type": "display_data"
    }
   ],
   "source": [
    "calculation_table_new['soil_heat_risk_score'].plot(kind='hist')"
   ]
  },
  {
   "cell_type": "code",
   "execution_count": 488,
   "metadata": {},
   "outputs": [],
   "source": [
    "calculation_table_new['soil_heat_risk_score'] = calculation_table_new['soil_heat_risk_score']*-1"
   ]
  },
  {
   "cell_type": "code",
   "execution_count": 489,
   "metadata": {},
   "outputs": [],
   "source": [
    "calculation_table_new['soil_heat_risk_score'] = calculation_table_new['soil_heat_risk_score'].replace(-0.0,0.0)"
   ]
  },
  {
   "cell_type": "code",
   "execution_count": 490,
   "metadata": {},
   "outputs": [
    {
     "data": {
      "text/plain": [
       "<AxesSubplot:ylabel='Frequency'>"
      ]
     },
     "execution_count": 490,
     "metadata": {},
     "output_type": "execute_result"
    },
    {
     "data": {
      "image/png": "[encoded data removed]",
      "text/plain": [
       "<Figure size 432x288 with 1 Axes>"
      ]
     },
     "metadata": {
      "needs_background": "light"
     },
     "output_type": "display_data"
    }
   ],
   "source": [
    "calculation_table_new['soil_heat_risk_score'].plot(kind='hist')"
   ]
  },
  {
   "cell_type": "code",
   "execution_count": 388,
   "metadata": {},
   "outputs": [],
   "source": [
    "\n",
    "risk_items = ['drght_risk','wtlgg_risk_norm', 'nut_risk_norm', 'comp_risk_score_norm' 'seal_risk_score', 'temp_risk_score', 'soil_heat_risk_score']\n",
    "calculation_table_new['risk_score'] = (calculation_table_new['drght_risk'] + \n",
    "                                    calculation_table_new['wtlgg_risk_norm'] + \n",
    "                                    calculation_table_new['nut_risk_norm'] +\n",
    "                                    calculation_table_new['comp_risk_score_norm'] +\n",
    "                                    calculation_table_new['seal_risk_score'] +\n",
    "                                    calculation_table_new['temp_risk_score'] +\n",
    "                                    calculation_table_new['soil_heat_risk_score']\n",
    "                                    )/(len(risk_items))"
   ]
  },
  {
   "cell_type": "code",
   "execution_count": null,
   "metadata": {},
   "outputs": [],
   "source": [
    "#calculatig ph \n",
    "#when ph_soil is in inteval ph min ph max \n",
    "#pH-milieu_sensibel_werte --> tolerance values of trees 0/1"
   ]
  },
  {
   "cell_type": "code",
   "execution_count": 318,
   "metadata": {},
   "outputs": [
    {
     "data": {
      "text/plain": [
       "0         1.0\n",
       "1         NaN\n",
       "2         NaN\n",
       "3         NaN\n",
       "4         NaN\n",
       "         ... \n",
       "801233    1.0\n",
       "801234    1.0\n",
       "801235    1.0\n",
       "801236    1.0\n",
       "801237    1.0\n",
       "Name: pH-milieu_sensibel_werte, Length: 801238, dtype: float64"
      ]
     },
     "execution_count": 318,
     "metadata": {},
     "output_type": "execute_result"
    }
   ],
   "source": [
    "calculation_table_new['pH-milieu_sensibel_werte']"
   ]
  },
  {
   "cell_type": "code",
   "execution_count": 319,
   "metadata": {},
   "outputs": [],
   "source": [
    "#setting NaNs to 1 \n",
    "calculation_table_new['pH-milieu_sensibel_werte'] = calculation_table_new['pH-milieu_sensibel_werte'].fillna(1)"
   ]
  },
  {
   "cell_type": "code",
   "execution_count": 320,
   "metadata": {},
   "outputs": [],
   "source": [
    "calculation_table_new['pH-milieu_sensibel_werte'] = calculation_table_new['pH-milieu_sensibel_werte'].astype(int)"
   ]
  },
  {
   "cell_type": "code",
   "execution_count": 321,
   "metadata": {},
   "outputs": [
    {
     "data": {
      "text/plain": [
       "1    731656\n",
       "0     69582\n",
       "Name: pH-milieu_sensibel_werte, dtype: int64"
      ]
     },
     "execution_count": 321,
     "metadata": {},
     "output_type": "execute_result"
    }
   ],
   "source": [
    "calculation_table_new['pH-milieu_sensibel_werte'].value_counts()"
   ]
  },
  {
   "cell_type": "code",
   "execution_count": null,
   "metadata": {},
   "outputs": [],
   "source": [
    "#export df \n",
    "#calculation_table.to_csv('data/cleaned/calc_table_stand_17_23_4_sep.csv')"
   ]
  },
  {
   "cell_type": "code",
   "execution_count": null,
   "metadata": {},
   "outputs": [],
   "source": [
    "#calculation_table['pH_min'] = calculation_table['pH_min'].astype(float)\n",
    "#calculation_table['pH_max'] = calculation_table['pH_max'].astype(float)\n",
    "#calculation_table['ph_inteval'] = pd.Interval(calculation_table['pH_min'], calculation_table['pH_max'])\n",
    "#tried to get interval to work - didn't succeed and went with pd.between"
   ]
  },
  {
   "cell_type": "code",
   "execution_count": null,
   "metadata": {},
   "outputs": [],
   "source": [
    "# testing if it works\n",
    "# return boolean True/False  \n",
    "'''\n",
    "test['test']= calculation_table['ph_soil'].between(calculation_table['pH_min'], calculation_table['pH_max'], inclusive=\"both\") #alterntive , inclusive=\"neither\"\n",
    "\n",
    "\tph_soil\tpH_min\tpH_max\n",
    "0\t7.0\t4.0\t7.0\n",
    "1\t7.0\t6.0\t8.0\n",
    "2\t7.0\t6.0\t8.0\n",
    "3\t7.0\t6.0\t8.0\n",
    "4\t7.0\t6.0\t8.0\n",
    "...\t...\t...\t...\n",
    "801281\t4.5\t3.0\t8.0\n",
    "801282\t4.5\t6.0\t8.0\n",
    "801283\t4.5\t6.0\t8.0\n",
    "801284\t4.5\t4.0\t7.0\n",
    "801285\t4.5\t3.0\t8.0\n",
    "'''\n",
    "\n",
    "'''\n",
    "0          True\n",
    "1          True\n",
    "2          True\n",
    "3          True\n",
    "4          True\n",
    "          ...  \n",
    "801281     True\n",
    "801282    False\n",
    "801283    False\n",
    "801284     True\n",
    "801285     True\n",
    "'''"
   ]
  },
  {
   "cell_type": "code",
   "execution_count": 323,
   "metadata": {},
   "outputs": [],
   "source": [
    "calculation_table_new['pH_int_check'] = calculation_table_new['ph_soil'].between(calculation_table_new['pH_min'], calculation_table_new['pH_max'], inclusive=\"both\")"
   ]
  },
  {
   "cell_type": "code",
   "execution_count": 325,
   "metadata": {},
   "outputs": [
    {
     "data": {
      "text/plain": [
       "True     548161\n",
       "False    253077\n",
       "Name: pH_int_check, dtype: int64"
      ]
     },
     "execution_count": 325,
     "metadata": {},
     "output_type": "execute_result"
    }
   ],
   "source": [
    "calculation_table_new['pH_int_check'].value_counts()"
   ]
  },
  {
   "cell_type": "code",
   "execution_count": null,
   "metadata": {},
   "outputs": [],
   "source": [
    "'''pH-milieu_sensibel_werte = 1 --> sensibel / 0 --> not sensible \n",
    "IF pH_int_check = True --> tree is standing in soil within the required pH-interval\n",
    "IF pH_int_check = False --> tree not standing in soil within the required pH-interval\n",
    "\n",
    "IF pH_int_check = True AND pH-milieu_sensibel_werte = 1 OR pH-milieu_sensibel_werte = 0 --> risk = 0\n",
    "IF pH_int_check = False AND pH-milieu_sensibel_werte = 1 --> risk = -1 (bad)\n",
    "IF pH_int_check = False AND pH-milieu_sensibel_werte = 0 --> risk = 0 (no risk)\n",
    "'''\n"
   ]
  },
  {
   "cell_type": "code",
   "execution_count": 326,
   "metadata": {},
   "outputs": [],
   "source": [
    "# calculating risk score depending on the trees ability to resist soil pH levels outside their pH tolerance interval \n",
    "# pH-milieu_sensibel_werte 1 --> sensible / 0 --> not sensible --> x \n",
    "# pH_int_check--> True/False if in interval -->y \n",
    "# setting -0.25 as default risk score when NaN \n",
    "def pH_sc(x, y):\n",
    "    if x==1 and y==True:\n",
    "        return 0\n",
    "    elif x==0 and y==True:\n",
    "        return 0\n",
    "    elif x==1 and y==False:\n",
    "        return 1\n",
    "    elif x==0 and y==False:\n",
    "        return 0\n",
    "    else:\n",
    "        return"
   ]
  },
  {
   "cell_type": "code",
   "execution_count": 327,
   "metadata": {},
   "outputs": [],
   "source": [
    "#calculation soil pH risk score as pH_risk\n",
    "calculation_table_new['pH_risk']=calculation_table_new.apply(lambda x : pH_sc(x['pH-milieu_sensibel_werte'], x['pH_int_check']) , axis=1)"
   ]
  },
  {
   "cell_type": "code",
   "execution_count": null,
   "metadata": {},
   "outputs": [],
   "source": [
    "#calculation_table[['pH_min','pH_max','ph_soil','pH-milieu_sensibel_werte','pH_int_check', 'pH_risk']].tail(50)"
   ]
  },
  {
   "cell_type": "code",
   "execution_count": null,
   "metadata": {},
   "outputs": [],
   "source": [
    "#TODO check if the intervals in the future Tree table are correct -- we changed the 8/5 mixup are there other problems?"
   ]
  },
  {
   "cell_type": "code",
   "execution_count": null,
   "metadata": {},
   "outputs": [],
   "source": [
    "#before adding pH_risk\n",
    "#calculation_table['risk_factor'].mean()\n",
    "#-0.325259874432153"
   ]
  },
  {
   "cell_type": "code",
   "execution_count": 328,
   "metadata": {},
   "outputs": [
    {
     "data": {
      "text/plain": [
       "0.31154801308147306"
      ]
     },
     "execution_count": 328,
     "metadata": {},
     "output_type": "execute_result"
    }
   ],
   "source": [
    "#before adding pH_risk\n",
    "#calculation_table_new['risk_score'].mean()\n",
    "#0.31154801308147306"
   ]
  },
  {
   "cell_type": "code",
   "execution_count": 389,
   "metadata": {},
   "outputs": [],
   "source": [
    "risk_items = ['drght_risk','wtlgg_risk_norm', 'nut_risk_norm', 'comp_risk_score_norm' 'seal_risk_score', 'temp_risk_score', 'soil_heat_risk_score','pH_risk']\n",
    "calculation_table_new['risk_score'] = (calculation_table_new['drght_risk'] + \n",
    "                                    calculation_table_new['wtlgg_risk_norm'] + \n",
    "                                    calculation_table_new['nut_risk_norm'] +\n",
    "                                    calculation_table_new['comp_risk_score_norm'] +\n",
    "                                    calculation_table_new['seal_risk_score'] +\n",
    "                                    calculation_table_new['temp_risk_score'] +\n",
    "                                    calculation_table_new['soil_heat_risk_score']+\n",
    "                                    calculation_table_new['pH_risk']\n",
    "                                    )/(len(risk_items))"
   ]
  },
  {
   "cell_type": "code",
   "execution_count": null,
   "metadata": {},
   "outputs": [],
   "source": [
    "#after adding pH_risk\n",
    "#calculation_table['risk_factor'].mean()\n",
    "#-0.299826869481912\n",
    "calculation_table['risk_factor'].sort_values(ascending=False).value_counts().head(50)"
   ]
  },
  {
   "cell_type": "code",
   "execution_count": 390,
   "metadata": {},
   "outputs": [
    {
     "data": {
      "text/plain": [
       "0.29142582220974117"
      ]
     },
     "execution_count": 390,
     "metadata": {},
     "output_type": "execute_result"
    }
   ],
   "source": [
    "calculation_table_new['risk_score'].mean()"
   ]
  },
  {
   "cell_type": "code",
   "execution_count": null,
   "metadata": {},
   "outputs": [],
   "source": [
    "\n",
    "calculation_table['hitzeempfindlichkeit_werte'].unique()"
   ]
  },
  {
   "cell_type": "code",
   "execution_count": null,
   "metadata": {},
   "outputs": [],
   "source": [
    "calculation_table['hitzevertraeglichkeit_werte'].unique()"
   ]
  },
  {
   "cell_type": "code",
   "execution_count": null,
   "metadata": {},
   "outputs": [],
   "source": [
    "calculation_table.columns"
   ]
  },
  {
   "cell_type": "code",
   "execution_count": null,
   "metadata": {},
   "outputs": [],
   "source": [
    "calculation_table['diff_t_max'].tail(50)"
   ]
  },
  {
   "cell_type": "code",
   "execution_count": null,
   "metadata": {},
   "outputs": [],
   "source": [
    "# I dont see the point in calculation_table['hitzeempfindlichkeit_werte'] --> will calculate it anyway and assign 1 (empfindlich) to Nans\n",
    "# #new columns for 'diff_temp_score' calculation_table['diff_temp_score'] = calculation_table['diff_t_max'].apply(diff_t_cat) was calculated earlier for # temp_risk_score --> will be reused as per ollis mapping"
   ]
  },
  {
   "cell_type": "code",
   "execution_count": null,
   "metadata": {},
   "outputs": [],
   "source": [
    "calculation_table['diff_temp_score']"
   ]
  },
  {
   "cell_type": "code",
   "execution_count": 331,
   "metadata": {},
   "outputs": [],
   "source": [
    "#setting NaNs to 1 \n",
    "calculation_table_new['hitzeempfindlichkeit_werte'] = calculation_table_new['hitzeempfindlichkeit_werte'].fillna(1)"
   ]
  },
  {
   "cell_type": "code",
   "execution_count": 332,
   "metadata": {},
   "outputs": [
    {
     "data": {
      "text/plain": [
       "1.0    672874\n",
       "0.0    128364\n",
       "Name: hitzeempfindlichkeit_werte, dtype: int64"
      ]
     },
     "execution_count": 332,
     "metadata": {},
     "output_type": "execute_result"
    }
   ],
   "source": [
    "calculation_table_new['hitzeempfindlichkeit_werte'].value_counts()"
   ]
  },
  {
   "cell_type": "code",
   "execution_count": 333,
   "metadata": {},
   "outputs": [],
   "source": [
    "calculation_table_new['hitzeempfindlichkeit_werte'] = calculation_table_new['hitzeempfindlichkeit_werte'].astype(int)"
   ]
  },
  {
   "cell_type": "code",
   "execution_count": 334,
   "metadata": {},
   "outputs": [
    {
     "data": {
      "text/plain": [
       "array([0, 1])"
      ]
     },
     "execution_count": 334,
     "metadata": {},
     "output_type": "execute_result"
    }
   ],
   "source": [
    "calculation_table_new['hitzeempfindlichkeit_werte'].unique()"
   ]
  },
  {
   "cell_type": "code",
   "execution_count": null,
   "metadata": {},
   "outputs": [],
   "source": [
    "'''\n",
    "'hitzeempfindlichkeit_werte' 1 = vul 0 = not vul\n",
    "['diff_temp_score'] -0.5, -0.75, -1 \n",
    "\n",
    "'''"
   ]
  },
  {
   "cell_type": "code",
   "execution_count": null,
   "metadata": {},
   "outputs": [],
   "source": [
    "'''\n",
    "#categorzing diff_t_max to a 0-1 interval\n",
    "#setting -1 as default value for NaNs\n",
    "\n",
    "def diff_t_cat(l):\n",
    "    if l < 1.5:\n",
    "        return -0.5\n",
    "    elif l >= 1.5 and l <= 3.0:\n",
    "        return -0.75\n",
    "    elif l > 3.0:\n",
    "        return -1\n",
    "    else:\n",
    "        return -1\n",
    "'''"
   ]
  },
  {
   "cell_type": "code",
   "execution_count": null,
   "metadata": {},
   "outputs": [],
   "source": [
    "calculation_table.to_csv('data/cleaned/calc_table_stand_19_17_4_sep.csv')"
   ]
  },
  {
   "cell_type": "code",
   "execution_count": 339,
   "metadata": {},
   "outputs": [],
   "source": [
    "# calculating risk score depending on the trees vulnerability to resist higher temperatures \n",
    "# hitzeempfindlichkeit_werte--> x\n",
    "# diff_temp_score --> y\n",
    "# setting base vulnerability of -0.33 for all trees  \n",
    "def heat_vulnearbility_sc(x, y):\n",
    "    if x==1 and  y==-0.5:\n",
    "        return -0.5\n",
    "    elif x==1 and  y==-0.75:\n",
    "        return -0.75\n",
    "    elif x==1 and  y==-1:\n",
    "        return -1\n",
    "    elif x==0 and  y==-0.5:\n",
    "        return -0.4\n",
    "    elif x==0 and  y==-0.75:\n",
    "        return -0.33\n",
    "    elif x==0 and  y==-1:\n",
    "        return -0.33\n",
    "    else:\n",
    "        return"
   ]
  },
  {
   "cell_type": "code",
   "execution_count": 345,
   "metadata": {},
   "outputs": [],
   "source": [
    "#calculation heat vulnerability score\n",
    "calculation_table_new['heat_vuln_risk']=calculation_table_new.apply(lambda x : heat_vulnearbility_sc(x['hitzeempfindlichkeit_werte'], x['diff_temp_score']) , axis=1)"
   ]
  },
  {
   "cell_type": "code",
   "execution_count": 346,
   "metadata": {},
   "outputs": [
    {
     "data": {
      "text/plain": [
       "-1.00    672874\n",
       "-0.33    128364\n",
       "Name: heat_vuln_risk, dtype: int64"
      ]
     },
     "execution_count": 346,
     "metadata": {},
     "output_type": "execute_result"
    }
   ],
   "source": [
    "calculation_table_new['heat_vuln_risk'].value_counts()"
   ]
  },
  {
   "cell_type": "code",
   "execution_count": 350,
   "metadata": {},
   "outputs": [],
   "source": [
    "calculation_table_new['heat_vuln_risk'] = calculation_table_new['heat_vuln_risk']*-1"
   ]
  },
  {
   "cell_type": "code",
   "execution_count": 351,
   "metadata": {},
   "outputs": [
    {
     "data": {
      "text/plain": [
       "<AxesSubplot:ylabel='Frequency'>"
      ]
     },
     "execution_count": 351,
     "metadata": {},
     "output_type": "execute_result"
    },
    {
     "data": {
      "image/png": "[encoded data removed]",
      "text/plain": [
       "<Figure size 432x288 with 1 Axes>"
      ]
     },
     "metadata": {
      "needs_background": "light"
     },
     "output_type": "display_data"
    }
   ],
   "source": [
    "calculation_table_new['heat_vuln_risk'].plot(kind='hist')"
   ]
  },
  {
   "cell_type": "code",
   "execution_count": 352,
   "metadata": {},
   "outputs": [],
   "source": [
    "column = 'heat_vuln_risk'\n",
    "calculation_table_new[column+'_norm'] = (calculation_table_new[column] - calculation_table_new[column].min()) / (calculation_table_new[column].max() - calculation_table_new[column].min())\t\n",
    "#calculation_table_new[column+'_norm'] = (calculation_table_new[column] - calculation_table_new[column].mean()) / calculation_table_new[column].std()   "
   ]
  },
  {
   "cell_type": "code",
   "execution_count": 353,
   "metadata": {},
   "outputs": [
    {
     "data": {
      "text/plain": [
       "<AxesSubplot:ylabel='Frequency'>"
      ]
     },
     "execution_count": 353,
     "metadata": {},
     "output_type": "execute_result"
    },
    {
     "data": {
      "image/png": "[encoded data removed]",
      "text/plain": [
       "<Figure size 432x288 with 1 Axes>"
      ]
     },
     "metadata": {
      "needs_background": "light"
     },
     "output_type": "display_data"
    }
   ],
   "source": [
    "calculation_table_new['heat_vuln_risk_norm'].plot(kind='hist')"
   ]
  },
  {
   "cell_type": "code",
   "execution_count": 355,
   "metadata": {},
   "outputs": [
    {
     "data": {
      "text/plain": [
       "array([0., 1.])"
      ]
     },
     "execution_count": 355,
     "metadata": {},
     "output_type": "execute_result"
    }
   ],
   "source": [
    "calculation_table_new['heat_vuln_risk_norm'].unique()"
   ]
  },
  {
   "cell_type": "code",
   "execution_count": 391,
   "metadata": {},
   "outputs": [],
   "source": [
    "\n",
    "\n",
    "\n",
    "risk_items = [  'drght_risk',\n",
    "                'wtlgg_risk_norm', \n",
    "                'nut_risk_norm', \n",
    "                'comp_risk_score_norm', \n",
    "                'seal_risk_score', \n",
    "                'temp_risk_score', \n",
    "                'soil_heat_risk_score', \n",
    "                'pH_risk', \n",
    "                'heat_vuln_risk_norm']\n",
    "\n",
    "calculation_table_new['risk_score'] = (calculation_table_new['drght_risk'] + \n",
    "                                    calculation_table_new['wtlgg_risk_norm'] + \n",
    "                                    calculation_table_new['nut_risk_norm'] +\n",
    "                                    calculation_table_new['comp_risk_score_norm'] +\n",
    "                                    calculation_table_new['seal_risk_score'] +\n",
    "                                    calculation_table_new['temp_risk_score'] +\n",
    "                                    calculation_table_new['soil_heat_risk_score'] +\n",
    "                                    calculation_table_new['pH_risk'] +\n",
    "                                    calculation_table_new['heat_vuln_risk_norm']\n",
    "                                    )/(len(risk_items))\n",
    "\n"
   ]
  },
  {
   "cell_type": "code",
   "execution_count": 359,
   "metadata": {},
   "outputs": [
    {
     "data": {
      "text/plain": [
       "0.222222    70350\n",
       "0.166667    34480\n",
       "0.388889    28109\n",
       "0.138889    26728\n",
       "0.277778    25577\n",
       "            ...  \n",
       "0.278889        1\n",
       "0.721393        1\n",
       "0.665837        1\n",
       "0.073889        1\n",
       "0.685556        1\n",
       "Name: risk_score, Length: 200, dtype: int64"
      ]
     },
     "execution_count": 359,
     "metadata": {},
     "output_type": "execute_result"
    }
   ],
   "source": [
    "calculation_table_new['risk_score'].value_counts()\n",
    "#mean = -0.36622490513636535\n",
    "#min = -0.7777777777777778\n",
    "#mode = -0.222222"
   ]
  },
  {
   "cell_type": "code",
   "execution_count": null,
   "metadata": {},
   "outputs": [],
   "source": [
    "calculation_table.columns.sort_values()"
   ]
  },
  {
   "cell_type": "code",
   "execution_count": null,
   "metadata": {},
   "outputs": [],
   "source": [
    "#now calculating Anspruch an den Boden --> soil_dem\n",
    "\n"
   ]
  },
  {
   "cell_type": "code",
   "execution_count": 360,
   "metadata": {},
   "outputs": [
    {
     "name": "stdout",
     "output_type": "stream",
     "text": [
      "<class 'pandas.core.series.Series'>\n",
      "Int64Index: 801238 entries, 0 to 801237\n",
      "Series name: anspueche_an_den_boden\n",
      "Non-Null Count   Dtype  \n",
      "--------------   -----  \n",
      "608528 non-null  float64\n",
      "dtypes: float64(1)\n",
      "memory usage: 28.4 MB\n"
     ]
    }
   ],
   "source": [
    "calculation_table_new['anspueche_an_den_boden'].info()\n",
    "#801286 entries\n",
    "#608560 non-null \n",
    "#192726 null\n",
    "\n",
    "# will set null values to neutral soil demand "
   ]
  },
  {
   "cell_type": "code",
   "execution_count": null,
   "metadata": {},
   "outputs": [],
   "source": [
    "#checking for values\n",
    "calculation_table['anspueche_an_den_boden'].unique()"
   ]
  },
  {
   "cell_type": "code",
   "execution_count": 361,
   "metadata": {},
   "outputs": [],
   "source": [
    "#setting NaN to 1 --> neutral soil demand \n",
    "calculation_table_new['anspueche_an_den_boden'] = calculation_table_new['anspueche_an_den_boden'].fillna(1)"
   ]
  },
  {
   "cell_type": "code",
   "execution_count": null,
   "metadata": {},
   "outputs": [],
   "source": [
    "'''\n",
    "Berlin hat bloeden Boden, immer schlecht, Bro.\n",
    "'''\n",
    "# Therefore \n",
    "#if anspueche_an_den_boden = 0 --> low demand --> risk score --> soil_dem = 0\n",
    "#if anspueche_an_den_boden = 1 --> neutral demand --> risk score --> soil_dem -0.5\n",
    "#if anspueche_an_den_boden = 2 --> low demand --> risk score --> soil_dem -1"
   ]
  },
  {
   "cell_type": "code",
   "execution_count": 363,
   "metadata": {},
   "outputs": [],
   "source": [
    "def soil_dem(x):\n",
    "    if x==0:\n",
    "        return 0\n",
    "    elif x==1:\n",
    "        return 0.5\n",
    "    elif x==2:\n",
    "        return 1\n",
    "    else:\n",
    "        return 1"
   ]
  },
  {
   "cell_type": "code",
   "execution_count": 364,
   "metadata": {},
   "outputs": [],
   "source": [
    "#calculating soil dem risk \n",
    "calculation_table_new['soil_dem_risk']=calculation_table_new.apply(lambda x : soil_dem(x['anspueche_an_den_boden']) , axis=1)"
   ]
  },
  {
   "cell_type": "code",
   "execution_count": 366,
   "metadata": {},
   "outputs": [
    {
     "data": {
      "text/plain": [
       "count    801238.000000\n",
       "mean          0.382126\n",
       "std           0.344461\n",
       "min           0.000000\n",
       "25%           0.000000\n",
       "50%           0.500000\n",
       "75%           0.500000\n",
       "max           1.000000\n",
       "Name: soil_dem_risk, dtype: float64"
      ]
     },
     "execution_count": 366,
     "metadata": {},
     "output_type": "execute_result"
    }
   ],
   "source": [
    "calculation_table_new['soil_dem_risk'].describe()"
   ]
  },
  {
   "cell_type": "code",
   "execution_count": null,
   "metadata": {},
   "outputs": [],
   "source": [
    "#before\n",
    "#calculation_table['risk_factor'].describe()\n",
    "'''\n",
    "count    459285.000000\n",
    "mean         -0.366225\n",
    "std           0.120882\n",
    "min          -0.777778\n",
    "25%          -0.454444\n",
    "50%          -0.378889\n",
    "75%          -0.277778\n",
    "max          -0.036667\n",
    "Name: risk_factor, dtype: float64\n",
    "'''"
   ]
  },
  {
   "cell_type": "code",
   "execution_count": 392,
   "metadata": {},
   "outputs": [],
   "source": [
    "risk_items = [  'drght_risk',\n",
    "                'wtlgg_risk_norm', \n",
    "                'nut_risk_norm', \n",
    "                'comp_risk_score_norm', \n",
    "                'seal_risk_score', \n",
    "                'temp_risk_score', \n",
    "                'soil_heat_risk_score', \n",
    "                'pH_risk', \n",
    "                'heat_vuln_risk_norm',\n",
    "                'soil_dem_risk']\n",
    "\n",
    "calculation_table_new['risk_score'] = (calculation_table_new['drght_risk'] + \n",
    "                                    calculation_table_new['wtlgg_risk_norm'] + \n",
    "                                    calculation_table_new['nut_risk_norm'] +\n",
    "                                    calculation_table_new['comp_risk_score_norm'] +\n",
    "                                    calculation_table_new['seal_risk_score'] +\n",
    "                                    calculation_table_new['temp_risk_score'] +\n",
    "                                    calculation_table_new['soil_heat_risk_score'] +\n",
    "                                    calculation_table_new['pH_risk'] +\n",
    "                                    calculation_table_new['heat_vuln_risk_norm'] +\n",
    "                                    calculation_table_new['soil_dem_risk']\n",
    "                                    )/(len(risk_items))\n"
   ]
  },
  {
   "cell_type": "code",
   "execution_count": null,
   "metadata": {},
   "outputs": [],
   "source": [
    "#after\n",
    "#calculation_table['risk_factor'].describe()\n",
    "'''\n",
    "count    459285.000000\n",
    "mean         -0.364497\n",
    "std           0.124785\n",
    "min          -0.784000\n",
    "25%          -0.459000\n",
    "50%          -0.375000\n",
    "75%          -0.275000\n",
    "max          -0.100000\n",
    "Name: risk_factor, dtype: float64\n",
    "'''"
   ]
  },
  {
   "cell_type": "code",
   "execution_count": null,
   "metadata": {},
   "outputs": [],
   "source": [
    "#calculation_table.to_csv('data/cleaned/calc_table_stand_19_47_4_sep.csv')"
   ]
  },
  {
   "cell_type": "code",
   "execution_count": null,
   "metadata": {},
   "outputs": [],
   "source": [
    "# Kontinentalität --> cont "
   ]
  },
  {
   "cell_type": "code",
   "execution_count": 371,
   "metadata": {},
   "outputs": [
    {
     "data": {
      "text/plain": [
       "'\\nFalse    626599\\nTrue     174687\\nName: kontinentalitaet, dtype: int64\\n'"
      ]
     },
     "execution_count": 371,
     "metadata": {},
     "output_type": "execute_result"
    }
   ],
   "source": [
    "calculation_table_new['kontinentalitaet'].isnull().value_counts()\n",
    "'''\n",
    "False    626599\n",
    "True     174687\n",
    "Name: kontinentalitaet, dtype: int64\n",
    "'''"
   ]
  },
  {
   "cell_type": "code",
   "execution_count": 372,
   "metadata": {},
   "outputs": [
    {
     "data": {
      "text/plain": [
       "4    375280\n",
       "6     83840\n",
       "2     81217\n",
       "3     32373\n",
       "x     31030\n",
       "7     14494\n",
       "5      8317\n",
       "Name: kontinentalitaet, dtype: int64"
      ]
     },
     "execution_count": 372,
     "metadata": {},
     "output_type": "execute_result"
    }
   ],
   "source": [
    "calculation_table['kontinentalitaet'].value_counts()"
   ]
  },
  {
   "cell_type": "code",
   "execution_count": null,
   "metadata": {},
   "outputs": [],
   "source": [
    "'''\n",
    "Berlin is zone 7 \n",
    "\n",
    "if 2-3(4) dann bad luck\t\t\t-1\n",
    "\n",
    "x\tegal\t\t                0\n",
    "2\tozeanisch\t\t            -1\n",
    "3\tozeanisch bis subozeanisch\t-1\t\n",
    "4\tsubozeanisch\t\t        -1\n",
    "5\tintermediär\t\t             0\n",
    "6\tsubkontinental\t\t         0    \n",
    "7\tsubkontinental bis kontinental\t\t0\n",
    "\n",
    "NaNs will be set to 99 to and be assinged a score of -0.5\n",
    "'''"
   ]
  },
  {
   "cell_type": "code",
   "execution_count": 374,
   "metadata": {},
   "outputs": [],
   "source": [
    "#NaNs set as 99\n",
    "calculation_table_new['kontinentalitaet'] = calculation_table_new['kontinentalitaet'].fillna(99)"
   ]
  },
  {
   "cell_type": "code",
   "execution_count": 375,
   "metadata": {},
   "outputs": [],
   "source": [
    "# replacing x with 98\n",
    "calculation_table_new['kontinentalitaet'] = calculation_table_new['kontinentalitaet'].replace('x',98)"
   ]
  },
  {
   "cell_type": "code",
   "execution_count": 376,
   "metadata": {},
   "outputs": [
    {
     "data": {
      "text/plain": [
       "array(['4', 99, '6', '2', '3', 98, '7', '5'], dtype=object)"
      ]
     },
     "execution_count": 376,
     "metadata": {},
     "output_type": "execute_result"
    }
   ],
   "source": [
    "calculation_table_new['kontinentalitaet'].unique()"
   ]
  },
  {
   "cell_type": "code",
   "execution_count": null,
   "metadata": {},
   "outputs": [],
   "source": [
    "#type(calculation_table['kontinentalitaet'])\n",
    "#pandas.core.series.Series"
   ]
  },
  {
   "cell_type": "code",
   "execution_count": 377,
   "metadata": {},
   "outputs": [],
   "source": [
    "calculation_table_new['kontinentalitaet'] = calculation_table_new['kontinentalitaet'].astype(int)"
   ]
  },
  {
   "cell_type": "code",
   "execution_count": 378,
   "metadata": {},
   "outputs": [],
   "source": [
    "def cont_sc(x):\n",
    "    if x==98:\n",
    "        return 0\n",
    "    elif x==2:\n",
    "        return -1\n",
    "    elif x==3:\n",
    "        return -1\n",
    "    elif x==4:\n",
    "        return -1\n",
    "    elif x==5:\n",
    "        return 0\n",
    "    elif x== 6:\n",
    "        return 0\n",
    "    elif x==7:\n",
    "        return 0\n",
    "    elif x==99:\n",
    "        return -0.5\n",
    "    else:\n",
    "        return"
   ]
  },
  {
   "cell_type": "code",
   "execution_count": 379,
   "metadata": {},
   "outputs": [],
   "source": [
    "#calculation cont_risk score\n",
    "calculation_table_new['cont_risk']=calculation_table_new.apply(lambda x : cont_sc(x['kontinentalitaet']) , axis=1)"
   ]
  },
  {
   "cell_type": "code",
   "execution_count": 382,
   "metadata": {},
   "outputs": [],
   "source": [
    "calculation_table_new['cont_risk']=calculation_table_new['cont_risk']*-1"
   ]
  },
  {
   "cell_type": "code",
   "execution_count": 384,
   "metadata": {},
   "outputs": [],
   "source": [
    "calculation_table_new['cont_risk']=calculation_table_new['cont_risk'].replace(-0.0,0.0)"
   ]
  },
  {
   "cell_type": "code",
   "execution_count": 385,
   "metadata": {},
   "outputs": [
    {
     "data": {
      "text/plain": [
       "count    801238.000000\n",
       "mean          0.719154\n",
       "std           0.384014\n",
       "min           0.000000\n",
       "25%           0.500000\n",
       "50%           1.000000\n",
       "75%           1.000000\n",
       "max           1.000000\n",
       "Name: cont_risk, dtype: float64"
      ]
     },
     "execution_count": 385,
     "metadata": {},
     "output_type": "execute_result"
    }
   ],
   "source": [
    "calculation_table_new['cont_risk'].describe()"
   ]
  },
  {
   "cell_type": "code",
   "execution_count": 393,
   "metadata": {},
   "outputs": [
    {
     "data": {
      "text/html": [
       "<div>\n",
       "<style scoped>\n",
       "    .dataframe tbody tr th:only-of-type {\n",
       "        vertical-align: middle;\n",
       "    }\n",
       "\n",
       "    .dataframe tbody tr th {\n",
       "        vertical-align: top;\n",
       "    }\n",
       "\n",
       "    .dataframe thead th {\n",
       "        text-align: right;\n",
       "    }\n",
       "</style>\n",
       "<table border=\"1\" class=\"dataframe\">\n",
       "  <thead>\n",
       "    <tr style=\"text-align: right;\">\n",
       "      <th></th>\n",
       "      <th>baum_id</th>\n",
       "      <th>lor_id</th>\n",
       "      <th>gw_id</th>\n",
       "      <th>boden_id</th>\n",
       "      <th>wetter_id</th>\n",
       "      <th>soil_id</th>\n",
       "      <th>rain_id</th>\n",
       "      <th>fl_abs</th>\n",
       "      <th>art_bot</th>\n",
       "      <th>kontinentalitaet</th>\n",
       "      <th>...</th>\n",
       "      <th>temp_risk_score</th>\n",
       "      <th>diff_t_soil_norm</th>\n",
       "      <th>soil_temp_cat</th>\n",
       "      <th>soil_heat_risk_score</th>\n",
       "      <th>pH_int_check</th>\n",
       "      <th>pH_risk</th>\n",
       "      <th>heat_vuln_risk</th>\n",
       "      <th>heat_vuln_risk_norm</th>\n",
       "      <th>soil_dem_risk</th>\n",
       "      <th>cont_risk</th>\n",
       "    </tr>\n",
       "  </thead>\n",
       "  <tbody>\n",
       "    <tr>\n",
       "      <th>801223</th>\n",
       "      <td>00008100:002db183</td>\n",
       "      <td>309</td>\n",
       "      <td>6010</td>\n",
       "      <td>B0300082301000000</td>\n",
       "      <td>430</td>\n",
       "      <td>430</td>\n",
       "      <td>433</td>\n",
       "      <td>NaN</td>\n",
       "      <td>acer platanoides</td>\n",
       "      <td>4</td>\n",
       "      <td>...</td>\n",
       "      <td>0.5</td>\n",
       "      <td>0.000000</td>\n",
       "      <td>-0.000000</td>\n",
       "      <td>0.0</td>\n",
       "      <td>True</td>\n",
       "      <td>0</td>\n",
       "      <td>1.00</td>\n",
       "      <td>1.0</td>\n",
       "      <td>0.0</td>\n",
       "      <td>1.0</td>\n",
       "    </tr>\n",
       "    <tr>\n",
       "      <th>801224</th>\n",
       "      <td>00008100:002db184</td>\n",
       "      <td>309</td>\n",
       "      <td>6010</td>\n",
       "      <td>B0300082301000000</td>\n",
       "      <td>430</td>\n",
       "      <td>430</td>\n",
       "      <td>433</td>\n",
       "      <td>NaN</td>\n",
       "      <td>malus domestica</td>\n",
       "      <td>4</td>\n",
       "      <td>...</td>\n",
       "      <td>1.0</td>\n",
       "      <td>0.000000</td>\n",
       "      <td>-0.000000</td>\n",
       "      <td>0.0</td>\n",
       "      <td>True</td>\n",
       "      <td>0</td>\n",
       "      <td>0.33</td>\n",
       "      <td>0.0</td>\n",
       "      <td>0.5</td>\n",
       "      <td>1.0</td>\n",
       "    </tr>\n",
       "    <tr>\n",
       "      <th>801225</th>\n",
       "      <td>00008100:002db185</td>\n",
       "      <td>309</td>\n",
       "      <td>6010</td>\n",
       "      <td>B0300082301000000</td>\n",
       "      <td>430</td>\n",
       "      <td>430</td>\n",
       "      <td>433</td>\n",
       "      <td>NaN</td>\n",
       "      <td>acer platanoides</td>\n",
       "      <td>4</td>\n",
       "      <td>...</td>\n",
       "      <td>0.5</td>\n",
       "      <td>0.000000</td>\n",
       "      <td>-0.000000</td>\n",
       "      <td>0.0</td>\n",
       "      <td>True</td>\n",
       "      <td>0</td>\n",
       "      <td>1.00</td>\n",
       "      <td>1.0</td>\n",
       "      <td>0.0</td>\n",
       "      <td>1.0</td>\n",
       "    </tr>\n",
       "    <tr>\n",
       "      <th>801226</th>\n",
       "      <td>00008100:002db186</td>\n",
       "      <td>309</td>\n",
       "      <td>6010</td>\n",
       "      <td>B0300082301000000</td>\n",
       "      <td>430</td>\n",
       "      <td>430</td>\n",
       "      <td>433</td>\n",
       "      <td>NaN</td>\n",
       "      <td>acer platanoides</td>\n",
       "      <td>4</td>\n",
       "      <td>...</td>\n",
       "      <td>0.5</td>\n",
       "      <td>0.000000</td>\n",
       "      <td>-0.000000</td>\n",
       "      <td>0.0</td>\n",
       "      <td>True</td>\n",
       "      <td>0</td>\n",
       "      <td>1.00</td>\n",
       "      <td>1.0</td>\n",
       "      <td>0.0</td>\n",
       "      <td>1.0</td>\n",
       "    </tr>\n",
       "    <tr>\n",
       "      <th>801227</th>\n",
       "      <td>00008100:002db187</td>\n",
       "      <td>309</td>\n",
       "      <td>6010</td>\n",
       "      <td>B0300082301000000</td>\n",
       "      <td>430</td>\n",
       "      <td>430</td>\n",
       "      <td>433</td>\n",
       "      <td>NaN</td>\n",
       "      <td>acer platanoides</td>\n",
       "      <td>4</td>\n",
       "      <td>...</td>\n",
       "      <td>0.5</td>\n",
       "      <td>0.000000</td>\n",
       "      <td>-0.000000</td>\n",
       "      <td>0.0</td>\n",
       "      <td>True</td>\n",
       "      <td>0</td>\n",
       "      <td>1.00</td>\n",
       "      <td>1.0</td>\n",
       "      <td>0.0</td>\n",
       "      <td>1.0</td>\n",
       "    </tr>\n",
       "    <tr>\n",
       "      <th>801228</th>\n",
       "      <td>00008100:002db196</td>\n",
       "      <td>184</td>\n",
       "      <td>6010</td>\n",
       "      <td>B0300091231000100</td>\n",
       "      <td>430</td>\n",
       "      <td>430</td>\n",
       "      <td>433</td>\n",
       "      <td>NaN</td>\n",
       "      <td>ulmus spec.</td>\n",
       "      <td>99</td>\n",
       "      <td>...</td>\n",
       "      <td>1.0</td>\n",
       "      <td>0.000000</td>\n",
       "      <td>-0.000000</td>\n",
       "      <td>0.0</td>\n",
       "      <td>False</td>\n",
       "      <td>1</td>\n",
       "      <td>1.00</td>\n",
       "      <td>1.0</td>\n",
       "      <td>0.5</td>\n",
       "      <td>0.5</td>\n",
       "    </tr>\n",
       "    <tr>\n",
       "      <th>801229</th>\n",
       "      <td>00008100:002db197</td>\n",
       "      <td>184</td>\n",
       "      <td>6010</td>\n",
       "      <td>B0300091231000100</td>\n",
       "      <td>430</td>\n",
       "      <td>430</td>\n",
       "      <td>433</td>\n",
       "      <td>NaN</td>\n",
       "      <td>ulmus spec.</td>\n",
       "      <td>99</td>\n",
       "      <td>...</td>\n",
       "      <td>1.0</td>\n",
       "      <td>0.000000</td>\n",
       "      <td>-0.000000</td>\n",
       "      <td>0.0</td>\n",
       "      <td>False</td>\n",
       "      <td>1</td>\n",
       "      <td>1.00</td>\n",
       "      <td>1.0</td>\n",
       "      <td>0.5</td>\n",
       "      <td>0.5</td>\n",
       "    </tr>\n",
       "    <tr>\n",
       "      <th>801230</th>\n",
       "      <td>00008100:002db198</td>\n",
       "      <td>184</td>\n",
       "      <td>6010</td>\n",
       "      <td>B0300091231000100</td>\n",
       "      <td>430</td>\n",
       "      <td>430</td>\n",
       "      <td>433</td>\n",
       "      <td>NaN</td>\n",
       "      <td>tilia cordata</td>\n",
       "      <td>4</td>\n",
       "      <td>...</td>\n",
       "      <td>0.5</td>\n",
       "      <td>0.000000</td>\n",
       "      <td>-0.000000</td>\n",
       "      <td>0.0</td>\n",
       "      <td>True</td>\n",
       "      <td>0</td>\n",
       "      <td>1.00</td>\n",
       "      <td>1.0</td>\n",
       "      <td>0.5</td>\n",
       "      <td>1.0</td>\n",
       "    </tr>\n",
       "    <tr>\n",
       "      <th>801231</th>\n",
       "      <td>00008100:002db63e</td>\n",
       "      <td>309</td>\n",
       "      <td>6010</td>\n",
       "      <td>B0300089051000300</td>\n",
       "      <td>430</td>\n",
       "      <td>430</td>\n",
       "      <td>433</td>\n",
       "      <td>NaN</td>\n",
       "      <td>robinia pseudoacacia</td>\n",
       "      <td>4</td>\n",
       "      <td>...</td>\n",
       "      <td>0.0</td>\n",
       "      <td>0.000000</td>\n",
       "      <td>-0.000000</td>\n",
       "      <td>0.0</td>\n",
       "      <td>True</td>\n",
       "      <td>0</td>\n",
       "      <td>1.00</td>\n",
       "      <td>1.0</td>\n",
       "      <td>0.0</td>\n",
       "      <td>1.0</td>\n",
       "    </tr>\n",
       "    <tr>\n",
       "      <th>801232</th>\n",
       "      <td>00008100:002db63f</td>\n",
       "      <td>309</td>\n",
       "      <td>6010</td>\n",
       "      <td>B0300089051000300</td>\n",
       "      <td>430</td>\n",
       "      <td>430</td>\n",
       "      <td>433</td>\n",
       "      <td>NaN</td>\n",
       "      <td>acer platanoides</td>\n",
       "      <td>4</td>\n",
       "      <td>...</td>\n",
       "      <td>0.5</td>\n",
       "      <td>0.000000</td>\n",
       "      <td>-0.000000</td>\n",
       "      <td>0.0</td>\n",
       "      <td>True</td>\n",
       "      <td>0</td>\n",
       "      <td>1.00</td>\n",
       "      <td>1.0</td>\n",
       "      <td>0.0</td>\n",
       "      <td>1.0</td>\n",
       "    </tr>\n",
       "    <tr>\n",
       "      <th>801233</th>\n",
       "      <td>00008100:002db640</td>\n",
       "      <td>309</td>\n",
       "      <td>6010</td>\n",
       "      <td>B0300089051000300</td>\n",
       "      <td>430</td>\n",
       "      <td>430</td>\n",
       "      <td>433</td>\n",
       "      <td>NaN</td>\n",
       "      <td>robinia pseudoacacia</td>\n",
       "      <td>4</td>\n",
       "      <td>...</td>\n",
       "      <td>0.0</td>\n",
       "      <td>0.000000</td>\n",
       "      <td>-0.000000</td>\n",
       "      <td>0.0</td>\n",
       "      <td>True</td>\n",
       "      <td>0</td>\n",
       "      <td>1.00</td>\n",
       "      <td>1.0</td>\n",
       "      <td>0.0</td>\n",
       "      <td>1.0</td>\n",
       "    </tr>\n",
       "    <tr>\n",
       "      <th>801234</th>\n",
       "      <td>00008100:002db641</td>\n",
       "      <td>309</td>\n",
       "      <td>6010</td>\n",
       "      <td>B0300089051000300</td>\n",
       "      <td>430</td>\n",
       "      <td>430</td>\n",
       "      <td>433</td>\n",
       "      <td>NaN</td>\n",
       "      <td>acer platanoides</td>\n",
       "      <td>4</td>\n",
       "      <td>...</td>\n",
       "      <td>0.5</td>\n",
       "      <td>0.000000</td>\n",
       "      <td>-0.000000</td>\n",
       "      <td>0.0</td>\n",
       "      <td>True</td>\n",
       "      <td>0</td>\n",
       "      <td>1.00</td>\n",
       "      <td>1.0</td>\n",
       "      <td>0.0</td>\n",
       "      <td>1.0</td>\n",
       "    </tr>\n",
       "    <tr>\n",
       "      <th>801235</th>\n",
       "      <td>00008100:002db642</td>\n",
       "      <td>309</td>\n",
       "      <td>6010</td>\n",
       "      <td>B0300089051000300</td>\n",
       "      <td>430</td>\n",
       "      <td>430</td>\n",
       "      <td>433</td>\n",
       "      <td>NaN</td>\n",
       "      <td>robinia pseudoacacia</td>\n",
       "      <td>4</td>\n",
       "      <td>...</td>\n",
       "      <td>0.0</td>\n",
       "      <td>0.000000</td>\n",
       "      <td>-0.000000</td>\n",
       "      <td>0.0</td>\n",
       "      <td>True</td>\n",
       "      <td>0</td>\n",
       "      <td>1.00</td>\n",
       "      <td>1.0</td>\n",
       "      <td>0.0</td>\n",
       "      <td>1.0</td>\n",
       "    </tr>\n",
       "    <tr>\n",
       "      <th>801236</th>\n",
       "      <td>00008100:002db652</td>\n",
       "      <td>167</td>\n",
       "      <td>4013</td>\n",
       "      <td>B0800396161000200</td>\n",
       "      <td>403</td>\n",
       "      <td>403</td>\n",
       "      <td>403</td>\n",
       "      <td>14.98</td>\n",
       "      <td>quercus robur</td>\n",
       "      <td>6</td>\n",
       "      <td>...</td>\n",
       "      <td>0.5</td>\n",
       "      <td>0.241722</td>\n",
       "      <td>-0.241722</td>\n",
       "      <td>0.0</td>\n",
       "      <td>True</td>\n",
       "      <td>0</td>\n",
       "      <td>1.00</td>\n",
       "      <td>1.0</td>\n",
       "      <td>0.0</td>\n",
       "      <td>0.0</td>\n",
       "    </tr>\n",
       "    <tr>\n",
       "      <th>801237</th>\n",
       "      <td>00008100:002db653</td>\n",
       "      <td>167</td>\n",
       "      <td>4013</td>\n",
       "      <td>B0800396161000200</td>\n",
       "      <td>403</td>\n",
       "      <td>403</td>\n",
       "      <td>403</td>\n",
       "      <td>14.98</td>\n",
       "      <td>pinus sylvestris</td>\n",
       "      <td>7</td>\n",
       "      <td>...</td>\n",
       "      <td>0.0</td>\n",
       "      <td>0.241722</td>\n",
       "      <td>-0.241722</td>\n",
       "      <td>0.0</td>\n",
       "      <td>True</td>\n",
       "      <td>0</td>\n",
       "      <td>1.00</td>\n",
       "      <td>1.0</td>\n",
       "      <td>0.0</td>\n",
       "      <td>0.0</td>\n",
       "    </tr>\n",
       "  </tbody>\n",
       "</table>\n",
       "<p>15 rows × 73 columns</p>\n",
       "</div>"
      ],
      "text/plain": [
       "                  baum_id  lor_id  gw_id           boden_id  wetter_id  \\\n",
       "801223  00008100:002db183     309   6010  B0300082301000000        430   \n",
       "801224  00008100:002db184     309   6010  B0300082301000000        430   \n",
       "801225  00008100:002db185     309   6010  B0300082301000000        430   \n",
       "801226  00008100:002db186     309   6010  B0300082301000000        430   \n",
       "801227  00008100:002db187     309   6010  B0300082301000000        430   \n",
       "801228  00008100:002db196     184   6010  B0300091231000100        430   \n",
       "801229  00008100:002db197     184   6010  B0300091231000100        430   \n",
       "801230  00008100:002db198     184   6010  B0300091231000100        430   \n",
       "801231  00008100:002db63e     309   6010  B0300089051000300        430   \n",
       "801232  00008100:002db63f     309   6010  B0300089051000300        430   \n",
       "801233  00008100:002db640     309   6010  B0300089051000300        430   \n",
       "801234  00008100:002db641     309   6010  B0300089051000300        430   \n",
       "801235  00008100:002db642     309   6010  B0300089051000300        430   \n",
       "801236  00008100:002db652     167   4013  B0800396161000200        403   \n",
       "801237  00008100:002db653     167   4013  B0800396161000200        403   \n",
       "\n",
       "        soil_id  rain_id  fl_abs               art_bot  kontinentalitaet  ...  \\\n",
       "801223      430      433     NaN      acer platanoides                 4  ...   \n",
       "801224      430      433     NaN       malus domestica                 4  ...   \n",
       "801225      430      433     NaN      acer platanoides                 4  ...   \n",
       "801226      430      433     NaN      acer platanoides                 4  ...   \n",
       "801227      430      433     NaN      acer platanoides                 4  ...   \n",
       "801228      430      433     NaN           ulmus spec.                99  ...   \n",
       "801229      430      433     NaN           ulmus spec.                99  ...   \n",
       "801230      430      433     NaN         tilia cordata                 4  ...   \n",
       "801231      430      433     NaN  robinia pseudoacacia                 4  ...   \n",
       "801232      430      433     NaN      acer platanoides                 4  ...   \n",
       "801233      430      433     NaN  robinia pseudoacacia                 4  ...   \n",
       "801234      430      433     NaN      acer platanoides                 4  ...   \n",
       "801235      430      433     NaN  robinia pseudoacacia                 4  ...   \n",
       "801236      403      403   14.98         quercus robur                 6  ...   \n",
       "801237      403      403   14.98      pinus sylvestris                 7  ...   \n",
       "\n",
       "        temp_risk_score  diff_t_soil_norm  soil_temp_cat  \\\n",
       "801223              0.5          0.000000      -0.000000   \n",
       "801224              1.0          0.000000      -0.000000   \n",
       "801225              0.5          0.000000      -0.000000   \n",
       "801226              0.5          0.000000      -0.000000   \n",
       "801227              0.5          0.000000      -0.000000   \n",
       "801228              1.0          0.000000      -0.000000   \n",
       "801229              1.0          0.000000      -0.000000   \n",
       "801230              0.5          0.000000      -0.000000   \n",
       "801231              0.0          0.000000      -0.000000   \n",
       "801232              0.5          0.000000      -0.000000   \n",
       "801233              0.0          0.000000      -0.000000   \n",
       "801234              0.5          0.000000      -0.000000   \n",
       "801235              0.0          0.000000      -0.000000   \n",
       "801236              0.5          0.241722      -0.241722   \n",
       "801237              0.0          0.241722      -0.241722   \n",
       "\n",
       "        soil_heat_risk_score  pH_int_check  pH_risk  heat_vuln_risk  \\\n",
       "801223                   0.0          True        0            1.00   \n",
       "801224                   0.0          True        0            0.33   \n",
       "801225                   0.0          True        0            1.00   \n",
       "801226                   0.0          True        0            1.00   \n",
       "801227                   0.0          True        0            1.00   \n",
       "801228                   0.0         False        1            1.00   \n",
       "801229                   0.0         False        1            1.00   \n",
       "801230                   0.0          True        0            1.00   \n",
       "801231                   0.0          True        0            1.00   \n",
       "801232                   0.0          True        0            1.00   \n",
       "801233                   0.0          True        0            1.00   \n",
       "801234                   0.0          True        0            1.00   \n",
       "801235                   0.0          True        0            1.00   \n",
       "801236                   0.0          True        0            1.00   \n",
       "801237                   0.0          True        0            1.00   \n",
       "\n",
       "        heat_vuln_risk_norm  soil_dem_risk  cont_risk  \n",
       "801223                  1.0            0.0        1.0  \n",
       "801224                  0.0            0.5        1.0  \n",
       "801225                  1.0            0.0        1.0  \n",
       "801226                  1.0            0.0        1.0  \n",
       "801227                  1.0            0.0        1.0  \n",
       "801228                  1.0            0.5        0.5  \n",
       "801229                  1.0            0.5        0.5  \n",
       "801230                  1.0            0.5        1.0  \n",
       "801231                  1.0            0.0        1.0  \n",
       "801232                  1.0            0.0        1.0  \n",
       "801233                  1.0            0.0        1.0  \n",
       "801234                  1.0            0.0        1.0  \n",
       "801235                  1.0            0.0        1.0  \n",
       "801236                  1.0            0.0        0.0  \n",
       "801237                  1.0            0.0        0.0  \n",
       "\n",
       "[15 rows x 73 columns]"
      ]
     },
     "execution_count": 393,
     "metadata": {},
     "output_type": "execute_result"
    }
   ],
   "source": [
    "calculation_table_new.tail(15)"
   ]
  },
  {
   "cell_type": "code",
   "execution_count": 394,
   "metadata": {},
   "outputs": [
    {
     "data": {
      "text/plain": [
       "1.0    488870\n",
       "0.5    174687\n",
       "0.0    137681\n",
       "Name: cont_risk, dtype: int64"
      ]
     },
     "execution_count": 394,
     "metadata": {},
     "output_type": "execute_result"
    }
   ],
   "source": [
    "calculation_table_new['cont_risk'].value_counts()"
   ]
  },
  {
   "cell_type": "code",
   "execution_count": null,
   "metadata": {},
   "outputs": [],
   "source": [
    "#before\n",
    "calculation_table['risk_factor'].describe()\n",
    "'''\n",
    "count    459285.000000\n",
    "mean         -0.364497\n",
    "std           0.124785\n",
    "min          -0.784000\n",
    "25%          -0.459000\n",
    "50%          -0.375000\n",
    "75%          -0.275000\n",
    "max          -0.100000\n",
    "Name: risk_factor, dtype: float64\n",
    "'''"
   ]
  },
  {
   "cell_type": "code",
   "execution_count": 395,
   "metadata": {},
   "outputs": [],
   "source": [
    "#to do: automatize this so you only need to add the columns to the list or something\n",
    "#MASSIVE TO DO DEFAULT VALUES FOR NAN IN DRGHT_RISK AND WTLGG_RISK\n",
    "\n",
    "#risk items so far\n",
    "# drght_risk\n",
    "# wtlgg_risk\n",
    "# nut_risk\n",
    "# comp_risk_score \n",
    "# seal_risk_score (we need to look at this one again)\n",
    "# temp_risk_score\n",
    "# soil_heat_risk_score\n",
    "# pH_risk\n",
    "# heat_vuln_risk\n",
    "# soil_dem_risk\n",
    "# cont_risk\n",
    "\n",
    "\n",
    "risk_items = [  'drght_risk',\n",
    "                'wtlgg_risk_norm', \n",
    "                'nut_risk_norm', \n",
    "                'comp_risk_score_norm', \n",
    "                'seal_risk_score', \n",
    "                'temp_risk_score', \n",
    "                'soil_heat_risk_score', \n",
    "                'pH_risk', \n",
    "                'heat_vuln_risk_norm',\n",
    "                'soil_dem_risk',\n",
    "                'cont_risk']\n",
    "\n",
    "calculation_table_new['risk_score'] = (calculation_table_new['drght_risk'] + \n",
    "                                    calculation_table_new['wtlgg_risk_norm'] + \n",
    "                                    calculation_table_new['nut_risk_norm'] +\n",
    "                                    calculation_table_new['comp_risk_score_norm'] +\n",
    "                                    calculation_table_new['seal_risk_score'] +\n",
    "                                    calculation_table_new['temp_risk_score'] +\n",
    "                                    calculation_table_new['soil_heat_risk_score'] +\n",
    "                                    calculation_table_new['pH_risk'] +\n",
    "                                    calculation_table_new['heat_vuln_risk_norm'] +\n",
    "                                    calculation_table_new['soil_dem_risk']+\n",
    "                                    calculation_table_new['cont_risk']\n",
    "                                    )/(len(risk_items))\n"
   ]
  },
  {
   "cell_type": "code",
   "execution_count": 396,
   "metadata": {},
   "outputs": [
    {
     "data": {
      "text/plain": [
       "'\\ncount    459285.000000\\nmean         -0.398944\\nstd           0.117510\\nmin          -0.758182\\n25%          -0.500000\\n50%          -0.386364\\n75%          -0.332727\\nmax          -0.113636\\nName: risk_factor, dtype: float64\\n'"
      ]
     },
     "execution_count": 396,
     "metadata": {},
     "output_type": "execute_result"
    }
   ],
   "source": [
    "#after\n",
    "calculation_table_new['risk_score'].describe()\n",
    "'''\n",
    "count    459285.000000\n",
    "mean         -0.398944\n",
    "std           0.117510\n",
    "min          -0.758182\n",
    "25%          -0.500000\n",
    "50%          -0.386364\n",
    "75%          -0.332727\n",
    "max          -0.113636\n",
    "Name: risk_factor, dtype: float64\n",
    "'''"
   ]
  },
  {
   "cell_type": "code",
   "execution_count": 397,
   "metadata": {},
   "outputs": [],
   "source": [
    "calculation_table_new.to_csv('data/analysis/final/safety.csv')"
   ]
  },
  {
   "cell_type": "code",
   "execution_count": null,
   "metadata": {},
   "outputs": [],
   "source": [
    "# calculating precipitation difference jul 2020 to avg 1981-2010 --> prec_dif\n",
    "\n",
    "calculation_table.columns.sort_values()\n",
    "'''\n",
    "per_t_soil', 'perc_days_diff', 'perc_diff',\n",
    "       'perc_percentage', 'perc_percentage_days_diff'\n",
    "'''"
   ]
  },
  {
   "cell_type": "code",
   "execution_count": 415,
   "metadata": {},
   "outputs": [
    {
     "data": {
      "text/plain": [
       "array([0.04111, 0.05536, 0.04545, 0.06541, 0.0515 ])"
      ]
     },
     "execution_count": 415,
     "metadata": {},
     "output_type": "execute_result"
    }
   ],
   "source": [
    "calculation_table_new['perc_percentage'].unique()"
   ]
  },
  {
   "cell_type": "code",
   "execution_count": 399,
   "metadata": {},
   "outputs": [
    {
     "data": {
      "text/plain": [
       "-48.836505283074445"
      ]
     },
     "execution_count": 399,
     "metadata": {},
     "output_type": "execute_result"
    }
   ],
   "source": [
    "calculation_table_new['perc_percentage'].mean()\n",
    "#-47.75587462045901\n",
    "# -48.836505283074445 new\n"
   ]
  },
  {
   "cell_type": "code",
   "execution_count": 400,
   "metadata": {},
   "outputs": [
    {
     "data": {
      "text/plain": [
       "False    801238\n",
       "Name: perc_percentage, dtype: int64"
      ]
     },
     "execution_count": 400,
     "metadata": {},
     "output_type": "execute_result"
    }
   ],
   "source": [
    "calculation_table_new['perc_percentage'].isnull().value_counts()\n",
    "#False    601055\n",
    "#True     200231\n",
    "#Name: perc_percentage, dtype: int64\n",
    "\n",
    "#will use the mean as value for NaNs\n",
    "#we fixed it yay, no nans 11.09.22. 1:18"
   ]
  },
  {
   "cell_type": "code",
   "execution_count": null,
   "metadata": {},
   "outputs": [],
   "source": [
    "#calculation_table['perc_percentage'] = calculation_table['perc_percentage'].fillna(-47.76)"
   ]
  },
  {
   "cell_type": "code",
   "execution_count": null,
   "metadata": {},
   "outputs": [],
   "source": [
    "calculation_table['perc_percentage'].unique()"
   ]
  },
  {
   "cell_type": "code",
   "execution_count": 401,
   "metadata": {},
   "outputs": [],
   "source": [
    "calculation_table_new['perc_percentage'] = calculation_table_new['perc_percentage'].astype(float)"
   ]
  },
  {
   "cell_type": "code",
   "execution_count": null,
   "metadata": {},
   "outputs": [],
   "source": [
    "'''\n",
    "risk score will be calculated as follows:\n",
    "IF 0 to -25% THEN risk = -0.1\n",
    "IF -25 to -50% THEN risk = -0.5\n",
    "IF -50 to -75% THEN risk = -0.75\n",
    "IF -75 to -100% THEN risk = -1\n",
    "'''\n"
   ]
  },
  {
   "cell_type": "code",
   "execution_count": null,
   "metadata": {},
   "outputs": [],
   "source": [
    "# categorizing precipitation risk \n",
    "def prec_sc(x):\n",
    "    if x<=0 and x>-25:\n",
    "        return -0.1\n",
    "    elif x<=-25 and x>-50:\n",
    "        return -0.5\n",
    "    elif x<=-50 and x>-75:\n",
    "        return -0.75\n",
    "    elif x<=-75 and x>=-100:\n",
    "        return -1\n",
    "    else:\n",
    "        return"
   ]
  },
  {
   "cell_type": "code",
   "execution_count": 402,
   "metadata": {},
   "outputs": [
    {
     "data": {
      "text/plain": [
       "<AxesSubplot:ylabel='Frequency'>"
      ]
     },
     "execution_count": 402,
     "metadata": {},
     "output_type": "execute_result"
    },
    {
     "data": {
      "image/png": "[encoded data removed]",
      "text/plain": [
       "<Figure size 432x288 with 1 Axes>"
      ]
     },
     "metadata": {
      "needs_background": "light"
     },
     "output_type": "display_data"
    }
   ],
   "source": [
    "calculation_table_new['perc_percentage'].plot(kind='hist')"
   ]
  },
  {
   "cell_type": "code",
   "execution_count": 405,
   "metadata": {},
   "outputs": [],
   "source": [
    "calculation_table_new['perc_percentage'] = calculation_table_new['perc_percentage']*-1"
   ]
  },
  {
   "cell_type": "code",
   "execution_count": 406,
   "metadata": {},
   "outputs": [],
   "source": [
    "calculation_table_new['perc_percentage'] = calculation_table_new['perc_percentage'].replace(-0.0,0.0)"
   ]
  },
  {
   "cell_type": "code",
   "execution_count": 419,
   "metadata": {},
   "outputs": [],
   "source": [
    "calculation_table_new['perc_percentage'] = calculation_table_new['perc_percentage']/100"
   ]
  },
  {
   "cell_type": "code",
   "execution_count": 420,
   "metadata": {},
   "outputs": [
    {
     "data": {
      "text/plain": [
       "<AxesSubplot:ylabel='Frequency'>"
      ]
     },
     "execution_count": 420,
     "metadata": {},
     "output_type": "execute_result"
    },
    {
     "data": {
      "image/png": "[encoded data removed]",
      "text/plain": [
       "<Figure size 432x288 with 1 Axes>"
      ]
     },
     "metadata": {
      "needs_background": "light"
     },
     "output_type": "display_data"
    }
   ],
   "source": [
    "calculation_table_new['perc_percentage'].plot(kind='hist')"
   ]
  },
  {
   "cell_type": "code",
   "execution_count": 423,
   "metadata": {},
   "outputs": [
    {
     "data": {
      "text/plain": [
       "0.4545    247638\n",
       "0.4111    229145\n",
       "0.5150    165753\n",
       "0.6541    112671\n",
       "0.5536     46031\n",
       "Name: perc_percentage, dtype: int64"
      ]
     },
     "execution_count": 423,
     "metadata": {},
     "output_type": "execute_result"
    }
   ],
   "source": [
    "calculation_table_new['perc_percentage'].value_counts()"
   ]
  },
  {
   "cell_type": "code",
   "execution_count": null,
   "metadata": {},
   "outputs": [],
   "source": [
    "#before \n",
    "'''\n",
    "calculation_table['risk_factor'].describe()\n",
    "count    459285.000000\n",
    "mean         -0.398944\n",
    "std           0.117510\n",
    "min          -0.758182\n",
    "25%          -0.500000\n",
    "50%          -0.386364\n",
    "75%          -0.332727\n",
    "max          -0.113636\n",
    "Name: risk_factor, dtype: float64\n",
    "'''"
   ]
  },
  {
   "cell_type": "code",
   "execution_count": 425,
   "metadata": {},
   "outputs": [],
   "source": [
    "#calculation prec riskscore\n",
    "#calculation_table['prec_risk']=calculation_table.apply(lambda x : prec_sc(x['perc_percentage']) , axis=1)\n",
    "calculation_table_new['prec_risk'] = calculation_table_new['perc_percentage']"
   ]
  },
  {
   "cell_type": "code",
   "execution_count": 426,
   "metadata": {},
   "outputs": [],
   "source": [
    "#to do: automatize this so you only need to add the columns to the list or something\n",
    "#MASSIVE TO DO DEFAULT VALUES FOR NAN IN DRGHT_RISK AND WTLGG_RISK\n",
    "#todo check ['seal_risk_score']\n",
    "#MASSIVE TO DO check the calculations \n",
    "#MASSIVE TO DO check the data loading and mapping --> why are 200k values missing even though the mapping seems ok \n",
    "\n",
    "#risk items so far\n",
    "# drght_risk\n",
    "# wtlgg_risk\n",
    "# nut_risk\n",
    "# comp_risk_score \n",
    "# seal_risk_score (we need to look at this one again)\n",
    "# temp_risk_score\n",
    "# soil_heat_risk_score\n",
    "# pH_risk\n",
    "# heat_vuln_risk\n",
    "# soil_dem_risk\n",
    "# cont_risk\n",
    "# prec_risk\n",
    "\n",
    "\n",
    "risk_items = [  'drght_risk',\n",
    "                'wtlgg_risk_norm', \n",
    "                'nut_risk_norm', \n",
    "                'comp_risk_score_norm', \n",
    "                'seal_risk_score', \n",
    "                'temp_risk_score', \n",
    "                'soil_heat_risk_score', \n",
    "                'pH_risk', \n",
    "                'heat_vuln_risk_norm',\n",
    "                'soil_dem_risk',\n",
    "                'prec_risk']\n",
    "\n",
    "calculation_table_new['risk_score'] = (calculation_table_new['drght_risk'] + \n",
    "                                    calculation_table_new['wtlgg_risk_norm'] + \n",
    "                                    calculation_table_new['nut_risk_norm'] +\n",
    "                                    calculation_table_new['comp_risk_score_norm'] +\n",
    "                                    calculation_table_new['seal_risk_score'] +\n",
    "                                    calculation_table_new['temp_risk_score'] +\n",
    "                                    calculation_table_new['soil_heat_risk_score'] +\n",
    "                                    calculation_table_new['pH_risk'] +\n",
    "                                    calculation_table_new['heat_vuln_risk_norm'] +\n",
    "                                    calculation_table_new['soil_dem_risk'] +\n",
    "                                    calculation_table_new['prec_risk']\n",
    "                                    )/(len(risk_items))\n"
   ]
  },
  {
   "cell_type": "code",
   "execution_count": null,
   "metadata": {},
   "outputs": [],
   "source": [
    "#after\n",
    "'''\n",
    "calculation_table['risk_factor'].describe()\n",
    "count    459285.000000\n",
    "mean         -0.416117\n",
    "std           0.108300\n",
    "min          -0.757500\n",
    "25%          -0.500000\n",
    "50%          -0.403333\n",
    "75%          -0.354167\n",
    "max          -0.166667\n",
    "Name: risk_factor, dtype: float64\n",
    "'''"
   ]
  },
  {
   "cell_type": "code",
   "execution_count": null,
   "metadata": {},
   "outputs": [],
   "source": [
    "# now calculating percentage_days_diff  --> prec_day_diff\n",
    "'''\n",
    "risk score will be calculated as follows:\n",
    "IF 0 to -25% THEN risk = -0.1\n",
    "IF -25 to -50% THEN risk = -0.5\n",
    "IF -50 to -75% THEN risk = -0.75\n",
    "IF -75 to -100% THEN risk = -1\n",
    "'''\n"
   ]
  },
  {
   "cell_type": "code",
   "execution_count": 428,
   "metadata": {},
   "outputs": [
    {
     "data": {
      "text/plain": [
       "array([-21.95, -43.9 , -54.76, -53.66, -46.51])"
      ]
     },
     "execution_count": 428,
     "metadata": {},
     "output_type": "execute_result"
    }
   ],
   "source": [
    "calculation_table_new['perc_percentage_days_diff'].unique()"
   ]
  },
  {
   "cell_type": "code",
   "execution_count": null,
   "metadata": {},
   "outputs": [],
   "source": [
    "#calculation_table['perc_percentage_days_diff'].mean()\n",
    "#-40.90997512706826"
   ]
  },
  {
   "cell_type": "code",
   "execution_count": 429,
   "metadata": {},
   "outputs": [
    {
     "data": {
      "text/plain": [
       "False    801238\n",
       "Name: perc_percentage_days_diff, dtype: int64"
      ]
     },
     "execution_count": 429,
     "metadata": {},
     "output_type": "execute_result"
    }
   ],
   "source": [
    "calculation_table_new['perc_percentage_days_diff'].isnull().value_counts()\n",
    "#False    601055\n",
    "#True     200231\n",
    "#Name: perc_percentage_days_diff, dtype: int64\n",
    "\n",
    "#will use the mean as value for NaNs"
   ]
  },
  {
   "cell_type": "code",
   "execution_count": null,
   "metadata": {},
   "outputs": [],
   "source": [
    "#replacing NaNs with Mean -40.91\n",
    "#calculation_table['perc_percentage_days_diff'] = calculation_table['perc_percentage_days_diff'].fillna(-40.91)"
   ]
  },
  {
   "cell_type": "code",
   "execution_count": 430,
   "metadata": {},
   "outputs": [],
   "source": [
    "calculation_table_new['perc_percentage_days_diff'] = calculation_table_new['perc_percentage_days_diff'].astype(float)"
   ]
  },
  {
   "cell_type": "code",
   "execution_count": null,
   "metadata": {},
   "outputs": [],
   "source": [
    "# categorizing precipitation risk \n",
    "def prec_days_sc(x):\n",
    "    if x<=0 and x>-25:\n",
    "        return -0.1\n",
    "    elif x<=-25 and x>-50:\n",
    "        return -0.5\n",
    "    elif x<=-50 and x>-75:\n",
    "        return -0.75\n",
    "    elif x<=-75 and x>=-100:\n",
    "        return -1\n",
    "    else:\n",
    "        return"
   ]
  },
  {
   "cell_type": "code",
   "execution_count": null,
   "metadata": {},
   "outputs": [],
   "source": [
    "#calculation prec days riskscore\n",
    "calculation_table['prec_days_risk']=calculation_table.apply(lambda x : prec_days_sc(x['perc_percentage_days_diff']) , axis=1)"
   ]
  },
  {
   "cell_type": "code",
   "execution_count": 432,
   "metadata": {},
   "outputs": [],
   "source": [
    "calculation_table_new['perc_percentage_days_diff'] = calculation_table_new['perc_percentage_days_diff']/-100"
   ]
  },
  {
   "cell_type": "code",
   "execution_count": 433,
   "metadata": {},
   "outputs": [
    {
     "data": {
      "text/plain": [
       "<AxesSubplot:ylabel='Frequency'>"
      ]
     },
     "execution_count": 433,
     "metadata": {},
     "output_type": "execute_result"
    },
    {
     "data": {
      "image/png": "[encoded data removed]",
      "text/plain": [
       "<Figure size 432x288 with 1 Axes>"
      ]
     },
     "metadata": {
      "needs_background": "light"
     },
     "output_type": "display_data"
    }
   ],
   "source": [
    "calculation_table_new['perc_percentage_days_diff'].plot(kind='hist')"
   ]
  },
  {
   "cell_type": "code",
   "execution_count": 434,
   "metadata": {},
   "outputs": [],
   "source": [
    "\n",
    "calculation_table_new['prec_days_risk'] = calculation_table_new['perc_percentage_days_diff']"
   ]
  },
  {
   "cell_type": "code",
   "execution_count": null,
   "metadata": {},
   "outputs": [],
   "source": [
    "#before\n",
    "'''\n",
    "calculation_table['risk_factor'].describe()\n",
    "count    459285.000000\n",
    "mean         -0.416117\n",
    "std           0.108300\n",
    "min          -0.757500\n",
    "25%          -0.500000\n",
    "50%          -0.403333\n",
    "75%          -0.354167\n",
    "max          -0.166667\n",
    "Name: risk_factor, dtype: float64\n",
    "'''"
   ]
  },
  {
   "cell_type": "code",
   "execution_count": 491,
   "metadata": {},
   "outputs": [],
   "source": [
    "#to do: automatize this so you only need to add the columns to the list or something\n",
    "#MASSIVE TO DO DEFAULT VALUES FOR NAN IN DRGHT_RISK AND WTLGG_RISK\n",
    "#todo check ['seal_risk_score']\n",
    "#MASSIVE TO DO check the calculations \n",
    "#MASSIVE TO DO check the data loading and mapping --> why are 200k values missing even though the mapping seems ok \n",
    "\n",
    "#risk items so far\n",
    "# drght_risk\n",
    "# wtlgg_risk\n",
    "# nut_risk\n",
    "# comp_risk_score \n",
    "# seal_risk_score (we need to look at this one again)\n",
    "# temp_risk_score\n",
    "# soil_heat_risk_score\n",
    "# pH_risk\n",
    "# heat_vuln_risk\n",
    "# soil_dem_risk\n",
    "# cont_risk\n",
    "# prec_risk\n",
    "# prec_days_risk\n",
    "\n",
    "\n",
    "risk_items = [  'drght_risk',\n",
    "                'wtlgg_risk_norm', \n",
    "                'nut_risk_norm', \n",
    "                'comp_risk_score_norm', \n",
    "                'seal_risk_score', \n",
    "                'temp_risk_score', \n",
    "                'soil_heat_risk_score', \n",
    "                'pH_risk', \n",
    "                'heat_vuln_risk_norm',\n",
    "                'soil_dem_risk',\n",
    "                'prec_risk',\n",
    "                'prec_days_risk']\n",
    "\n",
    "calculation_table_new['risk_score'] = (calculation_table_new['drght_risk'] + \n",
    "                                    calculation_table_new['wtlgg_risk_norm'] + \n",
    "                                    calculation_table_new['nut_risk_norm'] +\n",
    "                                    calculation_table_new['comp_risk_score_norm'] +\n",
    "                                    calculation_table_new['seal_risk_score'] +\n",
    "                                    calculation_table_new['temp_risk_score'] +\n",
    "                                    calculation_table_new['soil_heat_risk_score'] +\n",
    "                                    calculation_table_new['pH_risk'] +\n",
    "                                    calculation_table_new['heat_vuln_risk_norm'] +\n",
    "                                    calculation_table_new['soil_dem_risk'] +\n",
    "                                    calculation_table_new['prec_risk'] +\n",
    "                                    calculation_table_new['prec_days_risk']\n",
    "                                    )/(len(risk_items))\n"
   ]
  },
  {
   "cell_type": "code",
   "execution_count": 492,
   "metadata": {},
   "outputs": [
    {
     "data": {
      "text/plain": [
       "count    693732.000000\n",
       "mean          0.375603\n",
       "std           0.101298\n",
       "min           0.135883\n",
       "25%           0.302550\n",
       "50%           0.379217\n",
       "75%           0.453392\n",
       "max           0.723603\n",
       "Name: risk_score, dtype: float64"
      ]
     },
     "execution_count": 492,
     "metadata": {},
     "output_type": "execute_result"
    }
   ],
   "source": [
    "calculation_table_new['risk_score'].describe()"
   ]
  },
  {
   "cell_type": "code",
   "execution_count": null,
   "metadata": {},
   "outputs": [],
   "source": [
    "#after\n",
    "'''\n",
    "calculation_table['risk_factor'].describe()\n",
    "count    459285.000000\n",
    "mean         -0.420678\n",
    "std           0.101745\n",
    "min          -0.756154\n",
    "25%          -0.500000\n",
    "50%          -0.416154\n",
    "75%          -0.353846\n",
    "max          -0.161538\n",
    "Name: risk_factor, dtype: float64\n",
    "'''"
   ]
  },
  {
   "cell_type": "code",
   "execution_count": 493,
   "metadata": {},
   "outputs": [
    {
     "data": {
      "text/plain": [
       "Index(['anspueche_an_den_boden', 'art_bot', 'art_dtsch', 'baum_id', 'boden_id',\n",
       "       'bodenverdichtungstoleranz_werte', 'diff_t_max', 'diff_t_ran',\n",
       "       'diff_t_soil', 'diff_temp_score', 'drght_res', 'fl_abs', 'fl_abs_cm',\n",
       "       'gw_id', 'hitzeempfindlichkeit_werte', 'hitzevertraeglichkeit_werte',\n",
       "       'ht_night_akt', 'ht_night_ljm', 'kf', 'kontinentalitaet', 'ld',\n",
       "       'lor_id', 'naehrstoffanspruch_werte', 'naerbew', 'nutr_req',\n",
       "       'pH-milieu_sensibel_werte', 'pH_max', 'pH_min', 'per_t_soil',\n",
       "       'perc_days_diff', 'perc_diff', 'perc_percentage',\n",
       "       'perc_percentage_days_diff', 'ph_soil', 'rain_id', 'soil_id',\n",
       "       'staunaessetoleranz_werte', 'tr_night_akt', 'tr_night_ljm',\n",
       "       'trockentoleranz_werte', 'typ', 'versiegelungstoleranz_werte', 'vg',\n",
       "       'vgstrasse', 'wetter_id', 'wtlgg_res', 'wurzelsystem_werte'],\n",
       "      dtype='object')"
      ]
     },
     "execution_count": 493,
     "metadata": {},
     "output_type": "execute_result"
    }
   ],
   "source": [
    "calculation_table.columns.sort_values()"
   ]
  },
  {
   "cell_type": "code",
   "execution_count": 437,
   "metadata": {},
   "outputs": [
    {
     "data": {
      "text/html": [
       "<div>\n",
       "<style scoped>\n",
       "    .dataframe tbody tr th:only-of-type {\n",
       "        vertical-align: middle;\n",
       "    }\n",
       "\n",
       "    .dataframe tbody tr th {\n",
       "        vertical-align: top;\n",
       "    }\n",
       "\n",
       "    .dataframe thead th {\n",
       "        text-align: right;\n",
       "    }\n",
       "</style>\n",
       "<table border=\"1\" class=\"dataframe\">\n",
       "  <thead>\n",
       "    <tr style=\"text-align: right;\">\n",
       "      <th></th>\n",
       "      <th>tr_night_akt</th>\n",
       "      <th>tr_night_ljm</th>\n",
       "    </tr>\n",
       "  </thead>\n",
       "  <tbody>\n",
       "    <tr>\n",
       "      <th>0</th>\n",
       "      <td>0</td>\n",
       "      <td>0.02</td>\n",
       "    </tr>\n",
       "    <tr>\n",
       "      <th>1</th>\n",
       "      <td>0</td>\n",
       "      <td>0.02</td>\n",
       "    </tr>\n",
       "    <tr>\n",
       "      <th>2</th>\n",
       "      <td>0</td>\n",
       "      <td>0.02</td>\n",
       "    </tr>\n",
       "    <tr>\n",
       "      <th>3</th>\n",
       "      <td>0</td>\n",
       "      <td>0.02</td>\n",
       "    </tr>\n",
       "    <tr>\n",
       "      <th>4</th>\n",
       "      <td>0</td>\n",
       "      <td>0.02</td>\n",
       "    </tr>\n",
       "    <tr>\n",
       "      <th>...</th>\n",
       "      <td>...</td>\n",
       "      <td>...</td>\n",
       "    </tr>\n",
       "    <tr>\n",
       "      <th>801233</th>\n",
       "      <td>0</td>\n",
       "      <td>0.02</td>\n",
       "    </tr>\n",
       "    <tr>\n",
       "      <th>801234</th>\n",
       "      <td>0</td>\n",
       "      <td>0.02</td>\n",
       "    </tr>\n",
       "    <tr>\n",
       "      <th>801235</th>\n",
       "      <td>0</td>\n",
       "      <td>0.02</td>\n",
       "    </tr>\n",
       "    <tr>\n",
       "      <th>801236</th>\n",
       "      <td>0</td>\n",
       "      <td>0.00</td>\n",
       "    </tr>\n",
       "    <tr>\n",
       "      <th>801237</th>\n",
       "      <td>0</td>\n",
       "      <td>0.00</td>\n",
       "    </tr>\n",
       "  </tbody>\n",
       "</table>\n",
       "<p>801238 rows × 2 columns</p>\n",
       "</div>"
      ],
      "text/plain": [
       "        tr_night_akt  tr_night_ljm\n",
       "0                  0          0.02\n",
       "1                  0          0.02\n",
       "2                  0          0.02\n",
       "3                  0          0.02\n",
       "4                  0          0.02\n",
       "...              ...           ...\n",
       "801233             0          0.02\n",
       "801234             0          0.02\n",
       "801235             0          0.02\n",
       "801236             0          0.00\n",
       "801237             0          0.00\n",
       "\n",
       "[801238 rows x 2 columns]"
      ]
     },
     "execution_count": 437,
     "metadata": {},
     "output_type": "execute_result"
    }
   ],
   "source": [
    "#please check --> mean of akt is 0.0 \n",
    "calculation_table_new[['tr_night_akt', 'tr_night_ljm']]"
   ]
  },
  {
   "cell_type": "code",
   "execution_count": 494,
   "metadata": {},
   "outputs": [
    {
     "data": {
      "text/plain": [
       "count    693732.000000\n",
       "mean          0.375603\n",
       "std           0.101298\n",
       "min           0.135883\n",
       "25%           0.302550\n",
       "50%           0.379217\n",
       "75%           0.453392\n",
       "max           0.723603\n",
       "Name: risk_score, dtype: float64"
      ]
     },
     "execution_count": 494,
     "metadata": {},
     "output_type": "execute_result"
    }
   ],
   "source": [
    "calculation_table_new['risk_score'].describe()"
   ]
  },
  {
   "cell_type": "code",
   "execution_count": 495,
   "metadata": {},
   "outputs": [
    {
     "data": {
      "text/plain": [
       "<AxesSubplot:ylabel='Frequency'>"
      ]
     },
     "execution_count": 495,
     "metadata": {},
     "output_type": "execute_result"
    },
    {
     "data": {
      "image/png": "[encoded data removed]",
      "text/plain": [
       "<Figure size 432x288 with 1 Axes>"
      ]
     },
     "metadata": {
      "needs_background": "light"
     },
     "output_type": "display_data"
    }
   ],
   "source": [
    "calculation_table_new['risk_score'].plot(kind='hist')"
   ]
  },
  {
   "cell_type": "code",
   "execution_count": 496,
   "metadata": {},
   "outputs": [],
   "source": [
    "column = 'risk_score'\n",
    "calculation_table_new[column+'_norm'] = (calculation_table_new[column] - calculation_table_new[column].min()) / (calculation_table_new[column].max() - calculation_table_new[column].min())\t\n",
    "#calculation_table_new[column+'_norm'] = (calculation_table_new[column] - calculation_table_new[column].mean()) / calculation_table_new[column].std()   "
   ]
  },
  {
   "cell_type": "code",
   "execution_count": 497,
   "metadata": {},
   "outputs": [
    {
     "data": {
      "image/png": "[encoded data removed]",
      "text/plain": [
       "<Figure size 432x288 with 1 Axes>"
      ]
     },
     "metadata": {
      "needs_background": "light"
     },
     "output_type": "display_data"
    }
   ],
   "source": [
    "calculation_table_new['risk_score_norm'].plot(kind='hist', bins=45);"
   ]
  },
  {
   "cell_type": "code",
   "execution_count": 498,
   "metadata": {},
   "outputs": [],
   "source": [
    "calculation_table_new['risk_score_weighted'] = ((calculation_table_new['drght_risk'] * 10)+ \n",
    "                                            (calculation_table_new['wtlgg_risk_norm'] * 5) + \n",
    "                                            (calculation_table_new['nut_risk_norm'] * 5)+\n",
    "                                            (calculation_table_new['comp_risk_score_norm'] * 5) +\n",
    "                                            (calculation_table_new['seal_risk_score'] * 5) +\n",
    "                                            (calculation_table_new['temp_risk_score'] * 10) +\n",
    "                                            (calculation_table_new['soil_heat_risk_score'] * 10) +\n",
    "                                            (calculation_table_new['pH_risk'] * 5) +\n",
    "                                            (calculation_table_new['heat_vuln_risk_norm']* 5) +\n",
    "                                            (calculation_table_new['soil_dem_risk'] * 5) +\n",
    "                                            (calculation_table_new['cont_risk'] * 5) +\n",
    "                                            (calculation_table_new['prec_risk'] * 15)+\n",
    "                                            (calculation_table_new['prec_days_risk'] * 15)\n",
    "                                            )/(len(risk_items)*10)"
   ]
  },
  {
   "cell_type": "code",
   "execution_count": 499,
   "metadata": {},
   "outputs": [
    {
     "data": {
      "image/png": "[encoded data removed]",
      "text/plain": [
       "<Figure size 432x288 with 1 Axes>"
      ]
     },
     "metadata": {
      "needs_background": "light"
     },
     "output_type": "display_data"
    }
   ],
   "source": [
    "calculation_table_new['risk_score_weighted'].plot(kind='hist', bins=45);"
   ]
  },
  {
   "cell_type": "code",
   "execution_count": 500,
   "metadata": {},
   "outputs": [],
   "source": [
    "column = 'risk_score_weighted'\n",
    "calculation_table_new[column+'_norm'] = (calculation_table_new[column] - calculation_table_new[column].min()) / (calculation_table_new[column].max() - calculation_table_new[column].min())\t\n",
    "#calculation_table_new[column+'_norm'] = (calculation_table_new[column] - calculation_table_new[column].mean()) / calculation_table_new[column].std()   "
   ]
  },
  {
   "cell_type": "code",
   "execution_count": 501,
   "metadata": {},
   "outputs": [
    {
     "data": {
      "image/png": "[encoded data removed]",
      "text/plain": [
       "<Figure size 432x288 with 1 Axes>"
      ]
     },
     "metadata": {
      "needs_background": "light"
     },
     "output_type": "display_data"
    }
   ],
   "source": [
    "calculation_table_new['risk_score_weighted_norm'].plot(kind='hist', bins=45);"
   ]
  },
  {
   "cell_type": "code",
   "execution_count": 502,
   "metadata": {},
   "outputs": [
    {
     "data": {
      "text/plain": [
       "0.5101267676166629"
      ]
     },
     "execution_count": 502,
     "metadata": {},
     "output_type": "execute_result"
    }
   ],
   "source": [
    "calculation_table_new['risk_score_weighted_norm'].median()"
   ]
  },
  {
   "cell_type": "code",
   "execution_count": 504,
   "metadata": {},
   "outputs": [
    {
     "data": {
      "text/html": [
       "<div>\n",
       "<style scoped>\n",
       "    .dataframe tbody tr th:only-of-type {\n",
       "        vertical-align: middle;\n",
       "    }\n",
       "\n",
       "    .dataframe tbody tr th {\n",
       "        vertical-align: top;\n",
       "    }\n",
       "\n",
       "    .dataframe thead th {\n",
       "        text-align: right;\n",
       "    }\n",
       "</style>\n",
       "<table border=\"1\" class=\"dataframe\">\n",
       "  <thead>\n",
       "    <tr style=\"text-align: right;\">\n",
       "      <th></th>\n",
       "      <th>risk_score</th>\n",
       "      <th>risk_score_weighted</th>\n",
       "      <th>risk_score_weighted_norm</th>\n",
       "    </tr>\n",
       "  </thead>\n",
       "  <tbody>\n",
       "    <tr>\n",
       "      <th>count</th>\n",
       "      <td>693732.000000</td>\n",
       "      <td>693732.000000</td>\n",
       "      <td>693732.000000</td>\n",
       "    </tr>\n",
       "    <tr>\n",
       "      <th>mean</th>\n",
       "      <td>0.375603</td>\n",
       "      <td>0.343474</td>\n",
       "      <td>0.501421</td>\n",
       "    </tr>\n",
       "    <tr>\n",
       "      <th>std</th>\n",
       "      <td>0.101298</td>\n",
       "      <td>0.080782</td>\n",
       "      <td>0.181654</td>\n",
       "    </tr>\n",
       "    <tr>\n",
       "      <th>min</th>\n",
       "      <td>0.135883</td>\n",
       "      <td>0.120492</td>\n",
       "      <td>0.000000</td>\n",
       "    </tr>\n",
       "    <tr>\n",
       "      <th>25%</th>\n",
       "      <td>0.302550</td>\n",
       "      <td>0.287158</td>\n",
       "      <td>0.374783</td>\n",
       "    </tr>\n",
       "    <tr>\n",
       "      <th>50%</th>\n",
       "      <td>0.379217</td>\n",
       "      <td>0.347346</td>\n",
       "      <td>0.510127</td>\n",
       "    </tr>\n",
       "    <tr>\n",
       "      <th>75%</th>\n",
       "      <td>0.453392</td>\n",
       "      <td>0.405492</td>\n",
       "      <td>0.640879</td>\n",
       "    </tr>\n",
       "    <tr>\n",
       "      <th>max</th>\n",
       "      <td>0.723603</td>\n",
       "      <td>0.565193</td>\n",
       "      <td>1.000000</td>\n",
       "    </tr>\n",
       "  </tbody>\n",
       "</table>\n",
       "</div>"
      ],
      "text/plain": [
       "          risk_score  risk_score_weighted  risk_score_weighted_norm\n",
       "count  693732.000000        693732.000000             693732.000000\n",
       "mean        0.375603             0.343474                  0.501421\n",
       "std         0.101298             0.080782                  0.181654\n",
       "min         0.135883             0.120492                  0.000000\n",
       "25%         0.302550             0.287158                  0.374783\n",
       "50%         0.379217             0.347346                  0.510127\n",
       "75%         0.453392             0.405492                  0.640879\n",
       "max         0.723603             0.565193                  1.000000"
      ]
     },
     "execution_count": 504,
     "metadata": {},
     "output_type": "execute_result"
    }
   ],
   "source": [
    "calculation_table_new[['risk_score', 'risk_score_weighted', 'risk_score_weighted_norm']].describe()"
   ]
  },
  {
   "cell_type": "code",
   "execution_count": 505,
   "metadata": {},
   "outputs": [],
   "source": [
    "calculation_table_new.to_csv('data/analysis/final/calc_table_final_stand_11_42_11_sep.csv')"
   ]
  },
  {
   "cell_type": "code",
   "execution_count": null,
   "metadata": {},
   "outputs": [],
   "source": [
    "test = calculation_table[['baum_id', 'lor_id', 'risk_factor', 'risk_factor_weighted']]"
   ]
  },
  {
   "cell_type": "code",
   "execution_count": null,
   "metadata": {},
   "outputs": [],
   "source": [
    "test.to_csv('data/cleaned/test_output.csv')"
   ]
  },
  {
   "cell_type": "code",
   "execution_count": null,
   "metadata": {},
   "outputs": [],
   "source": [
    "testq = test.query('lor_id==455')"
   ]
  },
  {
   "cell_type": "code",
   "execution_count": null,
   "metadata": {},
   "outputs": [],
   "source": [
    "test_test_test = pd.read_csv('data/cleaned/calc_table_stand_00_56_5_sep.csv', index_col=0)"
   ]
  }
 ],
 "metadata": {
  "kernelspec": {
   "display_name": "Python 3.9.13 ('nf_geo')",
   "language": "python",
   "name": "python3"
  },
  "language_info": {
   "codemirror_mode": {
    "name": "ipython",
    "version": 3
   },
   "file_extension": ".py",
   "mimetype": "text/x-python",
   "name": "python",
   "nbconvert_exporter": "python",
   "pygments_lexer": "ipython3",
   "version": "3.9.13"
  },
  "orig_nbformat": 4,
  "vscode": {
   "interpreter": {
    "hash": "54164dac681f969475496b4542379ae320e04389f410020fc75e8e60ba0ebe96"
   }
  }
 },
 "nbformat": 4,
 "nbformat_minor": 2
}

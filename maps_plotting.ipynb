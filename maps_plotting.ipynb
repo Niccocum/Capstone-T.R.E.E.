{
 "cells": [
  {
   "cell_type": "code",
   "execution_count": 2,
   "metadata": {},
   "outputs": [],
   "source": [
    "# standard import of pandas\n",
    "import pandas as pd\n",
    "# additional import of the geopandas package\n",
    "import geopandas as gpd\n",
    "# import numpy\n",
    "import numpy as np\n",
    "# package for unzipping zip files\n",
    "import zipfile \n",
    "# driver for geopandas \n",
    "import fiona; #help(fiona.open) \n",
    "# import matplotlib\n",
    "import matplotlib.pyplot as plt\n",
    "# hides warning messages\n",
    "#import warnings\n",
    "#warnings.filterwarnings(\"ignore\")"
   ]
  },
  {
   "cell_type": "code",
   "execution_count": 3,
   "metadata": {},
   "outputs": [],
   "source": [
    "#import tree geodata, trees as point locations\n",
    "trees= gpd.read_file('data/analysis/trees_cl.geojson')"
   ]
  },
  {
   "cell_type": "code",
   "execution_count": 4,
   "metadata": {},
   "outputs": [],
   "source": [
    "#import LOR data of Berlin --> Lebensweltlich orientierte Räume --> to cluster\n",
    "lor = gpd.read_file('data/cleaned/lor_cl.geojson')"
   ]
  },
  {
   "cell_type": "code",
   "execution_count": 5,
   "metadata": {},
   "outputs": [],
   "source": [
    "#import geodata of Berlins buildungs \n",
    "build = gpd.read_file('data/geodata/gebaeude.shp')"
   ]
  },
  {
   "cell_type": "code",
   "execution_count": 7,
   "metadata": {},
   "outputs": [],
   "source": [
    "#import point locations of groundwater measuring stations in Berlin\n",
    "gw = gpd.read_file('data/cleaned/gw_subset_cl_changed_05_09_22_.geojson')"
   ]
  },
  {
   "cell_type": "code",
   "execution_count": 8,
   "metadata": {},
   "outputs": [],
   "source": [
    "#import geodata of Berlins streets\n",
    "street = gpd.read_file('data/geodata/strassenflaechen.geojson')"
   ]
  },
  {
   "cell_type": "code",
   "execution_count": 9,
   "metadata": {},
   "outputs": [],
   "source": [
    "#import point locaitons of weather stations \n",
    "wetter = gpd.read_file('data/cleaned/wetter_id.geojson')"
   ]
  },
  {
   "cell_type": "code",
   "execution_count": 14,
   "metadata": {},
   "outputs": [],
   "source": [
    "#import geodata on lakes & rivers in Berlin\n",
    "water = gpd.read_file('data/geodata/Water.geojson')"
   ]
  },
  {
   "cell_type": "code",
   "execution_count": 10,
   "metadata": {},
   "outputs": [],
   "source": [
    "#mapping the subplots CRS to the CRS of the LORs, which will be used as a base plot of the map \n",
    "trees = trees.to_crs(lor.crs)\n",
    "build = build.to_crs(lor.crs)\n",
    "street = street.to_crs(lor.crs)\n",
    "wetter = wetter.to_crs(lor.crs)"
   ]
  },
  {
   "cell_type": "code",
   "execution_count": 17,
   "metadata": {},
   "outputs": [],
   "source": [
    "#same for water\n",
    "water = water.to_crs(lor.crs)"
   ]
  },
  {
   "cell_type": "code",
   "execution_count": 11,
   "metadata": {},
   "outputs": [],
   "source": [
    "#same for gw\n",
    "gw = gw.to_crs(lor.crs)"
   ]
  },
  {
   "cell_type": "code",
   "execution_count": 1,
   "metadata": {},
   "outputs": [],
   "source": [
    "cm = 1/2.54"
   ]
  },
  {
   "cell_type": "code",
   "execution_count": 20,
   "metadata": {},
   "outputs": [],
   "source": [
    "#final plot\n",
    "lor['coords'] = lor['geometry'].apply(lambda x: x.representative_point().coords[:])\n",
    "lor['coords'] = [coords[0] for coords in lor['coords']]\n",
    "\n",
    "fig, ax = plt.subplots(figsize=(300*cm,500*cm))\n",
    "ax.set_aspect('equal')\n",
    "\n",
    "lor.plot(ax=ax, color='white', edgecolor='black', lw=5)  \n",
    "street.plot(ax=ax, color='grey')#, edgecolor='magenta'\n",
    "build.plot(ax=ax, color='mistyrose')\n",
    "trees.plot(ax=ax, linewidth=1,marker = '*', color=\"forestgreen\", markersize=5)\n",
    "wetter.plot(ax=ax, marker='o', color='gold', markersize=200)\n",
    "water.plot(ax=ax, color='slategrey', edgecolor='steelblue')\n",
    "gw.plot(ax=ax, marker='o', color='steelblue', markersize=200)\n",
    "lor.apply(lambda x: ax.annotate(text=x['plr_name'], xy=x.geometry.centroid.coords[0], ha='center'), axis=1)\n",
    "\n",
    "plt.show();"
   ]
  },
  {
   "cell_type": "code",
   "execution_count": null,
   "metadata": {},
   "outputs": [],
   "source": [
    "#final plot\n",
    "lor['coords'] = lor['geometry'].apply(lambda x: x.representative_point().coords[:])\n",
    "lor['coords'] = [coords[0] for coords in lor['coords']]\n",
    "\n",
    "fig, ax = plt.subplots(figsize=(150,150))\n",
    "ax.set_aspect('equal')\n",
    "\n",
    "lor.plot(ax=ax, color='white', edgecolor='black', lw=5)  \n",
    "street.plot(ax=ax, color='grey')#, edgecolor='magenta'\n",
    "build.plot(ax=ax, color='mistyrose')\n",
    "trees.plot(ax=ax, linewidth=1,marker = '*', color=\"forestgreen\", markersize=5)\n",
    "wetter.plot(ax=ax, marker='o', color='gold', markersize=200)\n",
    "gw.plot(ax=ax, marker='o', color='steelblue', markersize=200)\n",
    "lor.apply(lambda x: ax.annotate(text=x['plr_name'], xy=x.geometry.centroid.coords[0], ha='center'), axis=1)\n",
    "\n",
    "plt.show();"
   ]
  }
 ],
 "metadata": {
  "kernelspec": {
   "display_name": "Python 3.9.13 ('nf_geo')",
   "language": "python",
   "name": "python3"
  },
  "language_info": {
   "codemirror_mode": {
    "name": "ipython",
    "version": 3
   },
   "file_extension": ".py",
   "mimetype": "text/x-python",
   "name": "python",
   "nbconvert_exporter": "python",
   "pygments_lexer": "ipython3",
   "version": "3.9.13"
  },
  "orig_nbformat": 4,
  "vscode": {
   "interpreter": {
    "hash": "54164dac681f969475496b4542379ae320e04389f410020fc75e8e60ba0ebe96"
   }
  }
 },
 "nbformat": 4,
 "nbformat_minor": 2
}

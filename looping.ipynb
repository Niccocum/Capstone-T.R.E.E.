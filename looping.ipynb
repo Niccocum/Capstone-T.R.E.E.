{
 "cells": [
  {
   "cell_type": "code",
   "execution_count": null,
   "metadata": {},
   "outputs": [],
   "source": [
    "# standard import of pandas\n",
    "import pandas as pd\n",
    "\n",
    "# numpy, \"numerical python\" - we'll cover this in the following notebooks.\n",
    "import numpy as np\n",
    "\n",
    "# hides warning messages\n",
    "import warnings\n",
    "warnings.filterwarnings(\"ignore\")\n",
    "# additional import of the geopandas package\n",
    "import geopandas as gpd \n",
    "\n",
    "import zipfile # package for unzipping zip files\n",
    "\n",
    "import fiona; #help(fiona.open) # driver for geopandas \n",
    "\n",
    "from shapely.geometry import Point, Polygon\n",
    "\n",
    "import matplotlib.pyplot as plt"
   ]
  },
  {
   "cell_type": "code",
   "execution_count": null,
   "metadata": {},
   "outputs": [],
   "source": [
    "anlagebaeume = gpd.read_file(\"data/cleaned/anlage_cl.geojson\")\n",
    "strassenbaeume = gpd.read_file(\"data/cleaned/strasse_cl.geojson\")\n"
   ]
  },
  {
   "cell_type": "code",
   "execution_count": null,
   "metadata": {},
   "outputs": [],
   "source": [
    "lor = gpd.read_file(\"data/LOR_Planungraeume_Berlin.geojson\")"
   ]
  },
  {
   "cell_type": "code",
   "execution_count": null,
   "metadata": {},
   "outputs": [],
   "source": [
    "#looking at lor, deciding which columns to keep\n",
    "lor"
   ]
  },
  {
   "cell_type": "code",
   "execution_count": null,
   "metadata": {},
   "outputs": [],
   "source": [
    "columns_to_keep_lor = ['OBJECTID', 'PLR_ID', 'PLR_NAME', 'BEZ', 'BZR_NAME', 'FINHALT', 'geometry']\n"
   ]
  },
  {
   "cell_type": "code",
   "execution_count": null,
   "metadata": {},
   "outputs": [],
   "source": [
    "lor_cl = lor[columns_to_keep_lor]"
   ]
  },
  {
   "cell_type": "code",
   "execution_count": null,
   "metadata": {},
   "outputs": [],
   "source": [
    "lor_cl.rename(columns={\"OBJECTID\": \"lor_id\"}, inplace=True)"
   ]
  },
  {
   "cell_type": "code",
   "execution_count": null,
   "metadata": {},
   "outputs": [],
   "source": [
    "lor_cl.head()"
   ]
  },
  {
   "cell_type": "code",
   "execution_count": null,
   "metadata": {},
   "outputs": [],
   "source": [
    "lor_cl.info() # we still need to convert PLR ID and BEZ to INT"
   ]
  },
  {
   "cell_type": "code",
   "execution_count": null,
   "metadata": {},
   "outputs": [],
   "source": [
    "#lowercase for column headers\n",
    "lor_cl= lor_cl.rename(columns=str.lower)"
   ]
  },
  {
   "cell_type": "code",
   "execution_count": null,
   "metadata": {},
   "outputs": [],
   "source": [
    "lor_cl.head()\n"
   ]
  },
  {
   "cell_type": "code",
   "execution_count": null,
   "metadata": {},
   "outputs": [],
   "source": [
    "#converting plr_id from object to int (it worked on the first try)\n",
    "lor_cl['plr_id'] = lor_cl['plr_id'].astype(int)"
   ]
  },
  {
   "cell_type": "code",
   "execution_count": null,
   "metadata": {},
   "outputs": [],
   "source": [
    "#same for bez, frist try worked. omg\n",
    "lor_cl['bez'] = lor_cl['bez'].astype(int)"
   ]
  },
  {
   "cell_type": "code",
   "execution_count": null,
   "metadata": {},
   "outputs": [],
   "source": [
    "#info \n",
    "lor_cl.info()"
   ]
  },
  {
   "cell_type": "code",
   "execution_count": null,
   "metadata": {},
   "outputs": [],
   "source": [
    "lor_cl.to_file(\"data/cleaned/lor_cl.geojson\", driver='GeoJSON')"
   ]
  },
  {
   "cell_type": "code",
   "execution_count": null,
   "metadata": {},
   "outputs": [],
   "source": [
    "#preparing testplot \n",
    "#crs\n",
    "strassenbaeume = strassenbaeume.to_crs(lor_cl.crs)"
   ]
  },
  {
   "cell_type": "code",
   "execution_count": null,
   "metadata": {},
   "outputs": [],
   "source": [
    "# testplot to see if geodata still intact and OBJECT ID labels are working\n",
    "lor_cl['coords'] = lor_cl['geometry'].apply(lambda x: x.representative_point().coords[:])\n",
    "lor_cl['coords'] = [coords[0] for coords in lor_cl['coords']]\n",
    "\n",
    "fig, ax = plt.subplots(figsize=(25,25))\n",
    "ax.set_aspect('equal')\n",
    "lor_cl.boundary.plot(ax=ax, color='black', edgecolor='black')\n",
    "strassenbaeume.plot(ax=ax, linewidth=1,marker = 'o', color=\"seagreen\", markersize=5)\n",
    "lor_cl.apply(lambda x: ax.annotate(text=x['lor_id'], xy=x.geometry.centroid.coords[0], ha='center'), axis=1)\n",
    "\n",
    "plt.show();\n",
    "\n",
    "#YAY it works \"FREE PIZZA FOR EVERYONE\""
   ]
  },
  {
   "cell_type": "code",
   "execution_count": null,
   "metadata": {},
   "outputs": [],
   "source": [
    "# preparing to cluster \n",
    "# anlagebaeume & lor_cl --> geojoson anlagebaeume --> point; lor_cl --> poly  \n",
    "#mapping crs of anlagebaeume to crs of lor_cl\n",
    "anlagebaeume = anlagebaeume.to_crs(lor_cl.crs)"
   ]
  },
  {
   "cell_type": "code",
   "execution_count": null,
   "metadata": {},
   "outputs": [],
   "source": [
    "#Perform spatial join to match points --> 'anlagebaeume' and polygons --> 'lor'\n",
    "anlage_sj = gpd.tools.sjoin(anlagebaeume, lor_cl, predicate=\"within\", how='left')"
   ]
  },
  {
   "cell_type": "code",
   "execution_count": null,
   "metadata": {},
   "outputs": [],
   "source": [
    "#check table structure\n",
    "anlage_sj"
   ]
  },
  {
   "cell_type": "code",
   "execution_count": null,
   "metadata": {},
   "outputs": [],
   "source": [
    "ids_to_keep = ['baumid', 'lor_id', 'geometry']\n",
    "anlage_sj_rdcd = anlage_sj[ids_to_keep]\n",
    "strasse_sj_rdcd = strasse_sj[ids_to_keep]"
   ]
  },
  {
   "cell_type": "code",
   "execution_count": null,
   "metadata": {},
   "outputs": [],
   "source": [
    "display(anlage_sj_rdcd)\n",
    "display(strasse_sj_rdcd)"
   ]
  },
  {
   "cell_type": "code",
   "execution_count": null,
   "metadata": {},
   "outputs": [],
   "source": [
    "anlage_sj_rdcd.to_file(\"data/cleaned/anlage_ids_clean.geojson\", driver='GeoJSON')"
   ]
  },
  {
   "cell_type": "code",
   "execution_count": null,
   "metadata": {},
   "outputs": [],
   "source": [
    "strasse_sj_rdcd.to_file(\"data/cleaned/strasse_ids_clean.geojson\", driver='GeoJSON')"
   ]
  },
  {
   "cell_type": "code",
   "execution_count": null,
   "metadata": {},
   "outputs": [],
   "source": [
    "#Perform spatial join to match points --> 'strassenbaeume' and polygons --> 'lor_cl'\n",
    "strasse_sj = gpd.tools.sjoin(strassenbaeume, lor_cl, predicate=\"within\", how='left')"
   ]
  },
  {
   "cell_type": "code",
   "execution_count": null,
   "metadata": {},
   "outputs": [],
   "source": [
    "#check table structure\n",
    "strasse_sj.head(1)"
   ]
  },
  {
   "cell_type": "code",
   "execution_count": null,
   "metadata": {},
   "outputs": [],
   "source": [
    "#clustering all 'strassenbaeume' in LOR 525 Parchimer Allee Süd\n",
    "str_clstr_525 = strassenbaeume[strasse_sj.lor_id==525]"
   ]
  },
  {
   "cell_type": "code",
   "execution_count": null,
   "metadata": {},
   "outputs": [],
   "source": [
    "str_clstr_525"
   ]
  },
  {
   "cell_type": "code",
   "execution_count": null,
   "metadata": {},
   "outputs": [],
   "source": [
    "# testplot to see if geodata still intact \n",
    "lor_cl['coords'] = lor_cl['geometry'].apply(lambda x: x.representative_point().coords[:])\n",
    "lor_cl['coords'] = [coords[0] for coords in lor_cl['coords']]\n",
    "\n",
    "fig, ax = plt.subplots(figsize=(25,25))\n",
    "ax.set_aspect('equal')\n",
    "lor_cl.boundary.plot(ax=ax, color='black', edgecolor='black')\n",
    "strassenbaeume.plot(ax=ax, linewidth=1,marker = 'o', color=\"seagreen\", markersize=5)\n",
    "str_clstr_525.plot(ax=ax, marker='o', color='gold', markersize=5)\n",
    "lor_cl.apply(lambda x: ax.annotate(text=x['lor_id'], xy=x.geometry.centroid.coords[0], ha='center'), axis=1)\n",
    "\n",
    "plt.show();\n",
    "\n",
    "#YAY it works \"FREE PIZZA FOR EVERYONE\""
   ]
  },
  {
   "cell_type": "code",
   "execution_count": null,
   "metadata": {},
   "outputs": [],
   "source": [
    "# read csv with LOR id and LOR name as lor_ids\n",
    "lor_fc = pd.read_csv('data/lor_id.csv')"
   ]
  },
  {
   "cell_type": "code",
   "execution_count": null,
   "metadata": {},
   "outputs": [],
   "source": [
    "#create list of all LOR IDs to perform for loop\n",
    "lor_lst = lor_fc['lor_id'].tolist()"
   ]
  },
  {
   "cell_type": "code",
   "execution_count": null,
   "metadata": {},
   "outputs": [],
   "source": [
    "#checking new files\n",
    "\n",
    "boden_berlin = gpd.read_file(\"data/Bodenkundliche Kennwerte.geojson\")"
   ]
  },
  {
   "cell_type": "code",
   "execution_count": null,
   "metadata": {},
   "outputs": [],
   "source": [
    "boden_berlin.head()"
   ]
  },
  {
   "cell_type": "code",
   "execution_count": null,
   "metadata": {},
   "outputs": [],
   "source": [
    "vers_berlin = gpd.read_file(\"data/Versiegelung.geojson\")"
   ]
  },
  {
   "cell_type": "code",
   "execution_count": null,
   "metadata": {},
   "outputs": [],
   "source": [
    "#keep 'vg', 'vgstrasse', 'feld_30',\t'feld_150', 'geometry' 'regenja' 'regenso'\n",
    "vers_berlin.head()\n",
    "#schl5 --> ID --> rename to boden_id"
   ]
  },
  {
   "cell_type": "code",
   "execution_count": null,
   "metadata": {},
   "outputs": [],
   "source": [
    "#  31  phobermin      24655 non-null  float64 \n",
    "# 32  phobermax      24655 non-null  object  \n",
    "# 33  phoberdur      24655 non-null  float64 \n",
    "# 34  phstufe_o      24655 non-null  float64 \n",
    "# 35  phstufe_o_bez  24655 non-null  object  \n",
    "# 36  phuntermin     24655 non-null  object  \n",
    "# 37  phuntermax     24655 non-null  object  \n",
    "# 38  phunterdur     24655 non-null  float64 \n",
    "# 39  phstufe_u      24655 non-null  float64 \n",
    "# 40  phstufe_u_bez  24655 non-null  object  \n",
    "# 54  kf_o           24655 non-null  float64 \n",
    "# 55  kfstufe_o      24655 non-null  float64 \n",
    "# 56  kfstufe_o_bez  24655 non-null  object  \n",
    "# 57  kf_u           24655 non-null  float64 \n",
    "# 58  kfstufe_u      24655 non-null  float64 \n",
    "# 59  kfstufe_u_bez  24655 non-null  object  \n",
    "# 60  kf             24655 non-null  float64 \n",
    "# 61  kfstufe        24655 non-null  float64 \n",
    "# 62  kfstufe_bez    24655 non-null  object  \n",
    "# 63  geometry       24655 non-null  geometry\n",
    "boden_berlin.info()\n",
    "\n",
    "#schl5 --> ID --> rename to boden_id"
   ]
  }
 ],
 "metadata": {
  "kernelspec": {
   "display_name": "Python 3.9.13 ('nf_geo')",
   "language": "python",
   "name": "python3"
  },
  "language_info": {
   "codemirror_mode": {
    "name": "ipython",
    "version": 3
   },
   "file_extension": ".py",
   "mimetype": "text/x-python",
   "name": "python",
   "nbconvert_exporter": "python",
   "pygments_lexer": "ipython3",
   "version": "3.9.13"
  },
  "orig_nbformat": 4,
  "vscode": {
   "interpreter": {
    "hash": "54164dac681f969475496b4542379ae320e04389f410020fc75e8e60ba0ebe96"
   }
  }
 },
 "nbformat": 4,
 "nbformat_minor": 2
}
